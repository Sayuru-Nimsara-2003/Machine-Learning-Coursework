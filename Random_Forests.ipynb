{
 "cells": [
  {
   "cell_type": "code",
   "execution_count": 67,
   "id": "ed5643f7-35e6-4d3e-a3ba-9f434e07b988",
   "metadata": {},
   "outputs": [],
   "source": [
    "import pandas as pd\n",
    "import numpy as np\n",
    "import matplotlib.pyplot as plt\n",
    "import seaborn as sns\n",
    "\n",
    "sns.set_style('darkgrid')\n",
    "pd.set_option('display.max_columns', 50)\n",
    "pd.set_option('display.max_rows', 30)\n",
    "\n",
    "df = pd.read_csv('dataset2.csv')"
   ]
  },
  {
   "cell_type": "code",
   "execution_count": 68,
   "id": "4a8a0896-20ea-4f77-89a6-1ad4f69ecdb1",
   "metadata": {},
   "outputs": [
    {
     "data": {
      "image/png": "[encoded data removed]",
      "text/plain": [
       "<Figure size 640x480 with 1 Axes>"
      ]
     },
     "metadata": {},
     "output_type": "display_data"
    }
   ],
   "source": [
    "y_counts = df.y.value_counts()\n",
    "plt.pie(y_counts.values, labels=y_counts.index)\n",
    "plt.title('subscription ratio');"
   ]
  },
  {
   "cell_type": "code",
   "execution_count": 69,
   "id": "829a44c8-5cbd-4556-af11-68e894f3f7c6",
   "metadata": {},
   "outputs": [
    {
     "data": {
      "text/plain": [
       "y\n",
       "no     39487\n",
       "yes     5011\n",
       "Name: count, dtype: int64"
      ]
     },
     "execution_count": 69,
     "metadata": {},
     "output_type": "execute_result"
    }
   ],
   "source": [
    "y_counts"
   ]
  },
  {
   "cell_type": "markdown",
   "id": "0a4a6d99-7fb4-4845-8038-e99751e9bef8",
   "metadata": {},
   "source": [
    "### Using Random Forests without any resampling"
   ]
  },
  {
   "cell_type": "code",
   "execution_count": 75,
   "id": "18fd6b12-f99d-481b-a03a-1d4fdb7842e9",
   "metadata": {},
   "outputs": [
    {
     "name": "stdout",
     "output_type": "stream",
     "text": [
      "Accuracy: 0.9082022471910113\n",
      "Classification Report:\n",
      "              precision    recall  f1-score   support\n",
      "\n",
      "          no       0.93      0.97      0.95      7898\n",
      "         yes       0.65      0.39      0.49      1002\n",
      "\n",
      "    accuracy                           0.91      8900\n",
      "   macro avg       0.79      0.68      0.72      8900\n",
      "weighted avg       0.90      0.91      0.90      8900\n",
      "\n"
     ]
    }
   ],
   "source": [
    "from sklearn.ensemble import RandomForestClassifier\n",
    "from sklearn.model_selection import train_test_split\n",
    "from sklearn.preprocessing import LabelEncoder\n",
    "from sklearn.metrics import accuracy_score, classification_report\n",
    "\n",
    "X = df.drop(columns=['y'])\n",
    "y = df['y']\n",
    "\n",
    "X_train, X_test, y_train, y_test = train_test_split(X, y,test_size=0.2, random_state=42, stratify=y)\n",
    "\n",
    "rf_classifier = RandomForestClassifier(n_estimators=100, random_state=42)\n",
    "rf_classifier.fit(X_train, y_train)\n",
    "\n",
    "y_pred = rf_classifier.predict(X_test)\n",
    "\n",
    "accuracy = accuracy_score(y_test, y_pred)\n",
    "report = classification_report(y_test, y_pred)\n",
    "\n",
    "print(f\"Accuracy: {accuracy}\")\n",
    "print(f\"Classification Report:\\n{report}\")"
   ]
  },
  {
   "cell_type": "code",
   "execution_count": null,
   "id": "69e01932-49d0-4b94-8615-92321b71d305",
   "metadata": {},
   "outputs": [],
   "source": []
  },
  {
   "cell_type": "markdown",
   "id": "b27c9996-541a-44eb-a963-23fbea790700",
   "metadata": {},
   "source": [
    "### Using Random Forests with 'SMOTE'"
   ]
  },
  {
   "cell_type": "code",
   "execution_count": 92,
   "id": "cafed3ab-5e9d-405c-aaf9-87c4dc922de7",
   "metadata": {},
   "outputs": [
    {
     "name": "stdout",
     "output_type": "stream",
     "text": [
      "Accuracy: 0.8930337078651686\n",
      "Classification Report:\n",
      "              precision    recall  f1-score   support\n",
      "\n",
      "          no       0.96      0.92      0.94      7898\n",
      "         yes       0.52      0.66      0.58      1002\n",
      "\n",
      "    accuracy                           0.89      8900\n",
      "   macro avg       0.74      0.79      0.76      8900\n",
      "weighted avg       0.91      0.89      0.90      8900\n",
      "\n"
     ]
    }
   ],
   "source": [
    "X = df.drop(columns=['y'])\n",
    "y = df['y']\n",
    "\n",
    "from sklearn.ensemble import RandomForestClassifier\n",
    "from sklearn.model_selection import train_test_split\n",
    "from sklearn.preprocessing import LabelEncoder\n",
    "from sklearn.metrics import accuracy_score, classification_report\n",
    "from imblearn.over_sampling import SMOTE\n",
    "\n",
    "X_train, X_test, y_train, y_test = train_test_split(X, y,test_size=0.2, random_state=42, stratify=y)\n",
    "\n",
    "# Smote for training set\n",
    "smote = SMOTE(random_state=54)\n",
    "X_train_smote, y_train_smote = smote.fit_resample(X_train, y_train)\n",
    "\n",
    "rf_classifier = RandomForestClassifier(n_estimators=200, random_state=54)\n",
    "rf_classifier.fit(X_train_smote, y_train_smote)\n",
    "\n",
    "y_pred = rf_classifier.predict(X_test)\n",
    "\n",
    "accuracy = accuracy_score(y_test, y_pred)\n",
    "report = classification_report(y_test, y_pred)\n",
    "\n",
    "print(f\"Accuracy: {accuracy}\")\n",
    "print(f\"Classification Report:\\n{report}\")"
   ]
  },
  {
   "cell_type": "markdown",
   "id": "97aaad22-e4c7-41e7-b98a-2b9d534fc431",
   "metadata": {},
   "source": [
    "## Optimizing the model"
   ]
  },
  {
   "cell_type": "code",
   "execution_count": null,
   "id": "fe69ad24-9dc2-4504-99dd-e59ed6a6cbfc",
   "metadata": {},
   "outputs": [],
   "source": []
  },
  {
   "cell_type": "markdown",
   "id": "74ce11d8-0e8b-406c-abf5-23dab07f847e",
   "metadata": {},
   "source": [
    "### 1. Identifying overfitting"
   ]
  },
  {
   "cell_type": "markdown",
   "id": "3c6b59f4-2a0c-460f-807c-9cea2e4d38ef",
   "metadata": {},
   "source": [
    "#### 1) train vs. test accuracy"
   ]
  },
  {
   "cell_type": "code",
   "execution_count": 79,
   "id": "1c51c398-d3f0-4bb5-b001-9e41a9b41416",
   "metadata": {},
   "outputs": [
    {
     "name": "stdout",
     "output_type": "stream",
     "text": [
      "Training Accuracy: 1.0\n",
      "Training Classification Report:\n",
      " {'no': {'precision': 1.0, 'recall': 1.0, 'f1-score': 1.0, 'support': 31589.0}, 'yes': {'precision': 1.0, 'recall': 1.0, 'f1-score': 1.0, 'support': 31589.0}, 'accuracy': 1.0, 'macro avg': {'precision': 1.0, 'recall': 1.0, 'f1-score': 1.0, 'support': 63178.0}, 'weighted avg': {'precision': 1.0, 'recall': 1.0, 'f1-score': 1.0, 'support': 63178.0}}\n",
      "Test Accuracy: 0.8930337078651686\n",
      "Test Classification Report:\n",
      " {'no': {'precision': 0.9557742782152231, 'recall': 0.9221321853633832, 'f1-score': 0.9386518881299136, 'support': 7898.0}, 'yes': {'precision': 0.51953125, 'recall': 0.6636726546906188, 'f1-score': 0.5828220858895705, 'support': 1002.0}, 'accuracy': 0.8930337078651686, 'macro avg': {'precision': 0.7376527641076116, 'recall': 0.792902420027001, 'f1-score': 0.760736987009742, 'support': 8900.0}, 'weighted avg': {'precision': 0.9066601754880711, 'recall': 0.8930337078651686, 'f1-score': 0.8985910497203828, 'support': 8900.0}}\n"
     ]
    }
   ],
   "source": [
    "# Evaluate performance on training set\n",
    "y_train_pred = rf_classifier.predict(X_train_smote)\n",
    "train_accuracy = accuracy_score(y_train_smote, y_train_pred)\n",
    "train_report = classification_report(y_train_smote, y_train_pred, output_dict=True)\n",
    "\n",
    "# Evaluate performance on test set\n",
    "y_test_pred = rf_classifier.predict(X_test)\n",
    "test_accuracy = accuracy_score(y_test, y_test_pred)\n",
    "test_report = classification_report(y_test, y_test_pred, output_dict=True)\n",
    "\n",
    "\n",
    "print(\"Training Accuracy:\", train_accuracy)\n",
    "print(\"Training Classification Report:\\n\", train_report)\n",
    "print(\"Test Accuracy:\", test_accuracy)\n",
    "print(\"Test Classification Report:\\n\", test_report)"
   ]
  },
  {
   "cell_type": "markdown",
   "id": "7216c00f-3d7b-4631-87ea-8ffeb94c4353",
   "metadata": {},
   "source": [
    "#### 2) cross validation scores"
   ]
  },
  {
   "cell_type": "code",
   "execution_count": 85,
   "id": "786e6285-286c-4442-945d-2efa381d685a",
   "metadata": {},
   "outputs": [
    {
     "name": "stdout",
     "output_type": "stream",
     "text": [
      "Stratified CV Scores: [0.89370787 0.89179775 0.89606742 0.89953927 0.89549388]\n",
      "Mean Stratified CV Accuracy: 0.8953212366999953\n"
     ]
    }
   ],
   "source": [
    "from sklearn.model_selection import StratifiedKFold\n",
    "from sklearn.ensemble import RandomForestClassifier\n",
    "from sklearn.model_selection import cross_val_score\n",
    "from imblearn.over_sampling import SMOTE\n",
    "import numpy as np\n",
    "\n",
    "X = df.drop(columns=['y'])\n",
    "y = df['y']\n",
    "\n",
    "# Initialize Random Forest and SMOTE\n",
    "rf_classifier = RandomForestClassifier(n_estimators=200, random_state=54)\n",
    "smote = SMOTE(random_state=54)\n",
    "\n",
    "# Stratified K-Fold Cross-Validation\n",
    "skf = StratifiedKFold(n_splits=5, shuffle=True, random_state=54)\n",
    "\n",
    "# List to store CV scores\n",
    "cv_scores = []\n",
    "\n",
    "# Perform cross-validation\n",
    "for train_index, test_index in skf.split(X, y):\n",
    "    # Split the data into training and test sets\n",
    "    X_train, X_test = X.iloc[train_index], X.iloc[test_index]\n",
    "    y_train, y_test = y.iloc[train_index], y.iloc[test_index]\n",
    "    \n",
    "    # Apply SMOTE to the training data\n",
    "    X_train_smote, y_train_smote = smote.fit_resample(X_train, y_train)\n",
    "    \n",
    "    # Train the model on the resampled training data\n",
    "    rf_classifier.fit(X_train_smote, y_train_smote)\n",
    "    \n",
    "    # Evaluate on the test set (not resampled)\n",
    "    accuracy = rf_classifier.score(X_test, y_test)\n",
    "    cv_scores.append(accuracy)\n",
    "\n",
    "# Convert to numpy array for easier calculation\n",
    "cv_scores = np.array(cv_scores)\n",
    "\n",
    "# Output results\n",
    "print(\"Stratified CV Scores:\", cv_scores)\n",
    "print(\"Mean Stratified CV Accuracy:\", cv_scores.mean())\n"
   ]
  },
  {
   "cell_type": "code",
   "execution_count": 81,
   "id": "a956edc4-5048-4313-95f1-50a7f8016691",
   "metadata": {},
   "outputs": [
    {
     "name": "stdout",
     "output_type": "stream",
     "text": [
      "Stratified CV F1 Scores for 'yes' class: [0.59661311 0.57604895 0.58844444 0.60632689 0.58488889]\n",
      "Mean Stratified CV F1 Score for 'yes' class: 0.5904644573984321\n"
     ]
    }
   ],
   "source": [
    "from sklearn.model_selection import StratifiedKFold\n",
    "from sklearn.ensemble import RandomForestClassifier\n",
    "from sklearn.metrics import make_scorer, f1_score\n",
    "from imblearn.over_sampling import SMOTE\n",
    "import numpy as np\n",
    "\n",
    "X = df.drop(columns=['y'])\n",
    "y = df['y']\n",
    "\n",
    "# Initialize Random Forest and SMOTE\n",
    "rf_classifier = RandomForestClassifier(n_estimators=100, random_state=54)\n",
    "smote = SMOTE(random_state=54)\n",
    "\n",
    "# Stratified K-Fold Cross-Validation\n",
    "skf = StratifiedKFold(n_splits=5, shuffle=True, random_state=54)\n",
    "\n",
    "# List to store CV scores\n",
    "f1_scores = []\n",
    "\n",
    "# Perform cross-validation\n",
    "for train_index, test_index in skf.split(X, y):\n",
    "    # Split the data into training and test sets\n",
    "    X_train, X_test = X.iloc[train_index], X.iloc[test_index]\n",
    "    y_train, y_test = y.iloc[train_index], y.iloc[test_index]\n",
    "    \n",
    "    # Apply SMOTE to the training data\n",
    "    X_train_smote, y_train_smote = smote.fit_resample(X_train, y_train)\n",
    "    \n",
    "    # Train the model on the resampled training data\n",
    "    rf_classifier.fit(X_train_smote, y_train_smote)\n",
    "    \n",
    "    # Predict on the test set\n",
    "    y_pred = rf_classifier.predict(X_test)\n",
    "    \n",
    "    # Calculate the F1-Score for the minority class ('yes')\n",
    "    f1 = f1_score(y_test, y_pred, pos_label='yes')  # Use the 'yes' class for minority\n",
    "    f1_scores.append(f1)\n",
    "\n",
    "# Convert to numpy array for easier calculation\n",
    "f1_scores = np.array(f1_scores)\n",
    "\n",
    "# Output results\n",
    "print(\"Stratified CV F1 Scores for 'yes' class:\", f1_scores)\n",
    "print(\"Mean Stratified CV F1 Score for 'yes' class:\", f1_scores.mean())\n"
   ]
  },
  {
   "cell_type": "code",
   "execution_count": 86,
   "id": "dafc0fcd-79a1-4465-9772-5418ddc39789",
   "metadata": {},
   "outputs": [
    {
     "name": "stdout",
     "output_type": "stream",
     "text": [
      "Stratified CV F1 Scores for 'no' class: [0.94005291 0.93746777 0.94045016 0.94227548 0.93992797]\n",
      "Mean Stratified CV F1 Score for 'no' class: 0.9400348572208952\n"
     ]
    }
   ],
   "source": [
    "from sklearn.model_selection import StratifiedKFold\n",
    "from sklearn.ensemble import RandomForestClassifier\n",
    "from sklearn.metrics import make_scorer, f1_score\n",
    "from imblearn.over_sampling import SMOTE\n",
    "import numpy as np\n",
    "\n",
    "X = df.drop(columns=['y'])\n",
    "y = df['y']\n",
    "\n",
    "# Initialize Random Forest and SMOTE\n",
    "rf_classifier = RandomForestClassifier(n_estimators=100, random_state=54)\n",
    "smote = SMOTE(random_state=54)\n",
    "\n",
    "# Stratified K-Fold Cross-Validation\n",
    "skf = StratifiedKFold(n_splits=5, shuffle=True, random_state=54)\n",
    "\n",
    "# List to store CV scores\n",
    "f1_scores = []\n",
    "\n",
    "# Perform cross-validation\n",
    "for train_index, test_index in skf.split(X, y):\n",
    "    # Split the data into training and test sets\n",
    "    X_train, X_test = X.iloc[train_index], X.iloc[test_index]\n",
    "    y_train, y_test = y.iloc[train_index], y.iloc[test_index]\n",
    "    \n",
    "    # Apply SMOTE to the training data\n",
    "    X_train_smote, y_train_smote = smote.fit_resample(X_train, y_train)\n",
    "    \n",
    "    # Train the model on the resampled training data\n",
    "    rf_classifier.fit(X_train_smote, y_train_smote)\n",
    "    \n",
    "    # Predict on the test set\n",
    "    y_pred = rf_classifier.predict(X_test)\n",
    "    \n",
    "    # Calculate the F1-Score for the minority class ('yes')\n",
    "    f1 = f1_score(y_test, y_pred, pos_label='no')  # Use the 'yes' class for minority\n",
    "    f1_scores.append(f1)\n",
    "\n",
    "# Convert to numpy array for easier calculation\n",
    "f1_scores = np.array(f1_scores)\n",
    "\n",
    "# Output results\n",
    "print(\"Stratified CV F1 Scores for 'no' class:\", f1_scores)\n",
    "print(\"Mean Stratified CV F1 Score for 'no' class:\", f1_scores.mean())\n"
   ]
  },
  {
   "cell_type": "markdown",
   "id": "3ce042aa-5a0b-495c-8faf-4803b343793e",
   "metadata": {},
   "source": [
    "#### 3) Learning Curve Analysis"
   ]
  },
  {
   "cell_type": "code",
   "execution_count": 93,
   "id": "7673eb2f-ced5-4399-aaa8-8b65ad36ddc9",
   "metadata": {},
   "outputs": [
    {
     "name": "stdout",
     "output_type": "stream",
     "text": [
      "      Feature  Importance\n",
      "9    duration    0.367467\n",
      "14     lcdays    0.127245\n",
      "10   campaign    0.101499\n",
      "5     balance    0.083813\n",
      "0         age    0.066809\n",
      "8     contact    0.042492\n",
      "12   previous    0.039943\n",
      "6     housing    0.034147\n",
      "1         job    0.031852\n",
      "11      pdays    0.031224\n",
      "13   poutcome    0.028126\n",
      "3   education    0.018062\n",
      "2     marital    0.014747\n",
      "7        loan    0.011410\n",
      "4     default    0.001165\n"
     ]
    }
   ],
   "source": [
    "import pandas as pd\n",
    "feature_importances = rf_classifier.feature_importances_\n",
    "importance_df = pd.DataFrame({\n",
    "    'Feature': X.columns,\n",
    "    'Importance': feature_importances\n",
    "}).sort_values(by='Importance', ascending=False)\n",
    "print(importance_df)\n"
   ]
  },
  {
   "cell_type": "code",
   "execution_count": 118,
   "id": "4c38c8ba-3106-4357-89ba-2a613d179091",
   "metadata": {},
   "outputs": [
    {
     "data": {
      "text/plain": [
       "y\n",
       "no     39487\n",
       "yes     5011\n",
       "Name: count, dtype: int64"
      ]
     },
     "execution_count": 118,
     "metadata": {},
     "output_type": "execute_result"
    }
   ],
   "source": [
    "df = pd.read_csv('dataset2.csv')\n",
    "df['y'].value_counts()"
   ]
  },
  {
   "cell_type": "code",
   "execution_count": 123,
   "id": "ffc3cf5e-d28c-4649-8acd-9ca40d868ab5",
   "metadata": {},
   "outputs": [
    {
     "data": {
      "text/plain": [
       "Index(['age', 'job', 'marital', 'education', 'default', 'balance', 'housing',\n",
       "       'loan', 'contact', 'duration', 'campaign', 'pdays', 'previous',\n",
       "       'poutcome', 'y', 'lcdays'],\n",
       "      dtype='object')"
      ]
     },
     "execution_count": 123,
     "metadata": {},
     "output_type": "execute_result"
    }
   ],
   "source": [
    "df.columns"
   ]
  },
  {
   "cell_type": "code",
   "execution_count": 124,
   "id": "8f6a9098-5619-4ac7-8bc1-de41a0d754ea",
   "metadata": {},
   "outputs": [],
   "source": [
    "df = df.drop(columns=['marital', 'loan', 'education', 'default', 'poutcome'])"
   ]
  },
  {
   "cell_type": "code",
   "execution_count": 127,
   "id": "98f29976-53c4-4fcc-b356-c278456b3ea7",
   "metadata": {},
   "outputs": [
    {
     "name": "stdout",
     "output_type": "stream",
     "text": [
      "Accuracy: 0.8908988764044944\n",
      "Classification Report:\n",
      "              precision    recall  f1-score   support\n",
      "\n",
      "          no       0.96      0.92      0.94      7898\n",
      "         yes       0.51      0.67      0.58      1002\n",
      "\n",
      "    accuracy                           0.89      8900\n",
      "   macro avg       0.73      0.79      0.76      8900\n",
      "weighted avg       0.91      0.89      0.90      8900\n",
      "\n"
     ]
    }
   ],
   "source": [
    "X = df.drop(columns=['y'])\n",
    "y = df['y']\n",
    "\n",
    "from sklearn.ensemble import RandomForestClassifier\n",
    "from sklearn.model_selection import train_test_split\n",
    "from sklearn.preprocessing import LabelEncoder\n",
    "from sklearn.metrics import accuracy_score, classification_report\n",
    "from imblearn.over_sampling import SMOTE\n",
    "\n",
    "X_train, X_test, y_train, y_test = train_test_split(X, y,test_size=0.2, random_state=42, stratify=y)\n",
    "\n",
    "# Smote for training set\n",
    "smote = SMOTE(random_state=54)\n",
    "X_train_smote, y_train_smote = smote.fit_resample(X_train, y_train)\n",
    "\n",
    "rf_classifier = RandomForestClassifier(n_estimators=200, random_state=54, class_weight='balanced')\n",
    "rf_classifier.fit(X_train_smote, y_train_smote)\n",
    "\n",
    "y_pred = rf_classifier.predict(X_test)\n",
    "\n",
    "accuracy = accuracy_score(y_test, y_pred)\n",
    "report = classification_report(y_test, y_pred)\n",
    "\n",
    "print(f\"Accuracy: {accuracy}\")\n",
    "print(f\"Classification Report:\\n{report}\")"
   ]
  },
  {
   "cell_type": "code",
   "execution_count": 128,
   "id": "3d339e0f-a2bd-480b-9015-ddc297d202f2",
   "metadata": {},
   "outputs": [
    {
     "name": "stdout",
     "output_type": "stream",
     "text": [
      "Training Accuracy: 1.0\n",
      "Training Classification Report:\n",
      " {'no': {'precision': 1.0, 'recall': 1.0, 'f1-score': 1.0, 'support': 31589.0}, 'yes': {'precision': 1.0, 'recall': 1.0, 'f1-score': 1.0, 'support': 31589.0}, 'accuracy': 1.0, 'macro avg': {'precision': 1.0, 'recall': 1.0, 'f1-score': 1.0, 'support': 63178.0}, 'weighted avg': {'precision': 1.0, 'recall': 1.0, 'f1-score': 1.0, 'support': 63178.0}}\n",
      "Test Accuracy: 0.8908988764044944\n",
      "Test Classification Report:\n",
      " {'no': {'precision': 0.9565045472518782, 'recall': 0.918840212712079, 'f1-score': 0.937294155634485, 'support': 7898.0}, 'yes': {'precision': 0.5118050266565118, 'recall': 0.6706586826347305, 'f1-score': 0.5805615550755939, 'support': 1002.0}, 'accuracy': 0.8908988764044944, 'macro avg': {'precision': 0.734154786954195, 'recall': 0.7947494476734047, 'f1-score': 0.7589278553550395, 'support': 8900.0}, 'weighted avg': {'precision': 0.9064383765061975, 'recall': 0.8908988764044944, 'f1-score': 0.8971316763356076, 'support': 8900.0}}\n"
     ]
    }
   ],
   "source": [
    "# Evaluate performance on training set\n",
    "y_train_pred = rf_classifier.predict(X_train_smote)\n",
    "train_accuracy = accuracy_score(y_train_smote, y_train_pred)\n",
    "train_report = classification_report(y_train_smote, y_train_pred, output_dict=True)\n",
    "\n",
    "# Evaluate performance on test set\n",
    "y_test_pred = rf_classifier.predict(X_test)\n",
    "test_accuracy = accuracy_score(y_test, y_test_pred)\n",
    "test_report = classification_report(y_test, y_test_pred, output_dict=True)\n",
    "\n",
    "\n",
    "print(\"Training Accuracy:\", train_accuracy)\n",
    "print(\"Training Classification Report:\\n\", train_report)\n",
    "print(\"Test Accuracy:\", test_accuracy)\n",
    "print(\"Test Classification Report:\\n\", test_report)"
   ]
  },
  {
   "cell_type": "code",
   "execution_count": null,
   "id": "d949b67a-e5fc-4958-a88c-5888281aad67",
   "metadata": {},
   "outputs": [],
   "source": [
    "from sklearn.model_selection import StratifiedKFold\n",
    "from sklearn.ensemble import RandomForestClassifier\n",
    "from sklearn.model_selection import cross_val_score\n",
    "from imblearn.over_sampling import SMOTE\n",
    "import numpy as np\n",
    "\n",
    "X = df.drop(columns=['y'])\n",
    "y = df['y']\n",
    "\n",
    "# Initialize Random Forest and SMOTE\n",
    "rf_classifier = RandomForestClassifier(n_estimators=200, random_state=54)\n",
    "smote = SMOTE(random_state=54)\n",
    "\n",
    "# Stratified K-Fold Cross-Validation\n",
    "skf = StratifiedKFold(n_splits=5, shuffle=True, random_state=54)\n",
    "\n",
    "# List to store CV scores\n",
    "cv_scores = []\n",
    "\n",
    "# Perform cross-validation\n",
    "for train_index, test_index in skf.split(X, y):\n",
    "    # Split the data into training and test sets\n",
    "    X_train, X_test = X.iloc[train_index], X.iloc[test_index]\n",
    "    y_train, y_test = y.iloc[train_index], y.iloc[test_index]\n",
    "    \n",
    "    # Apply SMOTE to the training data\n",
    "    X_train_smote, y_train_smote = smote.fit_resample(X_train, y_train)\n",
    "    \n",
    "    # Train the model on the resampled training data\n",
    "    rf_classifier.fit(X_train_smote, y_train_smote)\n",
    "    \n",
    "    # Evaluate on the test set (not resampled)\n",
    "    accuracy = rf_classifier.score(X_test, y_test)\n",
    "    cv_scores.append(accuracy)\n",
    "\n",
    "# Convert to numpy array for easier calculation\n",
    "cv_scores = np.array(cv_scores)\n",
    "\n",
    "# Output results\n",
    "print(\"Stratified CV Scores:\", cv_scores)\n",
    "print(\"Mean Stratified CV Accuracy:\", cv_scores.mean())\n"
   ]
  },
  {
   "cell_type": "code",
   "execution_count": null,
   "id": "e4e7a40c-eec2-4b83-8e64-ab76ede14178",
   "metadata": {},
   "outputs": [],
   "source": [
    "from sklearn.model_selection import StratifiedKFold\n",
    "from sklearn.ensemble import RandomForestClassifier\n",
    "from sklearn.metrics import make_scorer, f1_score\n",
    "from imblearn.over_sampling import SMOTE\n",
    "import numpy as np\n",
    "\n",
    "X = df.drop(columns=['y'])\n",
    "y = df['y']\n",
    "\n",
    "# Initialize Random Forest and SMOTE\n",
    "rf_classifier = RandomForestClassifier(n_estimators=100, random_state=54)\n",
    "smote = SMOTE(random_state=54)\n",
    "\n",
    "# Stratified K-Fold Cross-Validation\n",
    "skf = StratifiedKFold(n_splits=5, shuffle=True, random_state=54)\n",
    "\n",
    "# List to store CV scores\n",
    "f1_scores = []\n",
    "\n",
    "# Perform cross-validation\n",
    "for train_index, test_index in skf.split(X, y):\n",
    "    # Split the data into training and test sets\n",
    "    X_train, X_test = X.iloc[train_index], X.iloc[test_index]\n",
    "    y_train, y_test = y.iloc[train_index], y.iloc[test_index]\n",
    "    \n",
    "    # Apply SMOTE to the training data\n",
    "    X_train_smote, y_train_smote = smote.fit_resample(X_train, y_train)\n",
    "    \n",
    "    # Train the model on the resampled training data\n",
    "    rf_classifier.fit(X_train_smote, y_train_smote)\n",
    "    \n",
    "    # Predict on the test set\n",
    "    y_pred = rf_classifier.predict(X_test)\n",
    "    \n",
    "    # Calculate the F1-Score for the minority class ('yes')\n",
    "    f1 = f1_score(y_test, y_pred, pos_label='yes')  # Use the 'yes' class for minority\n",
    "    f1_scores.append(f1)\n",
    "\n",
    "# Convert to numpy array for easier calculation\n",
    "f1_scores = np.array(f1_scores)\n",
    "\n",
    "# Output results\n",
    "print(\"Stratified CV F1 Scores for 'yes' class:\", f1_scores)\n",
    "print(\"Mean Stratified CV F1 Score for 'yes' class:\", f1_scores.mean())\n"
   ]
  },
  {
   "cell_type": "code",
   "execution_count": null,
   "id": "e721337e-ec54-4e10-8064-be1ea3eab6c2",
   "metadata": {},
   "outputs": [],
   "source": [
    "from sklearn.model_selection import StratifiedKFold\n",
    "from sklearn.ensemble import RandomForestClassifier\n",
    "from sklearn.metrics import make_scorer, f1_score\n",
    "from imblearn.over_sampling import SMOTE\n",
    "import numpy as np\n",
    "\n",
    "X = df.drop(columns=['y'])\n",
    "y = df['y']\n",
    "\n",
    "# Initialize Random Forest and SMOTE\n",
    "rf_classifier = RandomForestClassifier(n_estimators=100, random_state=54)\n",
    "smote = SMOTE(random_state=54)\n",
    "\n",
    "# Stratified K-Fold Cross-Validation\n",
    "skf = StratifiedKFold(n_splits=5, shuffle=True, random_state=54)\n",
    "\n",
    "# List to store CV scores\n",
    "f1_scores = []\n",
    "\n",
    "# Perform cross-validation\n",
    "for train_index, test_index in skf.split(X, y):\n",
    "    # Split the data into training and test sets\n",
    "    X_train, X_test = X.iloc[train_index], X.iloc[test_index]\n",
    "    y_train, y_test = y.iloc[train_index], y.iloc[test_index]\n",
    "    \n",
    "    # Apply SMOTE to the training data\n",
    "    X_train_smote, y_train_smote = smote.fit_resample(X_train, y_train)\n",
    "    \n",
    "    # Train the model on the resampled training data\n",
    "    rf_classifier.fit(X_train_smote, y_train_smote)\n",
    "    \n",
    "    # Predict on the test set\n",
    "    y_pred = rf_classifier.predict(X_test)\n",
    "    \n",
    "    # Calculate the F1-Score for the minority class ('yes')\n",
    "    f1 = f1_score(y_test, y_pred, pos_label='no')  # Use the 'yes' class for minority\n",
    "    f1_scores.append(f1)\n",
    "\n",
    "# Convert to numpy array for easier calculation\n",
    "f1_scores = np.array(f1_scores)\n",
    "\n",
    "# Output results\n",
    "print(\"Stratified CV F1 Scores for 'no' class:\", f1_scores)\n",
    "print(\"Mean Stratified CV F1 Score for 'no' class:\", f1_scores.mean())\n"
   ]
  },
  {
   "cell_type": "code",
   "execution_count": null,
   "id": "42f3dd7b-4b9f-481c-b2f2-fde3a38a8659",
   "metadata": {},
   "outputs": [],
   "source": []
  }
 ],
 "metadata": {
  "kernelspec": {
   "display_name": "Python 3 (ipykernel)",
   "language": "python",
   "name": "python3"
  },
  "language_info": {
   "codemirror_mode": {
    "name": "ipython",
    "version": 3
   },
   "file_extension": ".py",
   "mimetype": "text/x-python",
   "name": "python",
   "nbconvert_exporter": "python",
   "pygments_lexer": "ipython3",
   "version": "3.12.7"
  }
 },
 "nbformat": 4,
 "nbformat_minor": 5
}
