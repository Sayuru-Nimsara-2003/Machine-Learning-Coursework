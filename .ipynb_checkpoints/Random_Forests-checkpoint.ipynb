{
 "cells": [
  {
   "cell_type": "code",
   "execution_count": 2,
   "id": "ed5643f7-35e6-4d3e-a3ba-9f434e07b988",
   "metadata": {},
   "outputs": [],
   "source": [
    "import pandas as pd\n",
    "import numpy as np\n",
    "import matplotlib.pyplot as plt\n",
    "import seaborn as sns\n",
    "\n",
    "sns.set_style('darkgrid')\n",
    "pd.set_option('display.max_columns', 50)\n",
    "pd.set_option('display.max_rows', 30)\n",
    "\n",
    "df = pd.read_csv('dataset2.csv')"
   ]
  },
  {
   "cell_type": "code",
   "execution_count": 68,
   "id": "4a8a0896-20ea-4f77-89a6-1ad4f69ecdb1",
   "metadata": {
    "scrolled": true
   },
   "outputs": [
    {
     "data": {
      "image/png": "[encoded data removed]",
      "text/plain": [
       "<Figure size 640x480 with 1 Axes>"
      ]
     },
     "metadata": {},
     "output_type": "display_data"
    }
   ],
   "source": [
    "y_counts = df.y.value_counts()\n",
    "plt.pie(y_counts.values, labels=y_counts.index)\n",
    "plt.title('subscription ratio');"
   ]
  },
  {
   "cell_type": "code",
   "execution_count": 69,
   "id": "829a44c8-5cbd-4556-af11-68e894f3f7c6",
   "metadata": {},
   "outputs": [
    {
     "data": {
      "text/plain": [
       "y\n",
       "no     39487\n",
       "yes     5011\n",
       "Name: count, dtype: int64"
      ]
     },
     "execution_count": 69,
     "metadata": {},
     "output_type": "execute_result"
    }
   ],
   "source": [
    "y_counts"
   ]
  },
  {
   "cell_type": "markdown",
   "id": "0a4a6d99-7fb4-4845-8038-e99751e9bef8",
   "metadata": {},
   "source": [
    "### Using Random Forests without any resampling"
   ]
  },
  {
   "cell_type": "code",
   "execution_count": 75,
   "id": "18fd6b12-f99d-481b-a03a-1d4fdb7842e9",
   "metadata": {},
   "outputs": [
    {
     "name": "stdout",
     "output_type": "stream",
     "text": [
      "Accuracy: 0.9082022471910113\n",
      "Classification Report:\n",
      "              precision    recall  f1-score   support\n",
      "\n",
      "          no       0.93      0.97      0.95      7898\n",
      "         yes       0.65      0.39      0.49      1002\n",
      "\n",
      "    accuracy                           0.91      8900\n",
      "   macro avg       0.79      0.68      0.72      8900\n",
      "weighted avg       0.90      0.91      0.90      8900\n",
      "\n"
     ]
    }
   ],
   "source": [
    "from sklearn.ensemble import RandomForestClassifier\n",
    "from sklearn.model_selection import train_test_split\n",
    "from sklearn.preprocessing import LabelEncoder\n",
    "from sklearn.metrics import accuracy_score, classification_report\n",
    "\n",
    "X = df.drop(columns=['y'])\n",
    "y = df['y']\n",
    "\n",
    "X_train, X_test, y_train, y_test = train_test_split(X, y,test_size=0.2, random_state=54, stratify=y)\n",
    "\n",
    "rf_classifier = RandomForestClassifier(n_estimators=100, random_state=54)\n",
    "rf_classifier.fit(X_train, y_train)\n",
    "\n",
    "y_pred = rf_classifier.predict(X_test)\n",
    "\n",
    "accuracy = accuracy_score(y_test, y_pred)\n",
    "report = classification_report(y_test, y_pred)\n",
    "\n",
    "print(f\"Accuracy: {accuracy}\")\n",
    "print(f\"Classification Report:\\n{report}\")"
   ]
  },
  {
   "cell_type": "code",
   "execution_count": null,
   "id": "69e01932-49d0-4b94-8615-92321b71d305",
   "metadata": {},
   "outputs": [],
   "source": []
  },
  {
   "cell_type": "markdown",
   "id": "b27c9996-541a-44eb-a963-23fbea790700",
   "metadata": {},
   "source": [
    "### Using Random Forests with 'SMOTE'"
   ]
  },
  {
   "cell_type": "code",
   "execution_count": 27,
   "id": "cafed3ab-5e9d-405c-aaf9-87c4dc922de7",
   "metadata": {},
   "outputs": [
    {
     "name": "stdout",
     "output_type": "stream",
     "text": [
      "Accuracy: 0.9024719101123595\n",
      "Classification Report:\n",
      "              precision    recall  f1-score   support\n",
      "\n",
      "           0       0.94      0.95      0.95      7898\n",
      "           1       0.57      0.54      0.56      1002\n",
      "\n",
      "    accuracy                           0.90      8900\n",
      "   macro avg       0.76      0.75      0.75      8900\n",
      "weighted avg       0.90      0.90      0.90      8900\n",
      "\n"
     ]
    }
   ],
   "source": [
    "X = df.drop(columns=['y'])\n",
    "y = df['y']\n",
    "\n",
    "from sklearn.ensemble import RandomForestClassifier\n",
    "from sklearn.model_selection import train_test_split\n",
    "from sklearn.preprocessing import LabelEncoder\n",
    "from sklearn.metrics import accuracy_score, classification_report\n",
    "from imblearn.over_sampling import SMOTE\n",
    "\n",
    "X_train, X_test, y_train, y_test = train_test_split(X, y,test_size=0.2, random_state=54, stratify=y)\n",
    "\n",
    "# Smote for training set\n",
    "smote = SMOTE(random_state=54)\n",
    "X_train_smote, y_train_smote = smote.fit_resample(X_train, y_train)\n",
    "\n",
    "rf_classifier = RandomForestClassifier(n_estimators=175, random_state=54, class_weight='balanced')\n",
    "rf_classifier.fit(X_train_smote, y_train_smote)\n",
    "\n",
    "y_pred = rf_classifier.predict(X_test)\n",
    "\n",
    "accuracy = accuracy_score(y_test, y_pred)\n",
    "report = classification_report(y_test, y_pred)\n",
    "\n",
    "print(f\"Accuracy: {accuracy}\")\n",
    "print(f\"Classification Report:\\n{report}\")"
   ]
  },
  {
   "cell_type": "code",
   "execution_count": 21,
   "id": "9b984021-579a-4dee-9fca-13a04ef57c1a",
   "metadata": {},
   "outputs": [
    {
     "name": "stdout",
     "output_type": "stream",
     "text": [
      "Sampling Strategy: 0.3, Accuracy: 0.9016, F1 Score: 0.9016\n",
      "Sampling Strategy: 0.31, Accuracy: 0.9025, F1 Score: 0.9028\n",
      "Sampling Strategy: 0.32, Accuracy: 0.9047, F1 Score: 0.9050\n",
      "Sampling Strategy: 0.325, Accuracy: 0.9031, F1 Score: 0.9033\n",
      "Sampling Strategy: 0.33, Accuracy: 0.9031, F1 Score: 0.9032\n",
      "Sampling Strategy: 0.335, Accuracy: 0.9013, F1 Score: 0.9021\n",
      "\n",
      "Best SMOTE Sampling Strategy: 0.32\n",
      "Best F1 Score: 0.9049664559297982\n"
     ]
    }
   ],
   "source": [
    "from sklearn.model_selection import train_test_split\n",
    "from sklearn.ensemble import RandomForestClassifier\n",
    "from sklearn.metrics import accuracy_score, classification_report\n",
    "from imblearn.over_sampling import SMOTE\n",
    "\n",
    "# Split the data into features (X) and target (y)\n",
    "X = df.drop(columns=['y'])\n",
    "y = df['y']\n",
    "\n",
    "# Split the data into training and testing sets (stratified to maintain class distribution)\n",
    "X_train, X_test, y_train, y_test = train_test_split(X, y, test_size=0.2, random_state=54, stratify=y)\n",
    "\n",
    "# Initialize the RandomForestClassifier\n",
    "rf_classifier = RandomForestClassifier(n_estimators=200, random_state=54)\n",
    "\n",
    "# List of different SMOTE sampling strategies to evaluate\n",
    "sampling_strategies = [0.3,0.31,0.32,0.325,0.33,0.335]\n",
    "\n",
    "# Store the results for each strategy\n",
    "results = []\n",
    "\n",
    "# Iterate through each sampling strategy\n",
    "for strategy in sampling_strategies:\n",
    "    # Apply SMOTE with the current sampling strategy\n",
    "    smote = SMOTE(sampling_strategy=strategy, random_state=54)\n",
    "    X_train_smote, y_train_smote = smote.fit_resample(X_train, y_train)\n",
    "    \n",
    "    # Train the RandomForestClassifier on the resampled data\n",
    "    rf_classifier.fit(X_train_smote, y_train_smote)\n",
    "    \n",
    "    # Make predictions on the test set\n",
    "    y_pred = rf_classifier.predict(X_test)\n",
    "    \n",
    "    # Calculate accuracy and classification report\n",
    "    accuracy = accuracy_score(y_test, y_pred)\n",
    "    report = classification_report(y_test, y_pred, output_dict=True)  # Get the report as a dictionary for easier access\n",
    "    \n",
    "    # Store the results for this strategy\n",
    "    results.append({\n",
    "        'sampling_strategy': strategy,\n",
    "        'accuracy': accuracy,\n",
    "        'f1_score': report['weighted avg']['f1-score']  # You can also use other metrics, like 'precision', 'recall', etc.\n",
    "    })\n",
    "\n",
    "# Find the optimal strategy based on F1 score or any other metric\n",
    "best_result = max(results, key=lambda x: x['f1_score'])\n",
    "\n",
    "# Output the results\n",
    "for result in results:\n",
    "    print(f\"Sampling Strategy: {result['sampling_strategy']}, Accuracy: {result['accuracy']:.4f}, F1 Score: {result['f1_score']:.4f}\")\n",
    "\n",
    "print(\"\\nBest SMOTE Sampling Strategy:\", best_result['sampling_strategy'])\n",
    "print(\"Best F1 Score:\", best_result['f1_score'])\n"
   ]
  },
  {
   "cell_type": "markdown",
   "id": "97aaad22-e4c7-41e7-b98a-2b9d534fc431",
   "metadata": {},
   "source": [
    "## Optimizing the model"
   ]
  },
  {
   "cell_type": "code",
   "execution_count": null,
   "id": "fe69ad24-9dc2-4504-99dd-e59ed6a6cbfc",
   "metadata": {},
   "outputs": [],
   "source": []
  },
  {
   "cell_type": "markdown",
   "id": "74ce11d8-0e8b-406c-abf5-23dab07f847e",
   "metadata": {},
   "source": [
    "### 1. Identifying overfitting"
   ]
  },
  {
   "cell_type": "markdown",
   "id": "3c6b59f4-2a0c-460f-807c-9cea2e4d38ef",
   "metadata": {},
   "source": [
    "#### 1) train vs. test accuracy"
   ]
  },
  {
   "cell_type": "code",
   "execution_count": 35,
   "id": "1c51c398-d3f0-4bb5-b001-9e41a9b41416",
   "metadata": {},
   "outputs": [],
   "source": [
    "from sklearn.metrics import accuracy_score\n",
    "\n",
    "def train_test_accuracy(rf_classifier, X_train_smote, y_train_smote, X_test, y_test):\n",
    "    # Evaluate performance on the training set\n",
    "    y_train_pred = rf_classifier.predict(X_train_smote)\n",
    "    train_accuracy = accuracy_score(y_train_smote, y_train_pred)\n",
    "    \n",
    "    # Evaluate performance on the test set\n",
    "    y_test_pred = rf_classifier.predict(X_test)\n",
    "    test_accuracy = accuracy_score(y_test, y_test_pred)\n",
    "    \n",
    "    # Print the accuracy comparison\n",
    "    print(f\"Training Accuracy: {train_accuracy:.4f}\")\n",
    "    print(f\"Test Accuracy: {test_accuracy:.4f}\")\n"
   ]
  },
  {
   "cell_type": "markdown",
   "id": "7216c00f-3d7b-4631-87ea-8ffeb94c4353",
   "metadata": {},
   "source": [
    "#### 2) cross validation scores"
   ]
  },
  {
   "cell_type": "code",
   "execution_count": 27,
   "id": "786e6285-286c-4442-945d-2efa381d685a",
   "metadata": {},
   "outputs": [],
   "source": [
    "from sklearn.model_selection import StratifiedKFold\n",
    "from imblearn.over_sampling import SMOTE\n",
    "import numpy as np\n",
    "\n",
    "def SKF_CV_accuracy(rf_classifier, X, y):\n",
    "    # Initialize SMOTE\n",
    "    smote = SMOTE(random_state=54)\n",
    "    \n",
    "    # Stratified K-Fold Cross-Validation\n",
    "    skf = StratifiedKFold(n_splits=5, shuffle=True, random_state=54)\n",
    "    \n",
    "    # List to store CV scores (for each fold)\n",
    "    cv_scores = []\n",
    "\n",
    "    # Perform cross-validation\n",
    "    for train_index, test_index in skf.split(X, y):\n",
    "        # Split the data into training and test sets\n",
    "        X_train, X_test = X.iloc[train_index], X.iloc[test_index]\n",
    "        y_train, y_test = y.iloc[train_index], y.iloc[test_index]\n",
    "        \n",
    "        # Apply SMOTE to the training data\n",
    "        X_train_smote, y_train_smote = smote.fit_resample(X_train, y_train)\n",
    "        \n",
    "        # Train the model on the resampled training data\n",
    "        rf_classifier.fit(X_train_smote, y_train_smote)\n",
    "        \n",
    "        # Evaluate on the test set (not resampled)\n",
    "        accuracy = rf_classifier.score(X_test, y_test)\n",
    "        cv_scores.append(accuracy)\n",
    "    \n",
    "    # Calculate overall accuracy across all folds\n",
    "    overall_accuracy = np.mean(cv_scores)\n",
    "    \n",
    "    # Output results\n",
    "    print(\"Stratified CV Accuracy for each fold:\", cv_scores)\n",
    "    print(\"Mean Stratified CV Overall Accuracy:\", overall_accuracy)\n",
    "    return overall_accuracy\n"
   ]
  },
  {
   "cell_type": "code",
   "execution_count": 21,
   "id": "a956edc4-5048-4313-95f1-50a7f8016691",
   "metadata": {},
   "outputs": [],
   "source": [
    "from sklearn.model_selection import StratifiedKFold\n",
    "from sklearn.metrics import f1_score\n",
    "from imblearn.over_sampling import SMOTE\n",
    "import numpy as np\n",
    "\n",
    "def CV_positive_F1(rf_model, X, y):\n",
    "    # Initialize Random Forest and SMOTE\n",
    "    rf_classifier = rf_model\n",
    "    smote = SMOTE(random_state=54)\n",
    "    \n",
    "    # Stratified K-Fold Cross-Validation\n",
    "    skf = StratifiedKFold(n_splits=5, shuffle=True, random_state=54)\n",
    "    \n",
    "    # List to store CV scores\n",
    "    f1_scores = []\n",
    "    \n",
    "    # Perform cross-validation\n",
    "    for train_index, test_index in skf.split(X, y):\n",
    "        # Split the data into training and test sets\n",
    "        X_train, X_test = X.iloc[train_index], X.iloc[test_index]\n",
    "        y_train, y_test = y.iloc[train_index], y.iloc[test_index]\n",
    "    \n",
    "        # Apply SMOTE to the training data\n",
    "        X_train_smote, y_train_smote = smote.fit_resample(X_train, y_train)\n",
    "        \n",
    "        # Train the model on the resampled training data\n",
    "        rf_classifier.fit(X_train_smote, y_train_smote)\n",
    "        \n",
    "        # Predict on the test set\n",
    "        y_pred = rf_classifier.predict(X_test)\n",
    "        \n",
    "        # Calculate the F1-Score for the minority class ('1' for the positive class)\n",
    "        f1 = f1_score(y_test, y_pred, pos_label=1)  # Use class '1' for the positive class\n",
    "        f1_scores.append(f1)\n",
    "    \n",
    "    # Convert to numpy array for easier calculation\n",
    "    f1_scores = np.array(f1_scores)\n",
    "    \n",
    "    # Output results\n",
    "    print(\"Stratified CV F1 Scores for '1' class (positive class):\", f1_scores)\n",
    "    print(\"Mean Stratified CV F1 Score for '1' class (positive class):\", f1_scores.mean())\n"
   ]
  },
  {
   "cell_type": "code",
   "execution_count": 22,
   "id": "dafc0fcd-79a1-4465-9772-5418ddc39789",
   "metadata": {},
   "outputs": [],
   "source": [
    "from sklearn.model_selection import StratifiedKFold\n",
    "from sklearn.metrics import f1_score\n",
    "from imblearn.over_sampling import SMOTE\n",
    "import numpy as np\n",
    "\n",
    "def CV_negative_F1(rf_model, X, y):\n",
    "    # Initialize Random Forest and SMOTE\n",
    "    rf_classifier = rf_model\n",
    "    smote = SMOTE(random_state=54)\n",
    "    \n",
    "    # Stratified K-Fold Cross-Validation\n",
    "    skf = StratifiedKFold(n_splits=5, shuffle=True, random_state=54)\n",
    "    \n",
    "    # List to store CV scores\n",
    "    f1_scores = []\n",
    "    \n",
    "    # Perform cross-validation\n",
    "    for train_index, test_index in skf.split(X, y):\n",
    "        # Split the data into training and test sets\n",
    "        X_train, X_test = X.iloc[train_index], X.iloc[test_index]\n",
    "        y_train, y_test = y.iloc[train_index], y.iloc[test_index]\n",
    "    \n",
    "        # Apply SMOTE to the training data\n",
    "        X_train_smote, y_train_smote = smote.fit_resample(X_train, y_train)\n",
    "        \n",
    "        # Train the model on the resampled training data\n",
    "        rf_classifier.fit(X_train_smote, y_train_smote)\n",
    "        \n",
    "        # Predict on the test set\n",
    "        y_pred = rf_classifier.predict(X_test)\n",
    "        \n",
    "        # Calculate the F1-Score for the minority class ('1' for the positive class)\n",
    "        f1 = f1_score(y_test, y_pred, pos_label=0)  # Use class '1' for the positive class\n",
    "        f1_scores.append(f1)\n",
    "    \n",
    "    # Convert to numpy array for easier calculation\n",
    "    f1_scores = np.array(f1_scores)\n",
    "    \n",
    "    # Output results\n",
    "    print(\"Stratified CV F1 Scores for '' class (negative class):\", f1_scores)\n",
    "    print(\"Mean Stratified CV F1 Score for '0' class (negative class):\", f1_scores.mean())\n"
   ]
  },
  {
   "cell_type": "markdown",
   "id": "3ce042aa-5a0b-495c-8faf-4803b343793e",
   "metadata": {},
   "source": [
    "### 2) Feature importance"
   ]
  },
  {
   "cell_type": "code",
   "execution_count": 93,
   "id": "7673eb2f-ced5-4399-aaa8-8b65ad36ddc9",
   "metadata": {},
   "outputs": [
    {
     "name": "stdout",
     "output_type": "stream",
     "text": [
      "      Feature  Importance\n",
      "9    duration    0.367467\n",
      "14     lcdays    0.127245\n",
      "10   campaign    0.101499\n",
      "5     balance    0.083813\n",
      "0         age    0.066809\n",
      "8     contact    0.042492\n",
      "12   previous    0.039943\n",
      "6     housing    0.034147\n",
      "1         job    0.031852\n",
      "11      pdays    0.031224\n",
      "13   poutcome    0.028126\n",
      "3   education    0.018062\n",
      "2     marital    0.014747\n",
      "7        loan    0.011410\n",
      "4     default    0.001165\n"
     ]
    }
   ],
   "source": [
    "import pandas as pd\n",
    "feature_importances = rf_classifier.feature_importances_\n",
    "importance_df = pd.DataFrame({\n",
    "    'Feature': X.columns,\n",
    "    'Importance': feature_importances\n",
    "}).sort_values(by='Importance', ascending=False)\n",
    "print(importance_df)\n"
   ]
  },
  {
   "cell_type": "markdown",
   "id": "cda0ef1b-4081-409d-844d-68fc738f90ac",
   "metadata": {},
   "source": [
    "### 3) Hyper parameter tuning"
   ]
  },
  {
   "cell_type": "markdown",
   "id": "ab430692-6a7a-4c1f-b347-75b7224ee834",
   "metadata": {},
   "source": [
    "#### 1) Label Encoding - Original dataset"
   ]
  },
  {
   "cell_type": "markdown",
   "id": "0006de28-7a60-4eaf-aff4-3534780c1dc9",
   "metadata": {},
   "source": [
    "##### Before hyperparameter tunning"
   ]
  },
  {
   "cell_type": "code",
   "execution_count": 36,
   "id": "c023f6f9-627f-4a92-aa66-40d9fbe74504",
   "metadata": {},
   "outputs": [
    {
     "name": "stdout",
     "output_type": "stream",
     "text": [
      "Accuracy: 0.8943820224719101\n",
      "Classification Report:\n",
      "              precision    recall  f1-score   support\n",
      "\n",
      "           0       0.96      0.92      0.94      7898\n",
      "           1       0.52      0.67      0.59      1002\n",
      "\n",
      "    accuracy                           0.89      8900\n",
      "   macro avg       0.74      0.79      0.76      8900\n",
      "weighted avg       0.91      0.89      0.90      8900\n",
      "\n"
     ]
    }
   ],
   "source": [
    "df = pd.read_csv(\"dataset2.csv\")\n",
    "df['y'] = df['y'].replace({'yes':1, 'no':0})\n",
    "X = df.drop(columns=['y'])\n",
    "y = df['y']\n",
    "\n",
    "from sklearn.ensemble import RandomForestClassifier\n",
    "from sklearn.model_selection import train_test_split\n",
    "from sklearn.preprocessing import LabelEncoder\n",
    "from sklearn.metrics import accuracy_score, classification_report\n",
    "from imblearn.over_sampling import SMOTE\n",
    "\n",
    "X_train, X_test, y_train, y_test = train_test_split(X, y,test_size=0.2, random_state=54, stratify=y)\n",
    "\n",
    "# Smote for training set\n",
    "smote = SMOTE(random_state=54)\n",
    "X_train_smote, y_train_smote = smote.fit_resample(X_train, y_train)\n",
    "\n",
    "rf_classifier = RandomForestClassifier(n_estimators=175, random_state=54)\n",
    "rf_classifier.fit(X_train_smote, y_train_smote)\n",
    "\n",
    "y_pred = rf_classifier.predict(X_test)\n",
    "\n",
    "accuracy = accuracy_score(y_test, y_pred)\n",
    "report = classification_report(y_test, y_pred)\n",
    "\n",
    "print(f\"Accuracy: {accuracy}\")\n",
    "print(f\"Classification Report:\\n{report}\")"
   ]
  },
  {
   "cell_type": "markdown",
   "id": "129cd464-38b1-4844-9e9c-a46b7406d42c",
   "metadata": {},
   "source": [
    "##### Applying Randomized Search"
   ]
  },
  {
   "cell_type": "code",
   "execution_count": 44,
   "id": "f582a78c-50cc-4fc5-bc2a-8eec46a4e14a",
   "metadata": {
    "scrolled": true
   },
   "outputs": [
    {
     "name": "stdout",
     "output_type": "stream",
     "text": [
      "Fitting 3 folds for each of 40 candidates, totalling 120 fits\n"
     ]
    },
    {
     "ename": "KeyboardInterrupt",
     "evalue": "",
     "output_type": "error",
     "traceback": [
      "\u001b[1;31m---------------------------------------------------------------------------\u001b[0m",
      "\u001b[1;31mKeyboardInterrupt\u001b[0m                         Traceback (most recent call last)",
      "Cell \u001b[1;32mIn[44], line 31\u001b[0m\n\u001b[0;32m     19\u001b[0m random_search \u001b[38;5;241m=\u001b[39m RandomizedSearchCV(\n\u001b[0;32m     20\u001b[0m     rf_classifier,\n\u001b[0;32m     21\u001b[0m     param_distributions\u001b[38;5;241m=\u001b[39mparam_dist, \n\u001b[1;32m   (...)\u001b[0m\n\u001b[0;32m     27\u001b[0m     n_jobs\u001b[38;5;241m=\u001b[39m\u001b[38;5;241m-\u001b[39m\u001b[38;5;241m1\u001b[39m\n\u001b[0;32m     28\u001b[0m )\n\u001b[0;32m     30\u001b[0m \u001b[38;5;66;03m# Fit the RandomizedSearchCV model to the data\u001b[39;00m\n\u001b[1;32m---> 31\u001b[0m \u001b[43mrandom_search\u001b[49m\u001b[38;5;241;43m.\u001b[39;49m\u001b[43mfit\u001b[49m\u001b[43m(\u001b[49m\u001b[43mX_train_smote\u001b[49m\u001b[43m,\u001b[49m\u001b[43m \u001b[49m\u001b[43my_train_smote\u001b[49m\u001b[43m)\u001b[49m\n\u001b[0;32m     33\u001b[0m \u001b[38;5;66;03m# Get the best parameters from the random search\u001b[39;00m\n\u001b[0;32m     34\u001b[0m best_params \u001b[38;5;241m=\u001b[39m random_search\u001b[38;5;241m.\u001b[39mbest_params_\n",
      "File \u001b[1;32m~\\AppData\\Local\\Programs\\Python\\Python312\\Lib\\site-packages\\sklearn\\base.py:1473\u001b[0m, in \u001b[0;36m_fit_context.<locals>.decorator.<locals>.wrapper\u001b[1;34m(estimator, *args, **kwargs)\u001b[0m\n\u001b[0;32m   1466\u001b[0m     estimator\u001b[38;5;241m.\u001b[39m_validate_params()\n\u001b[0;32m   1468\u001b[0m \u001b[38;5;28;01mwith\u001b[39;00m config_context(\n\u001b[0;32m   1469\u001b[0m     skip_parameter_validation\u001b[38;5;241m=\u001b[39m(\n\u001b[0;32m   1470\u001b[0m         prefer_skip_nested_validation \u001b[38;5;129;01mor\u001b[39;00m global_skip_validation\n\u001b[0;32m   1471\u001b[0m     )\n\u001b[0;32m   1472\u001b[0m ):\n\u001b[1;32m-> 1473\u001b[0m     \u001b[38;5;28;01mreturn\u001b[39;00m \u001b[43mfit_method\u001b[49m\u001b[43m(\u001b[49m\u001b[43mestimator\u001b[49m\u001b[43m,\u001b[49m\u001b[43m \u001b[49m\u001b[38;5;241;43m*\u001b[39;49m\u001b[43margs\u001b[49m\u001b[43m,\u001b[49m\u001b[43m \u001b[49m\u001b[38;5;241;43m*\u001b[39;49m\u001b[38;5;241;43m*\u001b[39;49m\u001b[43mkwargs\u001b[49m\u001b[43m)\u001b[49m\n",
      "File \u001b[1;32m~\\AppData\\Local\\Programs\\Python\\Python312\\Lib\\site-packages\\sklearn\\model_selection\\_search.py:1019\u001b[0m, in \u001b[0;36mBaseSearchCV.fit\u001b[1;34m(self, X, y, **params)\u001b[0m\n\u001b[0;32m   1013\u001b[0m     results \u001b[38;5;241m=\u001b[39m \u001b[38;5;28mself\u001b[39m\u001b[38;5;241m.\u001b[39m_format_results(\n\u001b[0;32m   1014\u001b[0m         all_candidate_params, n_splits, all_out, all_more_results\n\u001b[0;32m   1015\u001b[0m     )\n\u001b[0;32m   1017\u001b[0m     \u001b[38;5;28;01mreturn\u001b[39;00m results\n\u001b[1;32m-> 1019\u001b[0m \u001b[38;5;28;43mself\u001b[39;49m\u001b[38;5;241;43m.\u001b[39;49m\u001b[43m_run_search\u001b[49m\u001b[43m(\u001b[49m\u001b[43mevaluate_candidates\u001b[49m\u001b[43m)\u001b[49m\n\u001b[0;32m   1021\u001b[0m \u001b[38;5;66;03m# multimetric is determined here because in the case of a callable\u001b[39;00m\n\u001b[0;32m   1022\u001b[0m \u001b[38;5;66;03m# self.scoring the return type is only known after calling\u001b[39;00m\n\u001b[0;32m   1023\u001b[0m first_test_score \u001b[38;5;241m=\u001b[39m all_out[\u001b[38;5;241m0\u001b[39m][\u001b[38;5;124m\"\u001b[39m\u001b[38;5;124mtest_scores\u001b[39m\u001b[38;5;124m\"\u001b[39m]\n",
      "File \u001b[1;32m~\\AppData\\Local\\Programs\\Python\\Python312\\Lib\\site-packages\\sklearn\\model_selection\\_search.py:1960\u001b[0m, in \u001b[0;36mRandomizedSearchCV._run_search\u001b[1;34m(self, evaluate_candidates)\u001b[0m\n\u001b[0;32m   1958\u001b[0m \u001b[38;5;28;01mdef\u001b[39;00m \u001b[38;5;21m_run_search\u001b[39m(\u001b[38;5;28mself\u001b[39m, evaluate_candidates):\n\u001b[0;32m   1959\u001b[0m \u001b[38;5;250m    \u001b[39m\u001b[38;5;124;03m\"\"\"Search n_iter candidates from param_distributions\"\"\"\u001b[39;00m\n\u001b[1;32m-> 1960\u001b[0m     \u001b[43mevaluate_candidates\u001b[49m\u001b[43m(\u001b[49m\n\u001b[0;32m   1961\u001b[0m \u001b[43m        \u001b[49m\u001b[43mParameterSampler\u001b[49m\u001b[43m(\u001b[49m\n\u001b[0;32m   1962\u001b[0m \u001b[43m            \u001b[49m\u001b[38;5;28;43mself\u001b[39;49m\u001b[38;5;241;43m.\u001b[39;49m\u001b[43mparam_distributions\u001b[49m\u001b[43m,\u001b[49m\u001b[43m \u001b[49m\u001b[38;5;28;43mself\u001b[39;49m\u001b[38;5;241;43m.\u001b[39;49m\u001b[43mn_iter\u001b[49m\u001b[43m,\u001b[49m\u001b[43m \u001b[49m\u001b[43mrandom_state\u001b[49m\u001b[38;5;241;43m=\u001b[39;49m\u001b[38;5;28;43mself\u001b[39;49m\u001b[38;5;241;43m.\u001b[39;49m\u001b[43mrandom_state\u001b[49m\n\u001b[0;32m   1963\u001b[0m \u001b[43m        \u001b[49m\u001b[43m)\u001b[49m\n\u001b[0;32m   1964\u001b[0m \u001b[43m    \u001b[49m\u001b[43m)\u001b[49m\n",
      "File \u001b[1;32m~\\AppData\\Local\\Programs\\Python\\Python312\\Lib\\site-packages\\sklearn\\model_selection\\_search.py:965\u001b[0m, in \u001b[0;36mBaseSearchCV.fit.<locals>.evaluate_candidates\u001b[1;34m(candidate_params, cv, more_results)\u001b[0m\n\u001b[0;32m    957\u001b[0m \u001b[38;5;28;01mif\u001b[39;00m \u001b[38;5;28mself\u001b[39m\u001b[38;5;241m.\u001b[39mverbose \u001b[38;5;241m>\u001b[39m \u001b[38;5;241m0\u001b[39m:\n\u001b[0;32m    958\u001b[0m     \u001b[38;5;28mprint\u001b[39m(\n\u001b[0;32m    959\u001b[0m         \u001b[38;5;124m\"\u001b[39m\u001b[38;5;124mFitting \u001b[39m\u001b[38;5;132;01m{0}\u001b[39;00m\u001b[38;5;124m folds for each of \u001b[39m\u001b[38;5;132;01m{1}\u001b[39;00m\u001b[38;5;124m candidates,\u001b[39m\u001b[38;5;124m\"\u001b[39m\n\u001b[0;32m    960\u001b[0m         \u001b[38;5;124m\"\u001b[39m\u001b[38;5;124m totalling \u001b[39m\u001b[38;5;132;01m{2}\u001b[39;00m\u001b[38;5;124m fits\u001b[39m\u001b[38;5;124m\"\u001b[39m\u001b[38;5;241m.\u001b[39mformat(\n\u001b[0;32m    961\u001b[0m             n_splits, n_candidates, n_candidates \u001b[38;5;241m*\u001b[39m n_splits\n\u001b[0;32m    962\u001b[0m         )\n\u001b[0;32m    963\u001b[0m     )\n\u001b[1;32m--> 965\u001b[0m out \u001b[38;5;241m=\u001b[39m \u001b[43mparallel\u001b[49m\u001b[43m(\u001b[49m\n\u001b[0;32m    966\u001b[0m \u001b[43m    \u001b[49m\u001b[43mdelayed\u001b[49m\u001b[43m(\u001b[49m\u001b[43m_fit_and_score\u001b[49m\u001b[43m)\u001b[49m\u001b[43m(\u001b[49m\n\u001b[0;32m    967\u001b[0m \u001b[43m        \u001b[49m\u001b[43mclone\u001b[49m\u001b[43m(\u001b[49m\u001b[43mbase_estimator\u001b[49m\u001b[43m)\u001b[49m\u001b[43m,\u001b[49m\n\u001b[0;32m    968\u001b[0m \u001b[43m        \u001b[49m\u001b[43mX\u001b[49m\u001b[43m,\u001b[49m\n\u001b[0;32m    969\u001b[0m \u001b[43m        \u001b[49m\u001b[43my\u001b[49m\u001b[43m,\u001b[49m\n\u001b[0;32m    970\u001b[0m \u001b[43m        \u001b[49m\u001b[43mtrain\u001b[49m\u001b[38;5;241;43m=\u001b[39;49m\u001b[43mtrain\u001b[49m\u001b[43m,\u001b[49m\n\u001b[0;32m    971\u001b[0m \u001b[43m        \u001b[49m\u001b[43mtest\u001b[49m\u001b[38;5;241;43m=\u001b[39;49m\u001b[43mtest\u001b[49m\u001b[43m,\u001b[49m\n\u001b[0;32m    972\u001b[0m \u001b[43m        \u001b[49m\u001b[43mparameters\u001b[49m\u001b[38;5;241;43m=\u001b[39;49m\u001b[43mparameters\u001b[49m\u001b[43m,\u001b[49m\n\u001b[0;32m    973\u001b[0m \u001b[43m        \u001b[49m\u001b[43msplit_progress\u001b[49m\u001b[38;5;241;43m=\u001b[39;49m\u001b[43m(\u001b[49m\u001b[43msplit_idx\u001b[49m\u001b[43m,\u001b[49m\u001b[43m \u001b[49m\u001b[43mn_splits\u001b[49m\u001b[43m)\u001b[49m\u001b[43m,\u001b[49m\n\u001b[0;32m    974\u001b[0m \u001b[43m        \u001b[49m\u001b[43mcandidate_progress\u001b[49m\u001b[38;5;241;43m=\u001b[39;49m\u001b[43m(\u001b[49m\u001b[43mcand_idx\u001b[49m\u001b[43m,\u001b[49m\u001b[43m \u001b[49m\u001b[43mn_candidates\u001b[49m\u001b[43m)\u001b[49m\u001b[43m,\u001b[49m\n\u001b[0;32m    975\u001b[0m \u001b[43m        \u001b[49m\u001b[38;5;241;43m*\u001b[39;49m\u001b[38;5;241;43m*\u001b[39;49m\u001b[43mfit_and_score_kwargs\u001b[49m\u001b[43m,\u001b[49m\n\u001b[0;32m    976\u001b[0m \u001b[43m    \u001b[49m\u001b[43m)\u001b[49m\n\u001b[0;32m    977\u001b[0m \u001b[43m    \u001b[49m\u001b[38;5;28;43;01mfor\u001b[39;49;00m\u001b[43m \u001b[49m\u001b[43m(\u001b[49m\u001b[43mcand_idx\u001b[49m\u001b[43m,\u001b[49m\u001b[43m \u001b[49m\u001b[43mparameters\u001b[49m\u001b[43m)\u001b[49m\u001b[43m,\u001b[49m\u001b[43m \u001b[49m\u001b[43m(\u001b[49m\u001b[43msplit_idx\u001b[49m\u001b[43m,\u001b[49m\u001b[43m \u001b[49m\u001b[43m(\u001b[49m\u001b[43mtrain\u001b[49m\u001b[43m,\u001b[49m\u001b[43m \u001b[49m\u001b[43mtest\u001b[49m\u001b[43m)\u001b[49m\u001b[43m)\u001b[49m\u001b[43m \u001b[49m\u001b[38;5;129;43;01min\u001b[39;49;00m\u001b[43m \u001b[49m\u001b[43mproduct\u001b[49m\u001b[43m(\u001b[49m\n\u001b[0;32m    978\u001b[0m \u001b[43m        \u001b[49m\u001b[38;5;28;43menumerate\u001b[39;49m\u001b[43m(\u001b[49m\u001b[43mcandidate_params\u001b[49m\u001b[43m)\u001b[49m\u001b[43m,\u001b[49m\n\u001b[0;32m    979\u001b[0m \u001b[43m        \u001b[49m\u001b[38;5;28;43menumerate\u001b[39;49m\u001b[43m(\u001b[49m\u001b[43mcv\u001b[49m\u001b[38;5;241;43m.\u001b[39;49m\u001b[43msplit\u001b[49m\u001b[43m(\u001b[49m\u001b[43mX\u001b[49m\u001b[43m,\u001b[49m\u001b[43m \u001b[49m\u001b[43my\u001b[49m\u001b[43m,\u001b[49m\u001b[43m \u001b[49m\u001b[38;5;241;43m*\u001b[39;49m\u001b[38;5;241;43m*\u001b[39;49m\u001b[43mrouted_params\u001b[49m\u001b[38;5;241;43m.\u001b[39;49m\u001b[43msplitter\u001b[49m\u001b[38;5;241;43m.\u001b[39;49m\u001b[43msplit\u001b[49m\u001b[43m)\u001b[49m\u001b[43m)\u001b[49m\u001b[43m,\u001b[49m\n\u001b[0;32m    980\u001b[0m \u001b[43m    \u001b[49m\u001b[43m)\u001b[49m\n\u001b[0;32m    981\u001b[0m \u001b[43m\u001b[49m\u001b[43m)\u001b[49m\n\u001b[0;32m    983\u001b[0m \u001b[38;5;28;01mif\u001b[39;00m \u001b[38;5;28mlen\u001b[39m(out) \u001b[38;5;241m<\u001b[39m \u001b[38;5;241m1\u001b[39m:\n\u001b[0;32m    984\u001b[0m     \u001b[38;5;28;01mraise\u001b[39;00m \u001b[38;5;167;01mValueError\u001b[39;00m(\n\u001b[0;32m    985\u001b[0m         \u001b[38;5;124m\"\u001b[39m\u001b[38;5;124mNo fits were performed. \u001b[39m\u001b[38;5;124m\"\u001b[39m\n\u001b[0;32m    986\u001b[0m         \u001b[38;5;124m\"\u001b[39m\u001b[38;5;124mWas the CV iterator empty? \u001b[39m\u001b[38;5;124m\"\u001b[39m\n\u001b[0;32m    987\u001b[0m         \u001b[38;5;124m\"\u001b[39m\u001b[38;5;124mWere there no candidates?\u001b[39m\u001b[38;5;124m\"\u001b[39m\n\u001b[0;32m    988\u001b[0m     )\n",
      "File \u001b[1;32m~\\AppData\\Local\\Programs\\Python\\Python312\\Lib\\site-packages\\sklearn\\utils\\parallel.py:74\u001b[0m, in \u001b[0;36mParallel.__call__\u001b[1;34m(self, iterable)\u001b[0m\n\u001b[0;32m     69\u001b[0m config \u001b[38;5;241m=\u001b[39m get_config()\n\u001b[0;32m     70\u001b[0m iterable_with_config \u001b[38;5;241m=\u001b[39m (\n\u001b[0;32m     71\u001b[0m     (_with_config(delayed_func, config), args, kwargs)\n\u001b[0;32m     72\u001b[0m     \u001b[38;5;28;01mfor\u001b[39;00m delayed_func, args, kwargs \u001b[38;5;129;01min\u001b[39;00m iterable\n\u001b[0;32m     73\u001b[0m )\n\u001b[1;32m---> 74\u001b[0m \u001b[38;5;28;01mreturn\u001b[39;00m \u001b[38;5;28;43msuper\u001b[39;49m\u001b[43m(\u001b[49m\u001b[43m)\u001b[49m\u001b[38;5;241;43m.\u001b[39;49m\u001b[38;5;21;43m__call__\u001b[39;49m\u001b[43m(\u001b[49m\u001b[43miterable_with_config\u001b[49m\u001b[43m)\u001b[49m\n",
      "File \u001b[1;32m~\\AppData\\Local\\Programs\\Python\\Python312\\Lib\\site-packages\\joblib\\parallel.py:2007\u001b[0m, in \u001b[0;36mParallel.__call__\u001b[1;34m(self, iterable)\u001b[0m\n\u001b[0;32m   2001\u001b[0m \u001b[38;5;66;03m# The first item from the output is blank, but it makes the interpreter\u001b[39;00m\n\u001b[0;32m   2002\u001b[0m \u001b[38;5;66;03m# progress until it enters the Try/Except block of the generator and\u001b[39;00m\n\u001b[0;32m   2003\u001b[0m \u001b[38;5;66;03m# reaches the first `yield` statement. This starts the asynchronous\u001b[39;00m\n\u001b[0;32m   2004\u001b[0m \u001b[38;5;66;03m# dispatch of the tasks to the workers.\u001b[39;00m\n\u001b[0;32m   2005\u001b[0m \u001b[38;5;28mnext\u001b[39m(output)\n\u001b[1;32m-> 2007\u001b[0m \u001b[38;5;28;01mreturn\u001b[39;00m output \u001b[38;5;28;01mif\u001b[39;00m \u001b[38;5;28mself\u001b[39m\u001b[38;5;241m.\u001b[39mreturn_generator \u001b[38;5;28;01melse\u001b[39;00m \u001b[38;5;28;43mlist\u001b[39;49m\u001b[43m(\u001b[49m\u001b[43moutput\u001b[49m\u001b[43m)\u001b[49m\n",
      "File \u001b[1;32m~\\AppData\\Local\\Programs\\Python\\Python312\\Lib\\site-packages\\joblib\\parallel.py:1650\u001b[0m, in \u001b[0;36mParallel._get_outputs\u001b[1;34m(self, iterator, pre_dispatch)\u001b[0m\n\u001b[0;32m   1647\u001b[0m     \u001b[38;5;28;01myield\u001b[39;00m\n\u001b[0;32m   1649\u001b[0m     \u001b[38;5;28;01mwith\u001b[39;00m \u001b[38;5;28mself\u001b[39m\u001b[38;5;241m.\u001b[39m_backend\u001b[38;5;241m.\u001b[39mretrieval_context():\n\u001b[1;32m-> 1650\u001b[0m         \u001b[38;5;28;01myield from\u001b[39;00m \u001b[38;5;28mself\u001b[39m\u001b[38;5;241m.\u001b[39m_retrieve()\n\u001b[0;32m   1652\u001b[0m \u001b[38;5;28;01mexcept\u001b[39;00m \u001b[38;5;167;01mGeneratorExit\u001b[39;00m:\n\u001b[0;32m   1653\u001b[0m     \u001b[38;5;66;03m# The generator has been garbage collected before being fully\u001b[39;00m\n\u001b[0;32m   1654\u001b[0m     \u001b[38;5;66;03m# consumed. This aborts the remaining tasks if possible and warn\u001b[39;00m\n\u001b[0;32m   1655\u001b[0m     \u001b[38;5;66;03m# the user if necessary.\u001b[39;00m\n\u001b[0;32m   1656\u001b[0m     \u001b[38;5;28mself\u001b[39m\u001b[38;5;241m.\u001b[39m_exception \u001b[38;5;241m=\u001b[39m \u001b[38;5;28;01mTrue\u001b[39;00m\n",
      "File \u001b[1;32m~\\AppData\\Local\\Programs\\Python\\Python312\\Lib\\site-packages\\joblib\\parallel.py:1762\u001b[0m, in \u001b[0;36mParallel._retrieve\u001b[1;34m(self)\u001b[0m\n\u001b[0;32m   1757\u001b[0m \u001b[38;5;66;03m# If the next job is not ready for retrieval yet, we just wait for\u001b[39;00m\n\u001b[0;32m   1758\u001b[0m \u001b[38;5;66;03m# async callbacks to progress.\u001b[39;00m\n\u001b[0;32m   1759\u001b[0m \u001b[38;5;28;01mif\u001b[39;00m ((\u001b[38;5;28mlen\u001b[39m(\u001b[38;5;28mself\u001b[39m\u001b[38;5;241m.\u001b[39m_jobs) \u001b[38;5;241m==\u001b[39m \u001b[38;5;241m0\u001b[39m) \u001b[38;5;129;01mor\u001b[39;00m\n\u001b[0;32m   1760\u001b[0m     (\u001b[38;5;28mself\u001b[39m\u001b[38;5;241m.\u001b[39m_jobs[\u001b[38;5;241m0\u001b[39m]\u001b[38;5;241m.\u001b[39mget_status(\n\u001b[0;32m   1761\u001b[0m         timeout\u001b[38;5;241m=\u001b[39m\u001b[38;5;28mself\u001b[39m\u001b[38;5;241m.\u001b[39mtimeout) \u001b[38;5;241m==\u001b[39m TASK_PENDING)):\n\u001b[1;32m-> 1762\u001b[0m     \u001b[43mtime\u001b[49m\u001b[38;5;241;43m.\u001b[39;49m\u001b[43msleep\u001b[49m\u001b[43m(\u001b[49m\u001b[38;5;241;43m0.01\u001b[39;49m\u001b[43m)\u001b[49m\n\u001b[0;32m   1763\u001b[0m     \u001b[38;5;28;01mcontinue\u001b[39;00m\n\u001b[0;32m   1765\u001b[0m \u001b[38;5;66;03m# We need to be careful: the job list can be filling up as\u001b[39;00m\n\u001b[0;32m   1766\u001b[0m \u001b[38;5;66;03m# we empty it and Python list are not thread-safe by\u001b[39;00m\n\u001b[0;32m   1767\u001b[0m \u001b[38;5;66;03m# default hence the use of the lock\u001b[39;00m\n",
      "\u001b[1;31mKeyboardInterrupt\u001b[0m: "
     ]
    }
   ],
   "source": [
    "from sklearn.model_selection import RandomizedSearchCV\n",
    "from sklearn.ensemble import RandomForestClassifier\n",
    "from scipy.stats import randint\n",
    "from sklearn.metrics import classification_report, accuracy_score\n",
    "\n",
    "# Define the hyperparameter grid\n",
    "param_dist = {\n",
    "    'max_depth': randint(10,20),  # Max depth of the tree\n",
    "    'min_samples_split': randint(2, 10),  # Minimum samples to split an internal node\n",
    "    'min_samples_leaf': randint(1, 10),  # Minimum samples at a leaf node\n",
    "    'max_features': ['sqrt', 'log2'],  # Number of features to consider at each split\n",
    "    'bootstrap': [True]  # Whether to bootstrap samples or not\n",
    "}\n",
    "\n",
    "# Initialize RandomForestClassifier\n",
    "rf_classifier = RandomForestClassifier(random_state=54)\n",
    "\n",
    "# Set up RandomizedSearchCV with recall as the scoring metric\n",
    "random_search = RandomizedSearchCV(\n",
    "    rf_classifier,\n",
    "    param_distributions=param_dist, \n",
    "    n_iter=40, \n",
    "    cv=3, \n",
    "    verbose=1, \n",
    "    random_state=54, \n",
    "    scoring='recall',  # Change scoring metric to 'recall'\n",
    "    n_jobs=-1\n",
    ")\n",
    "\n",
    "# Fit the RandomizedSearchCV model to the data\n",
    "random_search.fit(X_train_smote, y_train_smote)\n",
    "\n",
    "# Get the best parameters from the random search\n",
    "best_params = random_search.best_params_\n",
    "print(f\"Best Parameters: {best_params}\")\n",
    "\n",
    "# Use the best model to predict on the test set\n",
    "y_pred = random_search.best_estimator_.predict(X_test)\n",
    "\n",
    "# Calculate accuracy and classification report\n",
    "accuracy = accuracy_score(y_test, y_pred)\n",
    "report = classification_report(y_test, y_pred)\n",
    "\n",
    "print(f\"Accuracy: {accuracy}\")\n",
    "print(f\"Classification Report:\\n{report}\")\n"
   ]
  },
  {
   "cell_type": "markdown",
   "id": "994063b6-7e76-45e5-b4ba-efb92ed3fb02",
   "metadata": {},
   "source": [
    "##### After hyperparameter tunning"
   ]
  },
  {
   "cell_type": "code",
   "execution_count": 96,
   "id": "8ec75069-64e8-47df-9694-941a76064de9",
   "metadata": {},
   "outputs": [
    {
     "name": "stdout",
     "output_type": "stream",
     "text": [
      "Accuracy: 0.8928089887640449\n",
      "Classification Report:\n",
      "              precision    recall  f1-score   support\n",
      "\n",
      "           0       0.96      0.91      0.94      7898\n",
      "           1       0.52      0.74      0.61      1002\n",
      "\n",
      "    accuracy                           0.89      8900\n",
      "   macro avg       0.74      0.83      0.77      8900\n",
      "weighted avg       0.91      0.89      0.90      8900\n",
      "\n"
     ]
    }
   ],
   "source": [
    "df = pd.read_csv(\"dataset2.csv\")\n",
    "X = df.drop(columns=['y'])\n",
    "y = df['y']\n",
    "\n",
    "from sklearn.ensemble import RandomForestClassifier\n",
    "from sklearn.model_selection import train_test_split\n",
    "from sklearn.preprocessing import LabelEncoder\n",
    "from sklearn.metrics import accuracy_score, classification_report\n",
    "from imblearn.over_sampling import SMOTE\n",
    "\n",
    "X_train, X_test, y_train, y_test = train_test_split(X, y,test_size=0.2, random_state=54, stratify=y)\n",
    "\n",
    "# Smote for training set\n",
    "smote = SMOTE(random_state=54)\n",
    "X_train_smote, y_train_smote = smote.fit_resample(X_train, y_train)\n",
    "\n",
    "rf_classifier = RandomForestClassifier(n_estimators=156, random_state=54, bootstrap=True, \n",
    "                                       max_features='sqrt', min_samples_leaf=3, min_samples_split=3, max_depth=18)\n",
    "rf_classifier.fit(X_train_smote, y_train_smote)\n",
    "\n",
    "y_pred = rf_classifier.predict(X_test)\n",
    "\n",
    "accuracy = accuracy_score(y_test, y_pred)\n",
    "report = classification_report(y_test, y_pred)\n",
    "\n",
    "print(f\"Accuracy: {accuracy}\")\n",
    "print(f\"Classification Report:\\n{report}\")"
   ]
  },
  {
   "cell_type": "markdown",
   "id": "9432fade-8049-44ef-8ef4-56e91453584b",
   "metadata": {},
   "source": [
    "##### Evaluation of the model after parameter tuning"
   ]
  },
  {
   "cell_type": "code",
   "execution_count": 97,
   "id": "600cc63e-2e4e-4516-b2b6-134427b0ff5c",
   "metadata": {},
   "outputs": [
    {
     "name": "stdout",
     "output_type": "stream",
     "text": [
      "Confusion Matrix:\n",
      "[[7207  691]\n",
      " [ 263  739]]\n"
     ]
    }
   ],
   "source": [
    "from sklearn.metrics import confusion_matrix\n",
    "\n",
    "# Assuming y_true is the true labels and y_pred are the predicted labels\n",
    "conf_matrix = confusion_matrix(y_test, y_pred)\n",
    "\n",
    "print(\"Confusion Matrix:\")\n",
    "print(conf_matrix)\n"
   ]
  },
  {
   "cell_type": "code",
   "execution_count": 38,
   "id": "a1a7c582-297b-45ba-a277-cef02ea3b524",
   "metadata": {},
   "outputs": [
    {
     "name": "stdout",
     "output_type": "stream",
     "text": [
      "Training Accuracy: 0.9655\n",
      "Test Accuracy: 0.8884\n"
     ]
    }
   ],
   "source": [
    "train_test_accuracy(rf_classifier, X_train_smote, y_train_smote, X_test, y_test)"
   ]
  },
  {
   "cell_type": "code",
   "execution_count": 39,
   "id": "725dd70c-a344-40fc-b27e-927ade2443d6",
   "metadata": {},
   "outputs": [
    {
     "name": "stdout",
     "output_type": "stream",
     "text": [
      "Stratified CV Accuracy for each fold: [0.8864044943820225, 0.8826966292134831, 0.8855056179775281, 0.888976289470727, 0.8874030789976401]\n",
      "Mean Stratified CV Overall Accuracy: 0.8861972220082801\n"
     ]
    },
    {
     "data": {
      "text/plain": [
       "np.float64(0.8861972220082801)"
      ]
     },
     "execution_count": 39,
     "metadata": {},
     "output_type": "execute_result"
    }
   ],
   "source": [
    "SKF_CV_accuracy(rf_classifier, X, y)"
   ]
  },
  {
   "cell_type": "code",
   "execution_count": 40,
   "id": "23ef1239-68e5-4a7b-abc8-6eca6efb330c",
   "metadata": {},
   "outputs": [
    {
     "name": "stdout",
     "output_type": "stream",
     "text": [
      "Stratified CV F1 Scores for '1' class (positive class): [0.597692   0.59026688 0.58594067 0.6066879  0.59759036]\n",
      "Mean Stratified CV F1 Score for '1' class (positive class): 0.5956355623260784\n"
     ]
    }
   ],
   "source": [
    "CV_positive_F1(rf_classifier, X, y)"
   ]
  },
  {
   "cell_type": "code",
   "execution_count": 41,
   "id": "f91acc2a-614a-41a0-88ae-a9fd03b7dc42",
   "metadata": {},
   "outputs": [
    {
     "name": "stdout",
     "output_type": "stream",
     "text": [
      "Stratified CV F1 Scores for '' class (negative class): [0.93386538 0.93154996 0.93356803 0.93536569 0.93454403]\n",
      "Mean Stratified CV F1 Score for '0' class (negative class): 0.9337786178083849\n"
     ]
    }
   ],
   "source": [
    "CV_negative_F1(rf_classifier, X, y)"
   ]
  },
  {
   "cell_type": "code",
   "execution_count": null,
   "id": "c88e2185-8ffd-4264-a361-4499cfbf38a7",
   "metadata": {},
   "outputs": [],
   "source": []
  },
  {
   "cell_type": "markdown",
   "id": "673d8eaf-a82a-4e7c-91c3-95b44c568dac",
   "metadata": {},
   "source": [
    "#### 2) Label encoding - irrelative feature removed dataset"
   ]
  },
  {
   "cell_type": "markdown",
   "id": "40847d41-f0f1-42ea-96ce-2ef2695eaad6",
   "metadata": {},
   "source": [
    "##### before hyperparameter tunning"
   ]
  },
  {
   "cell_type": "code",
   "execution_count": 52,
   "id": "fe04c564-d3c9-4a81-b7f1-f2920db61989",
   "metadata": {},
   "outputs": [
    {
     "name": "stdout",
     "output_type": "stream",
     "text": [
      "Accuracy: 0.8956179775280899\n",
      "Classification Report:\n",
      "              precision    recall  f1-score   support\n",
      "\n",
      "         0.0       0.96      0.93      0.94      7898\n",
      "         1.0       0.53      0.66      0.59      1002\n",
      "\n",
      "    accuracy                           0.90      8900\n",
      "   macro avg       0.74      0.79      0.76      8900\n",
      "weighted avg       0.91      0.90      0.90      8900\n",
      "\n"
     ]
    }
   ],
   "source": [
    "df = pd.read_csv(\"dataset2.csv\")\n",
    "df = df.drop(columns=['marital', 'loan', 'education', 'default', 'poutcome'])\n",
    "X = df.drop(columns=['y'])\n",
    "y = df['y']\n",
    "\n",
    "from sklearn.ensemble import RandomForestClassifier\n",
    "from sklearn.model_selection import train_test_split\n",
    "from sklearn.preprocessing import LabelEncoder\n",
    "from sklearn.metrics import accuracy_score, classification_report\n",
    "from imblearn.over_sampling import SMOTE\n",
    "\n",
    "X_train, X_test, y_train, y_test = train_test_split(X, y,test_size=0.2, random_state=54, stratify=y)\n",
    "\n",
    "# Smote for training set\n",
    "smote = SMOTE(random_state=54)\n",
    "X_train_smote, y_train_smote = smote.fit_resample(X_train, y_train)\n",
    "\n",
    "rf_classifier = RandomForestClassifier(n_estimators=156, random_state=54)\n",
    "rf_classifier.fit(X_train_smote, y_train_smote)\n",
    "\n",
    "y_pred = rf_classifier.predict(X_test)\n",
    "\n",
    "accuracy = accuracy_score(y_test, y_pred)\n",
    "report = classification_report(y_test, y_pred)\n",
    "\n",
    "print(f\"Accuracy: {accuracy}\")\n",
    "print(f\"Classification Report:\\n{report}\")"
   ]
  },
  {
   "cell_type": "markdown",
   "id": "047c9561-4a93-40f9-a211-9a1dfe7ddc82",
   "metadata": {},
   "source": [
    "##### Hyper parameter tuning"
   ]
  },
  {
   "cell_type": "code",
   "execution_count": 53,
   "id": "aaab331f-9cbf-4895-8744-e3825b583dcb",
   "metadata": {},
   "outputs": [
    {
     "name": "stdout",
     "output_type": "stream",
     "text": [
      "Fitting 3 folds for each of 40 candidates, totalling 120 fits\n",
      "Best Parameters: {'bootstrap': True, 'max_depth': 18, 'min_samples_leaf': 2, 'min_samples_split': 5}\n",
      "Accuracy: 0.8897752808988764\n",
      "Classification Report:\n",
      "              precision    recall  f1-score   support\n",
      "\n",
      "         0.0       0.96      0.91      0.94      7898\n",
      "         1.0       0.51      0.71      0.59      1002\n",
      "\n",
      "    accuracy                           0.89      8900\n",
      "   macro avg       0.73      0.81      0.76      8900\n",
      "weighted avg       0.91      0.89      0.90      8900\n",
      "\n"
     ]
    }
   ],
   "source": [
    "from sklearn.model_selection import RandomizedSearchCV\n",
    "from sklearn.ensemble import RandomForestClassifier\n",
    "from scipy.stats import randint\n",
    "from sklearn.metrics import classification_report, accuracy_score\n",
    "\n",
    "# Define the hyperparameter grid\n",
    "param_dist = {\n",
    "    'max_depth': randint(10,20),  # Max depth of the tree\n",
    "    'min_samples_split': randint(2, 10),  # Minimum samples to split an internal node\n",
    "    'min_samples_leaf': randint(1, 10),  # Minimum samples at a leaf node\n",
    "    'bootstrap': [True]  # Whether to bootstrap samples or not\n",
    "}\n",
    "\n",
    "# Initialize RandomForestClassifier\n",
    "rf_classifier = RandomForestClassifier(random_state=54)\n",
    "\n",
    "# Set up RandomizedSearchCV with recall as the scoring metric\n",
    "random_search = RandomizedSearchCV(\n",
    "    rf_classifier,\n",
    "    param_distributions=param_dist, \n",
    "    n_iter=40, \n",
    "    cv=3, \n",
    "    verbose=1, \n",
    "    random_state=54, \n",
    "    scoring='recall',  # Change scoring metric to 'recall'\n",
    "    n_jobs=-1\n",
    ")\n",
    "\n",
    "# Fit the RandomizedSearchCV model to the data\n",
    "random_search.fit(X_train_smote, y_train_smote)\n",
    "\n",
    "# Get the best parameters from the random search\n",
    "best_params = random_search.best_params_\n",
    "print(f\"Best Parameters: {best_params}\")\n",
    "\n",
    "# Use the best model to predict on the test set\n",
    "y_pred = random_search.best_estimator_.predict(X_test)\n",
    "\n",
    "# Calculate accuracy and classification report\n",
    "accuracy = accuracy_score(y_test, y_pred)\n",
    "report = classification_report(y_test, y_pred)\n",
    "\n",
    "print(f\"Accuracy: {accuracy}\")\n",
    "print(f\"Classification Report:\\n{report}\")\n"
   ]
  },
  {
   "cell_type": "markdown",
   "id": "da79bd79-95e0-4a4c-ad64-1da20c6832c4",
   "metadata": {},
   "source": [
    "##### After hyper parameter tunning"
   ]
  },
  {
   "cell_type": "code",
   "execution_count": 63,
   "id": "b32f8a82-b41a-4d8a-8e38-e5b62c75970d",
   "metadata": {},
   "outputs": [
    {
     "name": "stdout",
     "output_type": "stream",
     "text": [
      "Accuracy: 0.8895505617977528\n",
      "Classification Report:\n",
      "              precision    recall  f1-score   support\n",
      "\n",
      "           0       0.96      0.91      0.94      7898\n",
      "           1       0.51      0.71      0.59      1002\n",
      "\n",
      "    accuracy                           0.89      8900\n",
      "   macro avg       0.73      0.81      0.76      8900\n",
      "weighted avg       0.91      0.89      0.90      8900\n",
      "\n"
     ]
    }
   ],
   "source": [
    "df = pd.read_csv(\"dataset2.csv\")\n",
    "df = df.drop(columns=['marital', 'loan', 'education', 'default', 'poutcome'])\n",
    "X = df.drop(columns=['y'])\n",
    "y = df['y']\n",
    "\n",
    "from sklearn.ensemble import RandomForestClassifier\n",
    "from sklearn.model_selection import train_test_split\n",
    "from sklearn.preprocessing import LabelEncoder\n",
    "from sklearn.metrics import accuracy_score, classification_report\n",
    "from imblearn.over_sampling import SMOTE\n",
    "\n",
    "X_train, X_test, y_train, y_test = train_test_split(X, y,test_size=0.2, random_state=54, stratify=y)\n",
    "\n",
    "# Smote for training set\n",
    "smote = SMOTE(random_state=54)\n",
    "X_train_smote, y_train_smote = smote.fit_resample(X_train, y_train)\n",
    "\n",
    "rf_classifier = RandomForestClassifier(n_estimators=156, random_state=54, bootstrap=True, max_depth=18,\n",
    "                                        min_samples_leaf=2, min_samples_split=5, max_features='sqrt')\n",
    "rf_classifier.fit(X_train_smote, y_train_smote)\n",
    "\n",
    "y_pred = rf_classifier.predict(X_test)\n",
    "\n",
    "accuracy = accuracy_score(y_test, y_pred)\n",
    "report = classification_report(y_test, y_pred)\n",
    "\n",
    "print(f\"Accuracy: {accuracy}\")\n",
    "print(f\"Classification Report:\\n{report}\")"
   ]
  },
  {
   "cell_type": "markdown",
   "id": "b5d68fb3-9e64-4867-8fee-311bfc2a4642",
   "metadata": {},
   "source": [
    "##### Evaluation of the model after parameter tuning"
   ]
  },
  {
   "cell_type": "code",
   "execution_count": 56,
   "id": "f18cb9e1-1d76-488e-af35-c96481b01e5e",
   "metadata": {},
   "outputs": [
    {
     "name": "stdout",
     "output_type": "stream",
     "text": [
      "Training Accuracy: 0.9737\n",
      "Test Accuracy: 0.9803\n"
     ]
    }
   ],
   "source": [
    "train_test_accuracy(rf_classifier, X_train_smote, y_train_smote, X_test, y_test)"
   ]
  },
  {
   "cell_type": "code",
   "execution_count": 57,
   "id": "44a180cf-082e-4a38-8f2a-c66aa41f89c9",
   "metadata": {},
   "outputs": [
    {
     "name": "stdout",
     "output_type": "stream",
     "text": [
      "Stratified CV Accuracy for each fold: [0.8978651685393259, 0.8930337078651686, 0.8942696629213484, 0.8995392740757389, 0.8952691313630745]\n",
      "Mean Stratified CV Overall Accuracy: 0.8959953889529313\n"
     ]
    },
    {
     "data": {
      "text/plain": [
       "np.float64(0.8959953889529313)"
      ]
     },
     "execution_count": 57,
     "metadata": {},
     "output_type": "execute_result"
    }
   ],
   "source": [
    "SKF_CV_accuracy(rf_classifier, X, y)"
   ]
  },
  {
   "cell_type": "code",
   "execution_count": 58,
   "id": "8eb2ca0f-9705-4728-b5bc-f3cd4180a412",
   "metadata": {},
   "outputs": [
    {
     "name": "stdout",
     "output_type": "stream",
     "text": [
      "Stratified CV F1 Scores for '1' class (positive class): [0.60079051 0.57801418 0.57593511 0.60301954 0.58467023]\n",
      "Mean Stratified CV F1 Score for '1' class (positive class): 0.5884859148104095\n"
     ]
    }
   ],
   "source": [
    "CV_positive_F1(rf_classifier, X, y)"
   ]
  },
  {
   "cell_type": "code",
   "execution_count": 59,
   "id": "c6b6acc6-3107-4db4-a0cc-03d4debe6d3e",
   "metadata": {},
   "outputs": [
    {
     "name": "stdout",
     "output_type": "stream",
     "text": [
      "Stratified CV F1 Scores for '' class (negative class): [0.94144173 0.9387545  0.93960593 0.94249325 0.94007972]\n",
      "Mean Stratified CV F1 Score for '0' class (negative class): 0.9404750266756142\n"
     ]
    }
   ],
   "source": [
    "CV_negative_F1(rf_classifier, X, y)"
   ]
  },
  {
   "cell_type": "code",
   "execution_count": null,
   "id": "efcaa736-8040-424f-bb79-3f27961b9773",
   "metadata": {},
   "outputs": [],
   "source": []
  },
  {
   "cell_type": "markdown",
   "id": "7d6e651c-0c6e-429e-b23f-16b103150b68",
   "metadata": {},
   "source": [
    "#### 3) Label encoded PCA (no hyperparameter tunning)"
   ]
  },
  {
   "cell_type": "markdown",
   "id": "c90ee865-dfda-4755-85b1-13e5a9df5bfc",
   "metadata": {},
   "source": [
    "##### Before hyperparameter tunning"
   ]
  },
  {
   "cell_type": "code",
   "execution_count": 64,
   "id": "5cab1635-d62f-4754-a9b4-bd74dca587f5",
   "metadata": {},
   "outputs": [
    {
     "data": {
      "text/plain": [
       "(44498, 13)"
      ]
     },
     "execution_count": 64,
     "metadata": {},
     "output_type": "execute_result"
    }
   ],
   "source": [
    "from sklearn.decomposition import PCA\n",
    "from sklearn.preprocessing import StandardScaler\n",
    "\n",
    "df = pd.read_csv(\"dataset2.csv\")\n",
    "\n",
    "X = df.drop(columns=['y'])  \n",
    "y = df['y']  \n",
    "\n",
    "# Applying PCA\n",
    "scaler = StandardScaler()\n",
    "X_scaled = scaler.fit_transform(X)\n",
    "\n",
    "pca = PCA(n_components=0.95)\n",
    "X = pca.fit_transform(X_scaled)\n",
    "\n",
    "X.shape"
   ]
  },
  {
   "cell_type": "code",
   "execution_count": 65,
   "id": "97168bb7-3829-4dfc-ae39-44ea9d0f410b",
   "metadata": {},
   "outputs": [
    {
     "name": "stdout",
     "output_type": "stream",
     "text": [
      "Accuracy: 0.8761797752808989\n",
      "Classification Report:\n",
      "              precision    recall  f1-score   support\n",
      "\n",
      "           0       0.95      0.90      0.93      7898\n",
      "           1       0.46      0.65      0.54      1002\n",
      "\n",
      "    accuracy                           0.88      8900\n",
      "   macro avg       0.71      0.78      0.74      8900\n",
      "weighted avg       0.90      0.88      0.88      8900\n",
      "\n"
     ]
    }
   ],
   "source": [
    "from sklearn.ensemble import RandomForestClassifier\n",
    "from sklearn.model_selection import train_test_split\n",
    "from sklearn.preprocessing import LabelEncoder\n",
    "from sklearn.metrics import accuracy_score, classification_report\n",
    "from imblearn.over_sampling import SMOTE\n",
    "\n",
    "X_train, X_test, y_train, y_test = train_test_split(X, y,test_size=0.2, random_state=54, stratify=y)\n",
    "\n",
    "# Smote for training set\n",
    "smote = SMOTE(random_state=54)\n",
    "X_train_smote, y_train_smote = smote.fit_resample(X_train, y_train)\n",
    "\n",
    "rf_classifier = RandomForestClassifier(n_estimators=200, random_state=54, class_weight='balanced')\n",
    "rf_classifier.fit(X_train_smote, y_train_smote)\n",
    "\n",
    "y_pred = rf_classifier.predict(X_test)\n",
    "\n",
    "accuracy = accuracy_score(y_test, y_pred)\n",
    "report = classification_report(y_test, y_pred)\n",
    "\n",
    "print(f\"Accuracy: {accuracy}\")\n",
    "print(f\"Classification Report:\\n{report}\")"
   ]
  },
  {
   "cell_type": "markdown",
   "id": "2d9a2e33-bdc0-4417-8c98-1d4b7fbee84c",
   "metadata": {},
   "source": [
    "##### Randomoized Search"
   ]
  },
  {
   "cell_type": "code",
   "execution_count": 66,
   "id": "fe615a02-421f-463b-96a1-ca5293725ccc",
   "metadata": {},
   "outputs": [
    {
     "name": "stdout",
     "output_type": "stream",
     "text": [
      "Fitting 3 folds for each of 40 candidates, totalling 120 fits\n",
      "Best Parameters: {'bootstrap': True, 'max_depth': 17, 'min_samples_leaf': 2, 'min_samples_split': 2}\n",
      "Accuracy: 0.8629213483146068\n",
      "Classification Report:\n",
      "              precision    recall  f1-score   support\n",
      "\n",
      "           0       0.96      0.88      0.92      7898\n",
      "           1       0.43      0.71      0.54      1002\n",
      "\n",
      "    accuracy                           0.86      8900\n",
      "   macro avg       0.70      0.80      0.73      8900\n",
      "weighted avg       0.90      0.86      0.88      8900\n",
      "\n"
     ]
    }
   ],
   "source": [
    "from sklearn.model_selection import RandomizedSearchCV\n",
    "from sklearn.ensemble import RandomForestClassifier\n",
    "from scipy.stats import randint\n",
    "from sklearn.metrics import classification_report, accuracy_score\n",
    "\n",
    "# Define the hyperparameter grid\n",
    "param_dist = {\n",
    "    'max_depth': randint(10,20),  # Max depth of the tree\n",
    "    'min_samples_split': randint(2, 10),  # Minimum samples to split an internal node\n",
    "    'min_samples_leaf': randint(1, 10),  # Minimum samples at a leaf node\n",
    "    'bootstrap': [True]  # Whether to bootstrap samples or not\n",
    "}\n",
    "\n",
    "# Initialize RandomForestClassifier\n",
    "rf_classifier = RandomForestClassifier(random_state=54)\n",
    "\n",
    "# Set up RandomizedSearchCV with recall as the scoring metric\n",
    "random_search = RandomizedSearchCV(\n",
    "    rf_classifier,\n",
    "    param_distributions=param_dist, \n",
    "    n_iter=40, \n",
    "    cv=3, \n",
    "    verbose=1, \n",
    "    random_state=54, \n",
    "    scoring='recall',  # Change scoring metric to 'recall'\n",
    "    n_jobs=-1\n",
    ")\n",
    "\n",
    "# Fit the RandomizedSearchCV model to the data\n",
    "random_search.fit(X_train_smote, y_train_smote)\n",
    "\n",
    "# Get the best parameters from the random search\n",
    "best_params = random_search.best_params_\n",
    "print(f\"Best Parameters: {best_params}\")\n",
    "\n",
    "# Use the best model to predict on the test set\n",
    "y_pred = random_search.best_estimator_.predict(X_test)\n",
    "\n",
    "# Calculate accuracy and classification report\n",
    "accuracy = accuracy_score(y_test, y_pred)\n",
    "report = classification_report(y_test, y_pred)\n",
    "\n",
    "print(f\"Accuracy: {accuracy}\")\n",
    "print(f\"Classification Report:\\n{report}\")\n"
   ]
  },
  {
   "cell_type": "markdown",
   "id": "163d635b-db6c-4d2e-861e-14998d147e34",
   "metadata": {},
   "source": [
    "##### After hyper parameter tunning"
   ]
  },
  {
   "cell_type": "code",
   "execution_count": 70,
   "id": "5cafed7b-7d1e-4f72-b017-590c039c33d4",
   "metadata": {},
   "outputs": [
    {
     "name": "stdout",
     "output_type": "stream",
     "text": [
      "Accuracy: 0.8893258426966292\n",
      "Classification Report:\n",
      "              precision    recall  f1-score   support\n",
      "\n",
      "           0       0.96      0.91      0.94      7898\n",
      "           1       0.51      0.72      0.59      1002\n",
      "\n",
      "    accuracy                           0.89      8900\n",
      "   macro avg       0.73      0.81      0.76      8900\n",
      "weighted avg       0.91      0.89      0.90      8900\n",
      "\n"
     ]
    }
   ],
   "source": [
    "df = pd.read_csv(\"dataset2.csv\")\n",
    "df = df.drop(columns=['marital', 'loan', 'education', 'default', 'poutcome'])\n",
    "X = df.drop(columns=['y'])\n",
    "y = df['y']\n",
    "\n",
    "from sklearn.ensemble import RandomForestClassifier\n",
    "from sklearn.model_selection import train_test_split\n",
    "from sklearn.preprocessing import LabelEncoder\n",
    "from sklearn.metrics import accuracy_score, classification_report\n",
    "from imblearn.over_sampling import SMOTE\n",
    "\n",
    "X_train, X_test, y_train, y_test = train_test_split(X, y,test_size=0.2, random_state=54, stratify=y)\n",
    "\n",
    "# Smote for training set\n",
    "smote = SMOTE(random_state=54)\n",
    "X_train_smote, y_train_smote = smote.fit_resample(X_train, y_train)\n",
    "\n",
    "rf_classifier = RandomForestClassifier(n_estimators=156, random_state=54, bootstrap=True, max_depth=17,\n",
    "                                        min_samples_leaf=2, min_samples_split=2, max_features='sqrt')\n",
    "rf_classifier.fit(X_train_smote, y_train_smote)\n",
    "\n",
    "y_pred = rf_classifier.predict(X_test)\n",
    "\n",
    "accuracy = accuracy_score(y_test, y_pred)\n",
    "report = classification_report(y_test, y_pred)\n",
    "\n",
    "print(f\"Accuracy: {accuracy}\")\n",
    "print(f\"Classification Report:\\n{report}\")"
   ]
  },
  {
   "cell_type": "markdown",
   "id": "0a06d5df-a0ec-4624-8a51-a58c1cac583a",
   "metadata": {},
   "source": [
    "##### Model evaluation"
   ]
  },
  {
   "cell_type": "code",
   "execution_count": 71,
   "id": "55def783-7fd8-4d6b-8ed8-74a3b8874def",
   "metadata": {},
   "outputs": [
    {
     "name": "stdout",
     "output_type": "stream",
     "text": [
      "Training Accuracy: 0.9758\n",
      "Test Accuracy: 0.8893\n"
     ]
    }
   ],
   "source": [
    "train_test_accuracy(rf_classifier, X_train_smote, y_train_smote, X_test, y_test)"
   ]
  },
  {
   "cell_type": "code",
   "execution_count": 72,
   "id": "2d9f72a6-0361-4b36-82f5-7aeeff751a23",
   "metadata": {},
   "outputs": [
    {
     "name": "stdout",
     "output_type": "stream",
     "text": [
      "Stratified CV Accuracy for each fold: [0.8912359550561798, 0.8869662921348315, 0.887191011235955, 0.8941454095965838, 0.8879649398808855]\n",
      "Mean Stratified CV Overall Accuracy: 0.8895007215808871\n"
     ]
    },
    {
     "data": {
      "text/plain": [
       "np.float64(0.8895007215808871)"
      ]
     },
     "execution_count": 72,
     "metadata": {},
     "output_type": "execute_result"
    }
   ],
   "source": [
    "SKF_CV_accuracy(rf_classifier, X, y)"
   ]
  },
  {
   "cell_type": "code",
   "execution_count": 73,
   "id": "b99d8aca-f0c8-41e9-b244-cfb6a00b9ac3",
   "metadata": {},
   "outputs": [
    {
     "name": "stdout",
     "output_type": "stream",
     "text": [
      "Stratified CV F1 Scores for '1' class (positive class): [0.60425184 0.58837971 0.58546656 0.6155102  0.59879276]\n",
      "Mean Stratified CV F1 Score for '1' class (positive class): 0.5984802124650042\n"
     ]
    }
   ],
   "source": [
    "CV_positive_F1(rf_classifier, X, y)"
   ]
  },
  {
   "cell_type": "code",
   "execution_count": 74,
   "id": "ac0bfacb-e8b0-4cc9-b333-6f3e733aa369",
   "metadata": {},
   "outputs": [
    {
     "name": "stdout",
     "output_type": "stream",
     "text": [
      "Stratified CV F1 Scores for '' class (negative class): [0.93695454 0.93448815 0.93471193 0.93862392 0.93489192]\n",
      "Mean Stratified CV F1 Score for '0' class (negative class): 0.9359340920909783\n"
     ]
    }
   ],
   "source": [
    "CV_negative_F1(rf_classifier, X, y)"
   ]
  },
  {
   "cell_type": "code",
   "execution_count": null,
   "id": "fd48e9e5-1997-413b-a364-c7ac2424db41",
   "metadata": {},
   "outputs": [],
   "source": []
  },
  {
   "cell_type": "markdown",
   "id": "2c7614b5-14d5-4786-85f8-14204cfc5abb",
   "metadata": {},
   "source": [
    "#### 4) One hot encoded dataset"
   ]
  },
  {
   "cell_type": "markdown",
   "id": "54bed36e-1508-44d9-a075-d3c2944f971e",
   "metadata": {},
   "source": [
    "##### Before hyperparameter tunning"
   ]
  },
  {
   "cell_type": "code",
   "execution_count": 77,
   "id": "a55ee4ff-e696-4de6-8fa7-16bd6f6809d3",
   "metadata": {},
   "outputs": [
    {
     "name": "stdout",
     "output_type": "stream",
     "text": [
      "Accuracy: 0.8919101123595505\n",
      "Classification Report:\n",
      "              precision    recall  f1-score   support\n",
      "\n",
      "          no       0.95      0.92      0.94      7898\n",
      "         yes       0.52      0.64      0.57      1002\n",
      "\n",
      "    accuracy                           0.89      8900\n",
      "   macro avg       0.73      0.78      0.75      8900\n",
      "weighted avg       0.90      0.89      0.90      8900\n",
      "\n"
     ]
    }
   ],
   "source": [
    "df = pd.read_csv(\"dataset1.csv\")\n",
    "X = df.drop(columns=['y'])\n",
    "y = df['y']\n",
    "\n",
    "from sklearn.ensemble import RandomForestClassifier\n",
    "from sklearn.model_selection import train_test_split\n",
    "from sklearn.preprocessing import LabelEncoder\n",
    "from sklearn.metrics import accuracy_score, classification_report\n",
    "from imblearn.over_sampling import SMOTE\n",
    "\n",
    "X_train, X_test, y_train, y_test = train_test_split(X, y,test_size=0.2, random_state=54, stratify=y)\n",
    "\n",
    "# Smote for training set\n",
    "smote = SMOTE(random_state=54)\n",
    "X_train_smote, y_train_smote = smote.fit_resample(X_train, y_train)\n",
    "\n",
    "rf_classifier = RandomForestClassifier(n_estimators=156, random_state=54)\n",
    "rf_classifier.fit(X_train_smote, y_train_smote)\n",
    "\n",
    "y_pred = rf_classifier.predict(X_test)\n",
    "\n",
    "accuracy = accuracy_score(y_test, y_pred)\n",
    "report = classification_report(y_test, y_pred)\n",
    "\n",
    "print(f\"Accuracy: {accuracy}\")\n",
    "print(f\"Classification Report:\\n{report}\")"
   ]
  },
  {
   "cell_type": "markdown",
   "id": "585b719e-c41f-417c-8d46-66e677d9e91e",
   "metadata": {},
   "source": [
    "##### RandomizedSearch CV"
   ]
  },
  {
   "cell_type": "code",
   "execution_count": 79,
   "id": "283d69c3-a8e4-4429-87c2-d18ca31e8cb6",
   "metadata": {},
   "outputs": [
    {
     "name": "stdout",
     "output_type": "stream",
     "text": [
      "Fitting 3 folds for each of 40 candidates, totalling 120 fits\n"
     ]
    },
    {
     "name": "stderr",
     "output_type": "stream",
     "text": [
      "C:\\Users\\sayur\\AppData\\Local\\Programs\\Python\\Python312\\Lib\\site-packages\\sklearn\\model_selection\\_search.py:1103: UserWarning: One or more of the test scores are non-finite: [nan nan nan nan nan nan nan nan nan nan nan nan nan nan nan nan nan nan\n",
      " nan nan nan nan nan nan nan nan nan nan nan nan nan nan nan nan nan nan\n",
      " nan nan nan nan]\n",
      "  warnings.warn(\n"
     ]
    },
    {
     "name": "stdout",
     "output_type": "stream",
     "text": [
      "Best Parameters: {'bootstrap': True, 'max_depth': 15, 'min_samples_leaf': 3, 'min_samples_split': 9}\n",
      "Accuracy: 0.878314606741573\n",
      "Classification Report:\n",
      "              precision    recall  f1-score   support\n",
      "\n",
      "          no       0.97      0.89      0.93      7898\n",
      "         yes       0.47      0.76      0.58      1002\n",
      "\n",
      "    accuracy                           0.88      8900\n",
      "   macro avg       0.72      0.83      0.76      8900\n",
      "weighted avg       0.91      0.88      0.89      8900\n",
      "\n"
     ]
    }
   ],
   "source": [
    "from sklearn.model_selection import RandomizedSearchCV\n",
    "from sklearn.ensemble import RandomForestClassifier\n",
    "from scipy.stats import randint\n",
    "from sklearn.metrics import classification_report, accuracy_score\n",
    "\n",
    "# Define the hyperparameter grid\n",
    "param_dist = {\n",
    "    'max_depth': randint(10,20),  # Max depth of the tree\n",
    "    'min_samples_split': randint(2, 10),  # Minimum samples to split an internal node\n",
    "    'min_samples_leaf': randint(1, 10),  # Minimum samples at a leaf node\n",
    "    'bootstrap': [True]  # Whether to bootstrap samples or not\n",
    "}\n",
    "\n",
    "# Initialize RandomForestClassifier\n",
    "rf_classifier = RandomForestClassifier(random_state=54)\n",
    "\n",
    "# Set up RandomizedSearchCV with recall as the scoring metric\n",
    "random_search = RandomizedSearchCV(\n",
    "    rf_classifier,\n",
    "    param_distributions=param_dist, \n",
    "    n_iter=40, \n",
    "    cv=3, \n",
    "    verbose=1, \n",
    "    random_state=54, \n",
    "    scoring='recall',  # Change scoring metric to 'recall'\n",
    "    n_jobs=-1\n",
    ")\n",
    "\n",
    "# Fit the RandomizedSearchCV model to the data\n",
    "random_search.fit(X_train_smote, y_train_smote)\n",
    "\n",
    "# Get the best parameters from the random search\n",
    "best_params = random_search.best_params_\n",
    "print(f\"Best Parameters: {best_params}\")\n",
    "\n",
    "# Use the best model to predict on the test set\n",
    "y_pred = random_search.best_estimator_.predict(X_test)\n",
    "\n",
    "# Calculate accuracy and classification report\n",
    "accuracy = accuracy_score(y_test, y_pred)\n",
    "report = classification_report(y_test, y_pred)\n",
    "\n",
    "print(f\"Accuracy: {accuracy}\")\n",
    "print(f\"Classification Report:\\n{report}\")\n"
   ]
  },
  {
   "cell_type": "markdown",
   "id": "d2292684-e498-4f90-ae4b-80d9dc201cfa",
   "metadata": {},
   "source": [
    "##### After hyperparameter tunning"
   ]
  },
  {
   "cell_type": "code",
   "execution_count": 87,
   "id": "4ea42607-55b9-49ef-995b-c8deeaf8edaa",
   "metadata": {},
   "outputs": [
    {
     "name": "stdout",
     "output_type": "stream",
     "text": [
      "Accuracy: 0.8779775280898876\n",
      "Classification Report:\n",
      "              precision    recall  f1-score   support\n",
      "\n",
      "           0       0.97      0.89      0.93      7898\n",
      "           1       0.47      0.76      0.58      1002\n",
      "\n",
      "    accuracy                           0.88      8900\n",
      "   macro avg       0.72      0.83      0.76      8900\n",
      "weighted avg       0.91      0.88      0.89      8900\n",
      "\n"
     ]
    }
   ],
   "source": [
    "df = pd.read_csv(\"dataset1.csv\")\n",
    "X = df.drop(columns=['y'])\n",
    "y = df['y']\n",
    "\n",
    "from sklearn.ensemble import RandomForestClassifier\n",
    "from sklearn.model_selection import train_test_split\n",
    "from sklearn.preprocessing import LabelEncoder\n",
    "from sklearn.metrics import accuracy_score, classification_report\n",
    "from imblearn.over_sampling import SMOTE\n",
    "\n",
    "X_train, X_test, y_train, y_test = train_test_split(X, y,test_size=0.2, random_state=54, stratify=y)\n",
    "\n",
    "# Smote for training set\n",
    "smote = SMOTE(random_state=54)\n",
    "X_train_smote, y_train_smote = smote.fit_resample(X_train, y_train)\n",
    "\n",
    "rf_classifier = RandomForestClassifier(n_estimators=156, random_state=54, bootstrap=True, max_depth=15,\n",
    "                                        min_samples_leaf=2, min_samples_split=9, max_features='sqrt')\n",
    "rf_classifier.fit(X_train_smote, y_train_smote)\n",
    "\n",
    "y_pred = rf_classifier.predict(X_test)\n",
    "\n",
    "accuracy = accuracy_score(y_test, y_pred)\n",
    "report = classification_report(y_test, y_pred)\n",
    "\n",
    "print(f\"Accuracy: {accuracy}\")\n",
    "print(f\"Classification Report:\\n{report}\")"
   ]
  },
  {
   "cell_type": "markdown",
   "id": "e3916fae-8c01-4b15-9dcf-5cbe8367be26",
   "metadata": {},
   "source": [
    "##### Model evaluation"
   ]
  },
  {
   "cell_type": "code",
   "execution_count": 88,
   "id": "08f5f029-933d-4d2d-a782-fd3a78965a91",
   "metadata": {},
   "outputs": [
    {
     "name": "stdout",
     "output_type": "stream",
     "text": [
      "Training Accuracy: 0.9450\n",
      "Test Accuracy: 0.8780\n"
     ]
    }
   ],
   "source": [
    "train_test_accuracy(rf_classifier, X_train_smote, y_train_smote, X_test, y_test)"
   ]
  },
  {
   "cell_type": "code",
   "execution_count": 89,
   "id": "d64dc3ed-b283-4010-a85e-30f36eb00872",
   "metadata": {},
   "outputs": [
    {
     "name": "stdout",
     "output_type": "stream",
     "text": [
      "Stratified CV Accuracy for each fold: [0.8756179775280899, 0.8723595505617977, 0.8769662921348315, 0.8777390718058209, 0.8771772109225756]\n",
      "Mean Stratified CV Overall Accuracy: 0.8759720205906231\n"
     ]
    },
    {
     "data": {
      "text/plain": [
       "np.float64(0.8759720205906231)"
      ]
     },
     "execution_count": 89,
     "metadata": {},
     "output_type": "execute_result"
    }
   ],
   "source": [
    "SKF_CV_accuracy(rf_classifier, X, y)"
   ]
  },
  {
   "cell_type": "code",
   "execution_count": 90,
   "id": "b4c43e3a-c3f1-4448-88f9-7ad6aa8bc6c7",
   "metadata": {},
   "outputs": [
    {
     "name": "stdout",
     "output_type": "stream",
     "text": [
      "Stratified CV F1 Scores for '1' class (positive class): [0.58430342 0.5748503  0.57475728 0.59097744 0.58519924]\n",
      "Mean Stratified CV F1 Score for '1' class (positive class): 0.5820175365497967\n"
     ]
    }
   ],
   "source": [
    "CV_positive_F1(rf_classifier, X, y)"
   ]
  },
  {
   "cell_type": "code",
   "execution_count": 91,
   "id": "f56a706b-3509-4f08-a81e-d87a40f5ba0e",
   "metadata": {},
   "outputs": [
    {
     "name": "stdout",
     "output_type": "stream",
     "text": [
      "Stratified CV F1 Scores for '' class (negative class): [0.92686794 0.92490746 0.92807882 0.92812789 0.92791664]\n",
      "Mean Stratified CV F1 Score for '0' class (negative class): 0.9271797485715506\n"
     ]
    }
   ],
   "source": [
    "CV_negative_F1(rf_classifier, X, y)"
   ]
  },
  {
   "cell_type": "code",
   "execution_count": null,
   "id": "ab5aa278-a71e-4571-a2f8-3b0ba6f68248",
   "metadata": {},
   "outputs": [],
   "source": []
  },
  {
   "cell_type": "markdown",
   "id": "788f8881-7643-4380-bace-39c52c961693",
   "metadata": {},
   "source": [
    "#### 5) SMOTE sampling_strategy tunning"
   ]
  },
  {
   "cell_type": "code",
   "execution_count": null,
   "id": "4cd4b9a7-a400-4b69-a796-b50175180e4b",
   "metadata": {},
   "outputs": [],
   "source": [
    "from sklearn.model_selection import train_test_split\n",
    "from sklearn.ensemble import RandomForestClassifier\n",
    "from sklearn.metrics import accuracy_score, classification_report\n",
    "from imblearn.over_sampling import SMOTE\n",
    "\n",
    "# Split the data into features (X) and target (y)\n",
    "X = df.drop(columns=['y'])\n",
    "y = df['y']\n",
    "\n",
    "# Split the data into training and testing sets (stratified to maintain class distribution)\n",
    "X_train, X_test, y_train, y_test = train_test_split(X, y, test_size=0.2, random_state=54, stratify=y)\n",
    "\n",
    "# Initialize the RandomForestClassifier\n",
    "rf_classifier = RandomForestClassifier(n_estimators=200, random_state=54)\n",
    "\n",
    "# List of different SMOTE sampling strategies to evaluate\n",
    "sampling_strategies = [0.3,0.31,0.32,0.325,0.33,0.335]\n",
    "\n",
    "# Store the results for each strategy\n",
    "results = []\n",
    "\n",
    "# Iterate through each sampling strategy\n",
    "for strategy in sampling_strategies:\n",
    "    # Apply SMOTE with the current sampling strategy\n",
    "    smote = SMOTE(sampling_strategy=strategy, random_state=54)\n",
    "    X_train_smote, y_train_smote = smote.fit_resample(X_train, y_train)\n",
    "    \n",
    "    # Train the RandomForestClassifier on the resampled data\n",
    "    rf_classifier.fit(X_train_smote, y_train_smote)\n",
    "    \n",
    "    # Make predictions on the test set\n",
    "    y_pred = rf_classifier.predict(X_test)\n",
    "    \n",
    "    # Calculate accuracy and classification report\n",
    "    accuracy = accuracy_score(y_test, y_pred)\n",
    "    report = classification_report(y_test, y_pred, output_dict=True)  # Get the report as a dictionary for easier access\n",
    "    \n",
    "    # Store the results for this strategy\n",
    "    results.append({\n",
    "        'sampling_strategy': strategy,\n",
    "        'accuracy': accuracy,\n",
    "        'f1_score': report['weighted avg']['f1-score']  # You can also use other metrics, like 'precision', 'recall', etc.\n",
    "    })\n",
    "\n",
    "# Find the optimal strategy based on F1 score or any other metric\n",
    "best_result = max(results, key=lambda x: x['f1_score'])\n",
    "\n",
    "# Output the results\n",
    "for result in results:\n",
    "    print(f\"Sampling Strategy: {result['sampling_strategy']}, Accuracy: {result['accuracy']:.4f}, F1 Score: {result['f1_score']:.4f}\")\n",
    "\n",
    "print(\"\\nBest SMOTE Sampling Strategy:\", best_result['sampling_strategy'])\n",
    "print(\"Best F1 Score:\", best_result['f1_score'])\n"
   ]
  },
  {
   "cell_type": "markdown",
   "id": "adcb8dc9-a259-4c9e-81d8-ff0541485074",
   "metadata": {},
   "source": [
    "##### After sampling_strategy tunning"
   ]
  },
  {
   "cell_type": "code",
   "execution_count": 95,
   "id": "eba21e43-d722-4fd4-b5dc-3a6c70e8cc83",
   "metadata": {},
   "outputs": [
    {
     "name": "stdout",
     "output_type": "stream",
     "text": [
      "Accuracy: 0.9047191011235955\n",
      "Classification Report:\n",
      "              precision    recall  f1-score   support\n",
      "\n",
      "           0       0.94      0.95      0.95      7898\n",
      "           1       0.58      0.56      0.57      1002\n",
      "\n",
      "    accuracy                           0.90      8900\n",
      "   macro avg       0.76      0.75      0.76      8900\n",
      "weighted avg       0.90      0.90      0.90      8900\n",
      "\n"
     ]
    }
   ],
   "source": [
    "X = df.drop(columns=['y'])\n",
    "y = df['y']\n",
    "\n",
    "from sklearn.ensemble import RandomForestClassifier\n",
    "from sklearn.model_selection import train_test_split\n",
    "from sklearn.preprocessing import LabelEncoder\n",
    "from sklearn.metrics import accuracy_score, classification_report\n",
    "from imblearn.over_sampling import SMOTE\n",
    "\n",
    "X_train, X_test, y_train, y_test = train_test_split(X, y,test_size=0.2, random_state=54, stratify=y)\n",
    "\n",
    "# # Balanced test set\n",
    "# df1 = pd.concat([X_test, y_test], axis=1)\n",
    "# no_df = df1[df1.y == 0].sample(1002)\n",
    "# yes_df = df1[df1.y == 1]\n",
    "# df2 = pd.concat([yes_df, no_df], axis=0)\n",
    "# X_test = df2.drop(columns=['y'])\n",
    "# y_test = df2['y']\n",
    "\n",
    "# Smote for training set\n",
    "smote = SMOTE(random_state=54, sampling_strategy=0.32)\n",
    "X_train_smote, y_train_smote = smote.fit_resample(X_train, y_train)\n",
    "\n",
    "rf_classifier = RandomForestClassifier(n_estimators=156, random_state=54, bootstrap=True, max_depth=15,\n",
    "                                        min_samples_leaf=3, min_samples_split=3, max_features='sqrt')\n",
    "rf_classifier.fit(X_train_smote, y_train_smote)\n",
    "\n",
    "\n",
    "y_pred = rf_classifier.predict(X_test)\n",
    "\n",
    "accuracy = accuracy_score(y_test, y_pred)\n",
    "report = classification_report(y_test, y_pred)\n",
    "\n",
    "print(f\"Accuracy: {accuracy}\")\n",
    "print(f\"Classification Report:\\n{report}\")"
   ]
  },
  {
   "cell_type": "code",
   "execution_count": null,
   "id": "56f1602b-6720-4dc7-bcbf-2e319a156d2b",
   "metadata": {},
   "outputs": [],
   "source": []
  },
  {
   "cell_type": "code",
   "execution_count": null,
   "id": "84abd5eb-5bca-4b33-973c-ee59c9f8a822",
   "metadata": {},
   "outputs": [],
   "source": []
  }
 ],
 "metadata": {
  "kernelspec": {
   "display_name": "Python 3 (ipykernel)",
   "language": "python",
   "name": "python3"
  },
  "language_info": {
   "codemirror_mode": {
    "name": "ipython",
    "version": 3
   },
   "file_extension": ".py",
   "mimetype": "text/x-python",
   "name": "python",
   "nbconvert_exporter": "python",
   "pygments_lexer": "ipython3",
   "version": "3.12.7"
  }
 },
 "nbformat": 4,
 "nbformat_minor": 5
}
