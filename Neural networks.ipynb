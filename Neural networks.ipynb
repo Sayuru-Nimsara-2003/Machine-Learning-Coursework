{
 "cells": [
  {
   "cell_type": "code",
   "execution_count": 19,
   "id": "d4faf8d1-ab45-40b3-8b0d-22bd19d9960f",
   "metadata": {},
   "outputs": [],
   "source": [
    "import pandas as pd\n",
    "import numpy as np\n",
    "import matplotlib.pyplot as plt\n",
    "import seaborn as sns\n",
    "\n",
    "sns.set_style('darkgrid')\n",
    "pd.set_option('display.max_columns', 50)\n",
    "pd.set_option('display.max_rows', 30)"
   ]
  },
  {
   "cell_type": "markdown",
   "id": "98fc6d1d-1e66-4b12-af5c-70b87f8dfd47",
   "metadata": {},
   "source": [
    "### Using Neural networks without any resampling"
   ]
  },
  {
   "cell_type": "markdown",
   "id": "b3ab191c-bf94-44ab-b5f5-f4c306858131",
   "metadata": {},
   "source": [
    "#### One hot encoded dataset (ANN Model - 1)"
   ]
  },
  {
   "cell_type": "code",
   "execution_count": 51,
   "id": "0e9e45a6-4276-43f5-8914-7dadc542508a",
   "metadata": {
    "scrolled": true
   },
   "outputs": [
    {
     "name": "stdout",
     "output_type": "stream",
     "text": [
      "Epoch 1/50\n",
      "\u001b[1m1113/1113\u001b[0m \u001b[32m━━━━━━━━━━━━━━━━━━━━\u001b[0m\u001b[37m\u001b[0m \u001b[1m5s\u001b[0m 2ms/step - accuracy: 0.8699 - loss: 0.3940 - val_accuracy: 0.8989 - val_loss: 0.2543\n",
      "Epoch 2/50\n",
      "\u001b[1m1113/1113\u001b[0m \u001b[32m━━━━━━━━━━━━━━━━━━━━\u001b[0m\u001b[37m\u001b[0m \u001b[1m2s\u001b[0m 2ms/step - accuracy: 0.9029 - loss: 0.2449 - val_accuracy: 0.9043 - val_loss: 0.2352\n",
      "Epoch 3/50\n",
      "\u001b[1m1113/1113\u001b[0m \u001b[32m━━━━━━━━━━━━━━━━━━━━\u001b[0m\u001b[37m\u001b[0m \u001b[1m2s\u001b[0m 2ms/step - accuracy: 0.9029 - loss: 0.2355 - val_accuracy: 0.9043 - val_loss: 0.2326\n",
      "Epoch 4/50\n",
      "\u001b[1m1113/1113\u001b[0m \u001b[32m━━━━━━━━━━━━━━━━━━━━\u001b[0m\u001b[37m\u001b[0m \u001b[1m2s\u001b[0m 2ms/step - accuracy: 0.9028 - loss: 0.2333 - val_accuracy: 0.9054 - val_loss: 0.2315\n",
      "Epoch 5/50\n",
      "\u001b[1m1113/1113\u001b[0m \u001b[32m━━━━━━━━━━━━━━━━━━━━\u001b[0m\u001b[37m\u001b[0m \u001b[1m2s\u001b[0m 2ms/step - accuracy: 0.9032 - loss: 0.2316 - val_accuracy: 0.9053 - val_loss: 0.2305\n",
      "Epoch 6/50\n",
      "\u001b[1m1113/1113\u001b[0m \u001b[32m━━━━━━━━━━━━━━━━━━━━\u001b[0m\u001b[37m\u001b[0m \u001b[1m2s\u001b[0m 2ms/step - accuracy: 0.9033 - loss: 0.2304 - val_accuracy: 0.9058 - val_loss: 0.2300\n",
      "Epoch 7/50\n",
      "\u001b[1m1113/1113\u001b[0m \u001b[32m━━━━━━━━━━━━━━━━━━━━\u001b[0m\u001b[37m\u001b[0m \u001b[1m2s\u001b[0m 2ms/step - accuracy: 0.9041 - loss: 0.2298 - val_accuracy: 0.9063 - val_loss: 0.2290\n",
      "Epoch 8/50\n",
      "\u001b[1m1113/1113\u001b[0m \u001b[32m━━━━━━━━━━━━━━━━━━━━\u001b[0m\u001b[37m\u001b[0m \u001b[1m3s\u001b[0m 3ms/step - accuracy: 0.9044 - loss: 0.2287 - val_accuracy: 0.9055 - val_loss: 0.2287\n",
      "Epoch 9/50\n",
      "\u001b[1m1113/1113\u001b[0m \u001b[32m━━━━━━━━━━━━━━━━━━━━\u001b[0m\u001b[37m\u001b[0m \u001b[1m2s\u001b[0m 2ms/step - accuracy: 0.9049 - loss: 0.2278 - val_accuracy: 0.9060 - val_loss: 0.2282\n",
      "Epoch 10/50\n",
      "\u001b[1m1113/1113\u001b[0m \u001b[32m━━━━━━━━━━━━━━━━━━━━\u001b[0m\u001b[37m\u001b[0m \u001b[1m2s\u001b[0m 2ms/step - accuracy: 0.9052 - loss: 0.2268 - val_accuracy: 0.9064 - val_loss: 0.2280\n",
      "Epoch 11/50\n",
      "\u001b[1m1113/1113\u001b[0m \u001b[32m━━━━━━━━━━━━━━━━━━━━\u001b[0m\u001b[37m\u001b[0m \u001b[1m2s\u001b[0m 2ms/step - accuracy: 0.9053 - loss: 0.2262 - val_accuracy: 0.9058 - val_loss: 0.2276\n",
      "Epoch 12/50\n",
      "\u001b[1m1113/1113\u001b[0m \u001b[32m━━━━━━━━━━━━━━━━━━━━\u001b[0m\u001b[37m\u001b[0m \u001b[1m3s\u001b[0m 3ms/step - accuracy: 0.9056 - loss: 0.2255 - val_accuracy: 0.9061 - val_loss: 0.2273\n",
      "Epoch 13/50\n",
      "\u001b[1m1113/1113\u001b[0m \u001b[32m━━━━━━━━━━━━━━━━━━━━\u001b[0m\u001b[37m\u001b[0m \u001b[1m4s\u001b[0m 2ms/step - accuracy: 0.9060 - loss: 0.2249 - val_accuracy: 0.9063 - val_loss: 0.2270\n",
      "Epoch 14/50\n",
      "\u001b[1m1113/1113\u001b[0m \u001b[32m━━━━━━━━━━━━━━━━━━━━\u001b[0m\u001b[37m\u001b[0m \u001b[1m2s\u001b[0m 2ms/step - accuracy: 0.9059 - loss: 0.2242 - val_accuracy: 0.9049 - val_loss: 0.2268\n",
      "Epoch 15/50\n",
      "\u001b[1m1113/1113\u001b[0m \u001b[32m━━━━━━━━━━━━━━━━━━━━\u001b[0m\u001b[37m\u001b[0m \u001b[1m2s\u001b[0m 2ms/step - accuracy: 0.9065 - loss: 0.2237 - val_accuracy: 0.9047 - val_loss: 0.2266\n",
      "Epoch 16/50\n",
      "\u001b[1m1113/1113\u001b[0m \u001b[32m━━━━━━━━━━━━━━━━━━━━\u001b[0m\u001b[37m\u001b[0m \u001b[1m2s\u001b[0m 2ms/step - accuracy: 0.9064 - loss: 0.2233 - val_accuracy: 0.9051 - val_loss: 0.2265\n",
      "Epoch 17/50\n",
      "\u001b[1m1113/1113\u001b[0m \u001b[32m━━━━━━━━━━━━━━━━━━━━\u001b[0m\u001b[37m\u001b[0m \u001b[1m2s\u001b[0m 2ms/step - accuracy: 0.9062 - loss: 0.2229 - val_accuracy: 0.9042 - val_loss: 0.2264\n",
      "Epoch 18/50\n",
      "\u001b[1m1113/1113\u001b[0m \u001b[32m━━━━━━━━━━━━━━━━━━━━\u001b[0m\u001b[37m\u001b[0m \u001b[1m2s\u001b[0m 2ms/step - accuracy: 0.9061 - loss: 0.2225 - val_accuracy: 0.9044 - val_loss: 0.2263\n",
      "Epoch 19/50\n",
      "\u001b[1m1113/1113\u001b[0m \u001b[32m━━━━━━━━━━━━━━━━━━━━\u001b[0m\u001b[37m\u001b[0m \u001b[1m2s\u001b[0m 2ms/step - accuracy: 0.9063 - loss: 0.2222 - val_accuracy: 0.9039 - val_loss: 0.2263\n",
      "Epoch 20/50\n",
      "\u001b[1m1113/1113\u001b[0m \u001b[32m━━━━━━━━━━━━━━━━━━━━\u001b[0m\u001b[37m\u001b[0m \u001b[1m2s\u001b[0m 2ms/step - accuracy: 0.9066 - loss: 0.2218 - val_accuracy: 0.9036 - val_loss: 0.2263\n",
      "Epoch 21/50\n",
      "\u001b[1m1113/1113\u001b[0m \u001b[32m━━━━━━━━━━━━━━━━━━━━\u001b[0m\u001b[37m\u001b[0m \u001b[1m2s\u001b[0m 2ms/step - accuracy: 0.9068 - loss: 0.2215 - val_accuracy: 0.9046 - val_loss: 0.2263\n",
      "Epoch 22/50\n",
      "\u001b[1m1113/1113\u001b[0m \u001b[32m━━━━━━━━━━━━━━━━━━━━\u001b[0m\u001b[37m\u001b[0m \u001b[1m3s\u001b[0m 3ms/step - accuracy: 0.9067 - loss: 0.2213 - val_accuracy: 0.9046 - val_loss: 0.2262\n",
      "Epoch 23/50\n",
      "\u001b[1m1113/1113\u001b[0m \u001b[32m━━━━━━━━━━━━━━━━━━━━\u001b[0m\u001b[37m\u001b[0m \u001b[1m2s\u001b[0m 2ms/step - accuracy: 0.9072 - loss: 0.2211 - val_accuracy: 0.9044 - val_loss: 0.2261\n",
      "Epoch 24/50\n",
      "\u001b[1m1113/1113\u001b[0m \u001b[32m━━━━━━━━━━━━━━━━━━━━\u001b[0m\u001b[37m\u001b[0m \u001b[1m2s\u001b[0m 2ms/step - accuracy: 0.9072 - loss: 0.2208 - val_accuracy: 0.9044 - val_loss: 0.2260\n",
      "Epoch 25/50\n",
      "\u001b[1m1113/1113\u001b[0m \u001b[32m━━━━━━━━━━━━━━━━━━━━\u001b[0m\u001b[37m\u001b[0m \u001b[1m2s\u001b[0m 2ms/step - accuracy: 0.9074 - loss: 0.2204 - val_accuracy: 0.9042 - val_loss: 0.2260\n",
      "Epoch 26/50\n",
      "\u001b[1m1113/1113\u001b[0m \u001b[32m━━━━━━━━━━━━━━━━━━━━\u001b[0m\u001b[37m\u001b[0m \u001b[1m3s\u001b[0m 3ms/step - accuracy: 0.9076 - loss: 0.2201 - val_accuracy: 0.9038 - val_loss: 0.2259\n",
      "Epoch 27/50\n",
      "\u001b[1m1113/1113\u001b[0m \u001b[32m━━━━━━━━━━━━━━━━━━━━\u001b[0m\u001b[37m\u001b[0m \u001b[1m3s\u001b[0m 2ms/step - accuracy: 0.9077 - loss: 0.2197 - val_accuracy: 0.9039 - val_loss: 0.2260\n",
      "Epoch 28/50\n",
      "\u001b[1m1113/1113\u001b[0m \u001b[32m━━━━━━━━━━━━━━━━━━━━\u001b[0m\u001b[37m\u001b[0m \u001b[1m2s\u001b[0m 2ms/step - accuracy: 0.9074 - loss: 0.2194 - val_accuracy: 0.9046 - val_loss: 0.2261\n",
      "Epoch 29/50\n",
      "\u001b[1m1113/1113\u001b[0m \u001b[32m━━━━━━━━━━━━━━━━━━━━\u001b[0m\u001b[37m\u001b[0m \u001b[1m2s\u001b[0m 2ms/step - accuracy: 0.9074 - loss: 0.2191 - val_accuracy: 0.9042 - val_loss: 0.2259\n",
      "Epoch 30/50\n",
      "\u001b[1m1113/1113\u001b[0m \u001b[32m━━━━━━━━━━━━━━━━━━━━\u001b[0m\u001b[37m\u001b[0m \u001b[1m2s\u001b[0m 2ms/step - accuracy: 0.9077 - loss: 0.2187 - val_accuracy: 0.9043 - val_loss: 0.2260\n",
      "Epoch 31/50\n",
      "\u001b[1m1113/1113\u001b[0m \u001b[32m━━━━━━━━━━━━━━━━━━━━\u001b[0m\u001b[37m\u001b[0m \u001b[1m2s\u001b[0m 2ms/step - accuracy: 0.9078 - loss: 0.2185 - val_accuracy: 0.9048 - val_loss: 0.2260\n",
      "Epoch 32/50\n",
      "\u001b[1m1113/1113\u001b[0m \u001b[32m━━━━━━━━━━━━━━━━━━━━\u001b[0m\u001b[37m\u001b[0m \u001b[1m2s\u001b[0m 2ms/step - accuracy: 0.9074 - loss: 0.2183 - val_accuracy: 0.9044 - val_loss: 0.2259\n",
      "Epoch 33/50\n",
      "\u001b[1m1113/1113\u001b[0m \u001b[32m━━━━━━━━━━━━━━━━━━━━\u001b[0m\u001b[37m\u001b[0m \u001b[1m3s\u001b[0m 3ms/step - accuracy: 0.9076 - loss: 0.2181 - val_accuracy: 0.9045 - val_loss: 0.2261\n",
      "Epoch 34/50\n",
      "\u001b[1m1113/1113\u001b[0m \u001b[32m━━━━━━━━━━━━━━━━━━━━\u001b[0m\u001b[37m\u001b[0m \u001b[1m2s\u001b[0m 2ms/step - accuracy: 0.9079 - loss: 0.2178 - val_accuracy: 0.9045 - val_loss: 0.2259\n",
      "Epoch 35/50\n",
      "\u001b[1m1113/1113\u001b[0m \u001b[32m━━━━━━━━━━━━━━━━━━━━\u001b[0m\u001b[37m\u001b[0m \u001b[1m2s\u001b[0m 2ms/step - accuracy: 0.9079 - loss: 0.2175 - val_accuracy: 0.9051 - val_loss: 0.2256\n",
      "Epoch 36/50\n",
      "\u001b[1m1113/1113\u001b[0m \u001b[32m━━━━━━━━━━━━━━━━━━━━\u001b[0m\u001b[37m\u001b[0m \u001b[1m2s\u001b[0m 2ms/step - accuracy: 0.9078 - loss: 0.2172 - val_accuracy: 0.9052 - val_loss: 0.2257\n",
      "Epoch 37/50\n",
      "\u001b[1m1113/1113\u001b[0m \u001b[32m━━━━━━━━━━━━━━━━━━━━\u001b[0m\u001b[37m\u001b[0m \u001b[1m2s\u001b[0m 2ms/step - accuracy: 0.9082 - loss: 0.2170 - val_accuracy: 0.9054 - val_loss: 0.2256\n",
      "Epoch 38/50\n",
      "\u001b[1m1113/1113\u001b[0m \u001b[32m━━━━━━━━━━━━━━━━━━━━\u001b[0m\u001b[37m\u001b[0m \u001b[1m3s\u001b[0m 3ms/step - accuracy: 0.9085 - loss: 0.2168 - val_accuracy: 0.9047 - val_loss: 0.2256\n",
      "Epoch 39/50\n",
      "\u001b[1m1113/1113\u001b[0m \u001b[32m━━━━━━━━━━━━━━━━━━━━\u001b[0m\u001b[37m\u001b[0m \u001b[1m2s\u001b[0m 2ms/step - accuracy: 0.9090 - loss: 0.2164 - val_accuracy: 0.9046 - val_loss: 0.2255\n",
      "Epoch 40/50\n",
      "\u001b[1m1113/1113\u001b[0m \u001b[32m━━━━━━━━━━━━━━━━━━━━\u001b[0m\u001b[37m\u001b[0m \u001b[1m3s\u001b[0m 2ms/step - accuracy: 0.9089 - loss: 0.2161 - val_accuracy: 0.9046 - val_loss: 0.2255\n",
      "Epoch 41/50\n",
      "\u001b[1m1113/1113\u001b[0m \u001b[32m━━━━━━━━━━━━━━━━━━━━\u001b[0m\u001b[37m\u001b[0m \u001b[1m2s\u001b[0m 2ms/step - accuracy: 0.9088 - loss: 0.2159 - val_accuracy: 0.9048 - val_loss: 0.2255\n",
      "Epoch 42/50\n",
      "\u001b[1m1113/1113\u001b[0m \u001b[32m━━━━━━━━━━━━━━━━━━━━\u001b[0m\u001b[37m\u001b[0m \u001b[1m2s\u001b[0m 2ms/step - accuracy: 0.9088 - loss: 0.2158 - val_accuracy: 0.9056 - val_loss: 0.2256\n",
      "Epoch 43/50\n",
      "\u001b[1m1113/1113\u001b[0m \u001b[32m━━━━━━━━━━━━━━━━━━━━\u001b[0m\u001b[37m\u001b[0m \u001b[1m3s\u001b[0m 3ms/step - accuracy: 0.9093 - loss: 0.2154 - val_accuracy: 0.9054 - val_loss: 0.2255\n",
      "Epoch 44/50\n",
      "\u001b[1m1113/1113\u001b[0m \u001b[32m━━━━━━━━━━━━━━━━━━━━\u001b[0m\u001b[37m\u001b[0m \u001b[1m2s\u001b[0m 2ms/step - accuracy: 0.9093 - loss: 0.2152 - val_accuracy: 0.9053 - val_loss: 0.2255\n",
      "Epoch 45/50\n",
      "\u001b[1m1113/1113\u001b[0m \u001b[32m━━━━━━━━━━━━━━━━━━━━\u001b[0m\u001b[37m\u001b[0m \u001b[1m2s\u001b[0m 2ms/step - accuracy: 0.9089 - loss: 0.2150 - val_accuracy: 0.9048 - val_loss: 0.2253\n",
      "Epoch 46/50\n",
      "\u001b[1m1113/1113\u001b[0m \u001b[32m━━━━━━━━━━━━━━━━━━━━\u001b[0m\u001b[37m\u001b[0m \u001b[1m2s\u001b[0m 2ms/step - accuracy: 0.9088 - loss: 0.2147 - val_accuracy: 0.9054 - val_loss: 0.2255\n",
      "Epoch 47/50\n",
      "\u001b[1m1113/1113\u001b[0m \u001b[32m━━━━━━━━━━━━━━━━━━━━\u001b[0m\u001b[37m\u001b[0m \u001b[1m3s\u001b[0m 3ms/step - accuracy: 0.9086 - loss: 0.2145 - val_accuracy: 0.9049 - val_loss: 0.2259\n",
      "Epoch 48/50\n",
      "\u001b[1m1113/1113\u001b[0m \u001b[32m━━━━━━━━━━━━━━━━━━━━\u001b[0m\u001b[37m\u001b[0m \u001b[1m2s\u001b[0m 2ms/step - accuracy: 0.9088 - loss: 0.2142 - val_accuracy: 0.9049 - val_loss: 0.2260\n",
      "Epoch 49/50\n",
      "\u001b[1m1113/1113\u001b[0m \u001b[32m━━━━━━━━━━━━━━━━━━━━\u001b[0m\u001b[37m\u001b[0m \u001b[1m2s\u001b[0m 2ms/step - accuracy: 0.9094 - loss: 0.2140 - val_accuracy: 0.9052 - val_loss: 0.2258\n",
      "Epoch 50/50\n",
      "\u001b[1m1113/1113\u001b[0m \u001b[32m━━━━━━━━━━━━━━━━━━━━\u001b[0m\u001b[37m\u001b[0m \u001b[1m2s\u001b[0m 1ms/step - accuracy: 0.9095 - loss: 0.2139 - val_accuracy: 0.9046 - val_loss: 0.2261\n",
      "\u001b[1m279/279\u001b[0m \u001b[32m━━━━━━━━━━━━━━━━━━━━\u001b[0m\u001b[37m\u001b[0m \u001b[1m0s\u001b[0m 565us/step - accuracy: 0.9073 - loss: 0.2232\n",
      "Validation Loss: 0.2260720431804657, Validation Accuracy: 0.9046067595481873\n"
     ]
    }
   ],
   "source": [
    "import tensorflow as tf\n",
    "from tensorflow.keras.layers import Input\n",
    "from sklearn.model_selection import train_test_split\n",
    "from tensorflow.keras.models import Sequential\n",
    "from tensorflow.keras.layers import Dense\n",
    "from tensorflow.keras.optimizers import Adam\n",
    "import pandas as pd  # Ensure pandas is imported\n",
    "\n",
    "df = pd.read_csv('dataset1.csv')\n",
    "X = df.drop(columns=['y'])\n",
    "y = df['y']\n",
    "\n",
    "X_train, X_test, y_train, y_test = train_test_split(X, y, test_size=0.2, random_state=54, stratify=y)\n",
    "\n",
    "X_train = X_train.to_numpy()\n",
    "X_test = X_test.to_numpy()\n",
    "y_train = y_train.to_numpy()\n",
    "y_test = y_test.to_numpy()\n",
    "\n",
    "# Model definition\n",
    "ANN = Sequential([\n",
    "    Input(shape=(X_train.shape[1],)), \n",
    "    Dense(16, activation='relu'),       \n",
    "    Dense(8, activation='relu'),        \n",
    "    Dense(1, activation='sigmoid')      \n",
    "])\n",
    "\n",
    "# Compiling the model\n",
    "ANN.compile(optimizer=Adam(learning_rate=0.001),\n",
    "              loss='binary_crossentropy',  \n",
    "              metrics=['accuracy'])\n",
    "\n",
    "# Fitting the model\n",
    "history = ANN.fit(\n",
    "    X_train, y_train,\n",
    "    validation_data=(X_test, y_test),\n",
    "    epochs=50,\n",
    "    batch_size=32,\n",
    "    verbose=1\n",
    ")\n",
    "\n",
    "# Model evaluation\n",
    "loss, accuracy = ANN.evaluate(X_test, y_test)\n",
    "print(f\"Validation Loss: {loss}, Validation Accuracy: {accuracy}\")\n"
   ]
  },
  {
   "cell_type": "code",
   "execution_count": 7,
   "id": "9e207094-73b0-4f1f-8a4b-21cd73827525",
   "metadata": {},
   "outputs": [
    {
     "name": "stdout",
     "output_type": "stream",
     "text": [
      "\u001b[1m279/279\u001b[0m \u001b[32m━━━━━━━━━━━━━━━━━━━━\u001b[0m\u001b[37m\u001b[0m \u001b[1m1s\u001b[0m 2ms/step\n",
      "              precision    recall  f1-score   support\n",
      "\n",
      "           0       0.92      0.98      0.95      7898\n",
      "           1       0.64      0.31      0.42      1002\n",
      "\n",
      "    accuracy                           0.90      8900\n",
      "   macro avg       0.78      0.64      0.68      8900\n",
      "weighted avg       0.89      0.90      0.89      8900\n",
      "\n"
     ]
    }
   ],
   "source": [
    "from sklearn.metrics import classification_report\n",
    "\n",
    "y_pred = (ANN.predict(X_test) > 0.5).astype(\"int32\")  # decision threshold\n",
    "\n",
    "print(classification_report(y_test, y_pred))"
   ]
  },
  {
   "cell_type": "markdown",
   "id": "d6afa092-ce21-405d-bf79-74cc5f9ed66c",
   "metadata": {},
   "source": [
    "##### ROC_AUC_value"
   ]
  },
  {
   "cell_type": "code",
   "execution_count": 8,
   "id": "114a821f-c2ba-471a-a4ba-ac1a9b35f9bf",
   "metadata": {},
   "outputs": [
    {
     "name": "stdout",
     "output_type": "stream",
     "text": [
      "ROC-AUC: 0.64\n"
     ]
    },
    {
     "data": {
      "image/png": "[encoded data removed]",
      "text/plain": [
       "<Figure size 640x480 with 1 Axes>"
      ]
     },
     "metadata": {},
     "output_type": "display_data"
    }
   ],
   "source": [
    "ROC_AUC_plot(y_test, y_pred)"
   ]
  },
  {
   "cell_type": "code",
   "execution_count": null,
   "id": "75f340d0-b068-4ffd-9843-3d9f7395e6dc",
   "metadata": {},
   "outputs": [],
   "source": []
  },
  {
   "cell_type": "markdown",
   "id": "c5b0ad5d-efe8-48cd-997a-a01f0cf6e65b",
   "metadata": {},
   "source": [
    "#### Label encoded dataset (ANN Model - 2)"
   ]
  },
  {
   "cell_type": "code",
   "execution_count": 10,
   "id": "5326c3c5-6c31-4b51-8602-bb84f3f6344f",
   "metadata": {
    "scrolled": true
   },
   "outputs": [
    {
     "name": "stdout",
     "output_type": "stream",
     "text": [
      "Epoch 1/50\n",
      "\u001b[1m1113/1113\u001b[0m \u001b[32m━━━━━━━━━━━━━━━━━━━━\u001b[0m\u001b[37m\u001b[0m \u001b[1m5s\u001b[0m 3ms/step - accuracy: 0.8703 - loss: 0.3693 - val_accuracy: 0.8970 - val_loss: 0.2504\n",
      "Epoch 2/50\n",
      "\u001b[1m1113/1113\u001b[0m \u001b[32m━━━━━━━━━━━━━━━━━━━━\u001b[0m\u001b[37m\u001b[0m \u001b[1m3s\u001b[0m 3ms/step - accuracy: 0.8965 - loss: 0.2486 - val_accuracy: 0.9022 - val_loss: 0.2383\n",
      "Epoch 3/50\n",
      "\u001b[1m1113/1113\u001b[0m \u001b[32m━━━━━━━━━━━━━━━━━━━━\u001b[0m\u001b[37m\u001b[0m \u001b[1m2s\u001b[0m 2ms/step - accuracy: 0.9008 - loss: 0.2391 - val_accuracy: 0.9010 - val_loss: 0.2352\n",
      "Epoch 4/50\n",
      "\u001b[1m1113/1113\u001b[0m \u001b[32m━━━━━━━━━━━━━━━━━━━━\u001b[0m\u001b[37m\u001b[0m \u001b[1m3s\u001b[0m 2ms/step - accuracy: 0.9021 - loss: 0.2349 - val_accuracy: 0.9008 - val_loss: 0.2345\n",
      "Epoch 5/50\n",
      "\u001b[1m1113/1113\u001b[0m \u001b[32m━━━━━━━━━━━━━━━━━━━━\u001b[0m\u001b[37m\u001b[0m \u001b[1m5s\u001b[0m 2ms/step - accuracy: 0.8994 - loss: 0.2391 - val_accuracy: 0.9016 - val_loss: 0.2337\n",
      "Epoch 6/50\n",
      "\u001b[1m1113/1113\u001b[0m \u001b[32m━━━━━━━━━━━━━━━━━━━━\u001b[0m\u001b[37m\u001b[0m \u001b[1m3s\u001b[0m 2ms/step - accuracy: 0.9022 - loss: 0.2288 - val_accuracy: 0.9012 - val_loss: 0.2333\n",
      "Epoch 7/50\n",
      "\u001b[1m1113/1113\u001b[0m \u001b[32m━━━━━━━━━━━━━━━━━━━━\u001b[0m\u001b[37m\u001b[0m \u001b[1m3s\u001b[0m 3ms/step - accuracy: 0.9039 - loss: 0.2304 - val_accuracy: 0.9018 - val_loss: 0.2334\n",
      "Epoch 8/50\n",
      "\u001b[1m1113/1113\u001b[0m \u001b[32m━━━━━━━━━━━━━━━━━━━━\u001b[0m\u001b[37m\u001b[0m \u001b[1m2s\u001b[0m 2ms/step - accuracy: 0.9047 - loss: 0.2303 - val_accuracy: 0.9015 - val_loss: 0.2330\n",
      "Epoch 9/50\n",
      "\u001b[1m1113/1113\u001b[0m \u001b[32m━━━━━━━━━━━━━━━━━━━━\u001b[0m\u001b[37m\u001b[0m \u001b[1m2s\u001b[0m 2ms/step - accuracy: 0.9035 - loss: 0.2290 - val_accuracy: 0.9031 - val_loss: 0.2335\n",
      "Epoch 10/50\n",
      "\u001b[1m1113/1113\u001b[0m \u001b[32m━━━━━━━━━━━━━━━━━━━━\u001b[0m\u001b[37m\u001b[0m \u001b[1m3s\u001b[0m 2ms/step - accuracy: 0.9063 - loss: 0.2275 - val_accuracy: 0.9026 - val_loss: 0.2322\n",
      "Epoch 11/50\n",
      "\u001b[1m1113/1113\u001b[0m \u001b[32m━━━━━━━━━━━━━━━━━━━━\u001b[0m\u001b[37m\u001b[0m \u001b[1m3s\u001b[0m 3ms/step - accuracy: 0.9020 - loss: 0.2318 - val_accuracy: 0.9026 - val_loss: 0.2322\n",
      "Epoch 12/50\n",
      "\u001b[1m1113/1113\u001b[0m \u001b[32m━━━━━━━━━━━━━━━━━━━━\u001b[0m\u001b[37m\u001b[0m \u001b[1m3s\u001b[0m 3ms/step - accuracy: 0.9067 - loss: 0.2229 - val_accuracy: 0.9022 - val_loss: 0.2345\n",
      "Epoch 13/50\n",
      "\u001b[1m1113/1113\u001b[0m \u001b[32m━━━━━━━━━━━━━━━━━━━━\u001b[0m\u001b[37m\u001b[0m \u001b[1m3s\u001b[0m 2ms/step - accuracy: 0.9062 - loss: 0.2247 - val_accuracy: 0.9029 - val_loss: 0.2337\n",
      "Epoch 14/50\n",
      "\u001b[1m1113/1113\u001b[0m \u001b[32m━━━━━━━━━━━━━━━━━━━━\u001b[0m\u001b[37m\u001b[0m \u001b[1m3s\u001b[0m 3ms/step - accuracy: 0.9074 - loss: 0.2244 - val_accuracy: 0.9021 - val_loss: 0.2310\n",
      "Epoch 15/50\n",
      "\u001b[1m1113/1113\u001b[0m \u001b[32m━━━━━━━━━━━━━━━━━━━━\u001b[0m\u001b[37m\u001b[0m \u001b[1m3s\u001b[0m 3ms/step - accuracy: 0.9054 - loss: 0.2262 - val_accuracy: 0.9024 - val_loss: 0.2314\n",
      "Epoch 16/50\n",
      "\u001b[1m1113/1113\u001b[0m \u001b[32m━━━━━━━━━━━━━━━━━━━━\u001b[0m\u001b[37m\u001b[0m \u001b[1m3s\u001b[0m 2ms/step - accuracy: 0.9055 - loss: 0.2245 - val_accuracy: 0.9022 - val_loss: 0.2316\n",
      "Epoch 17/50\n",
      "\u001b[1m1113/1113\u001b[0m \u001b[32m━━━━━━━━━━━━━━━━━━━━\u001b[0m\u001b[37m\u001b[0m \u001b[1m4s\u001b[0m 3ms/step - accuracy: 0.9072 - loss: 0.2261 - val_accuracy: 0.9038 - val_loss: 0.2308\n",
      "Epoch 18/50\n",
      "\u001b[1m1113/1113\u001b[0m \u001b[32m━━━━━━━━━━━━━━━━━━━━\u001b[0m\u001b[37m\u001b[0m \u001b[1m3s\u001b[0m 2ms/step - accuracy: 0.9059 - loss: 0.2271 - val_accuracy: 0.9028 - val_loss: 0.2347\n",
      "Epoch 19/50\n",
      "\u001b[1m1113/1113\u001b[0m \u001b[32m━━━━━━━━━━━━━━━━━━━━\u001b[0m\u001b[37m\u001b[0m \u001b[1m3s\u001b[0m 2ms/step - accuracy: 0.9033 - loss: 0.2235 - val_accuracy: 0.9039 - val_loss: 0.2299\n",
      "Epoch 20/50\n",
      "\u001b[1m1113/1113\u001b[0m \u001b[32m━━━━━━━━━━━━━━━━━━━━\u001b[0m\u001b[37m\u001b[0m \u001b[1m3s\u001b[0m 2ms/step - accuracy: 0.9073 - loss: 0.2229 - val_accuracy: 0.9037 - val_loss: 0.2291\n",
      "Epoch 21/50\n",
      "\u001b[1m1113/1113\u001b[0m \u001b[32m━━━━━━━━━━━━━━━━━━━━\u001b[0m\u001b[37m\u001b[0m \u001b[1m3s\u001b[0m 2ms/step - accuracy: 0.9057 - loss: 0.2245 - val_accuracy: 0.9030 - val_loss: 0.2296\n",
      "Epoch 22/50\n",
      "\u001b[1m1113/1113\u001b[0m \u001b[32m━━━━━━━━━━━━━━━━━━━━\u001b[0m\u001b[37m\u001b[0m \u001b[1m3s\u001b[0m 3ms/step - accuracy: 0.9078 - loss: 0.2187 - val_accuracy: 0.9040 - val_loss: 0.2284\n",
      "Epoch 23/50\n",
      "\u001b[1m1113/1113\u001b[0m \u001b[32m━━━━━━━━━━━━━━━━━━━━\u001b[0m\u001b[37m\u001b[0m \u001b[1m3s\u001b[0m 2ms/step - accuracy: 0.9050 - loss: 0.2233 - val_accuracy: 0.9029 - val_loss: 0.2297\n",
      "Epoch 24/50\n",
      "\u001b[1m1113/1113\u001b[0m \u001b[32m━━━━━━━━━━━━━━━━━━━━\u001b[0m\u001b[37m\u001b[0m \u001b[1m3s\u001b[0m 2ms/step - accuracy: 0.9065 - loss: 0.2253 - val_accuracy: 0.9031 - val_loss: 0.2273\n",
      "Epoch 25/50\n",
      "\u001b[1m1113/1113\u001b[0m \u001b[32m━━━━━━━━━━━━━━━━━━━━\u001b[0m\u001b[37m\u001b[0m \u001b[1m2s\u001b[0m 2ms/step - accuracy: 0.9060 - loss: 0.2204 - val_accuracy: 0.9029 - val_loss: 0.2279\n",
      "Epoch 26/50\n",
      "\u001b[1m1113/1113\u001b[0m \u001b[32m━━━━━━━━━━━━━━━━━━━━\u001b[0m\u001b[37m\u001b[0m \u001b[1m3s\u001b[0m 2ms/step - accuracy: 0.9098 - loss: 0.2156 - val_accuracy: 0.9038 - val_loss: 0.2259\n",
      "Epoch 27/50\n",
      "\u001b[1m1113/1113\u001b[0m \u001b[32m━━━━━━━━━━━━━━━━━━━━\u001b[0m\u001b[37m\u001b[0m \u001b[1m3s\u001b[0m 2ms/step - accuracy: 0.9034 - loss: 0.2261 - val_accuracy: 0.9026 - val_loss: 0.2266\n",
      "Epoch 28/50\n",
      "\u001b[1m1113/1113\u001b[0m \u001b[32m━━━━━━━━━━━━━━━━━━━━\u001b[0m\u001b[37m\u001b[0m \u001b[1m3s\u001b[0m 2ms/step - accuracy: 0.9053 - loss: 0.2190 - val_accuracy: 0.9043 - val_loss: 0.2255\n",
      "Epoch 29/50\n",
      "\u001b[1m1113/1113\u001b[0m \u001b[32m━━━━━━━━━━━━━━━━━━━━\u001b[0m\u001b[37m\u001b[0m \u001b[1m3s\u001b[0m 2ms/step - accuracy: 0.9056 - loss: 0.2197 - val_accuracy: 0.9022 - val_loss: 0.2263\n",
      "Epoch 30/50\n",
      "\u001b[1m1113/1113\u001b[0m \u001b[32m━━━━━━━━━━━━━━━━━━━━\u001b[0m\u001b[37m\u001b[0m \u001b[1m3s\u001b[0m 2ms/step - accuracy: 0.9066 - loss: 0.2150 - val_accuracy: 0.9034 - val_loss: 0.2239\n",
      "Epoch 31/50\n",
      "\u001b[1m1113/1113\u001b[0m \u001b[32m━━━━━━━━━━━━━━━━━━━━\u001b[0m\u001b[37m\u001b[0m \u001b[1m3s\u001b[0m 2ms/step - accuracy: 0.9040 - loss: 0.2206 - val_accuracy: 0.9027 - val_loss: 0.2248\n",
      "Epoch 32/50\n",
      "\u001b[1m1113/1113\u001b[0m \u001b[32m━━━━━━━━━━━━━━━━━━━━\u001b[0m\u001b[37m\u001b[0m \u001b[1m3s\u001b[0m 2ms/step - accuracy: 0.9036 - loss: 0.2182 - val_accuracy: 0.9029 - val_loss: 0.2225\n",
      "Epoch 33/50\n",
      "\u001b[1m1113/1113\u001b[0m \u001b[32m━━━━━━━━━━━━━━━━━━━━\u001b[0m\u001b[37m\u001b[0m \u001b[1m4s\u001b[0m 3ms/step - accuracy: 0.9050 - loss: 0.2177 - val_accuracy: 0.9039 - val_loss: 0.2241\n",
      "Epoch 34/50\n",
      "\u001b[1m1113/1113\u001b[0m \u001b[32m━━━━━━━━━━━━━━━━━━━━\u001b[0m\u001b[37m\u001b[0m \u001b[1m3s\u001b[0m 2ms/step - accuracy: 0.9066 - loss: 0.2153 - val_accuracy: 0.9031 - val_loss: 0.2219\n",
      "Epoch 35/50\n",
      "\u001b[1m1113/1113\u001b[0m \u001b[32m━━━━━━━━━━━━━━━━━━━━\u001b[0m\u001b[37m\u001b[0m \u001b[1m3s\u001b[0m 2ms/step - accuracy: 0.9062 - loss: 0.2167 - val_accuracy: 0.9043 - val_loss: 0.2225\n",
      "Epoch 36/50\n",
      "\u001b[1m1113/1113\u001b[0m \u001b[32m━━━━━━━━━━━━━━━━━━━━\u001b[0m\u001b[37m\u001b[0m \u001b[1m3s\u001b[0m 2ms/step - accuracy: 0.9072 - loss: 0.2155 - val_accuracy: 0.9049 - val_loss: 0.2205\n",
      "Epoch 37/50\n",
      "\u001b[1m1113/1113\u001b[0m \u001b[32m━━━━━━━━━━━━━━━━━━━━\u001b[0m\u001b[37m\u001b[0m \u001b[1m3s\u001b[0m 2ms/step - accuracy: 0.9063 - loss: 0.2163 - val_accuracy: 0.9040 - val_loss: 0.2218\n",
      "Epoch 38/50\n",
      "\u001b[1m1113/1113\u001b[0m \u001b[32m━━━━━━━━━━━━━━━━━━━━\u001b[0m\u001b[37m\u001b[0m \u001b[1m5s\u001b[0m 2ms/step - accuracy: 0.9061 - loss: 0.2165 - val_accuracy: 0.9028 - val_loss: 0.2220\n",
      "Epoch 39/50\n",
      "\u001b[1m1113/1113\u001b[0m \u001b[32m━━━━━━━━━━━━━━━━━━━━\u001b[0m\u001b[37m\u001b[0m \u001b[1m3s\u001b[0m 2ms/step - accuracy: 0.9069 - loss: 0.2162 - val_accuracy: 0.9051 - val_loss: 0.2208\n",
      "Epoch 40/50\n",
      "\u001b[1m1113/1113\u001b[0m \u001b[32m━━━━━━━━━━━━━━━━━━━━\u001b[0m\u001b[37m\u001b[0m \u001b[1m3s\u001b[0m 3ms/step - accuracy: 0.9048 - loss: 0.2147 - val_accuracy: 0.9043 - val_loss: 0.2205\n",
      "Epoch 41/50\n",
      "\u001b[1m1113/1113\u001b[0m \u001b[32m━━━━━━━━━━━━━━━━━━━━\u001b[0m\u001b[37m\u001b[0m \u001b[1m2s\u001b[0m 2ms/step - accuracy: 0.9072 - loss: 0.2122 - val_accuracy: 0.9057 - val_loss: 0.2209\n",
      "Epoch 42/50\n",
      "\u001b[1m1113/1113\u001b[0m \u001b[32m━━━━━━━━━━━━━━━━━━━━\u001b[0m\u001b[37m\u001b[0m \u001b[1m3s\u001b[0m 3ms/step - accuracy: 0.9084 - loss: 0.2118 - val_accuracy: 0.9029 - val_loss: 0.2207\n",
      "Epoch 43/50\n",
      "\u001b[1m1113/1113\u001b[0m \u001b[32m━━━━━━━━━━━━━━━━━━━━\u001b[0m\u001b[37m\u001b[0m \u001b[1m3s\u001b[0m 3ms/step - accuracy: 0.9076 - loss: 0.2129 - val_accuracy: 0.9045 - val_loss: 0.2203\n",
      "Epoch 44/50\n",
      "\u001b[1m1113/1113\u001b[0m \u001b[32m━━━━━━━━━━━━━━━━━━━━\u001b[0m\u001b[37m\u001b[0m \u001b[1m4s\u001b[0m 4ms/step - accuracy: 0.9073 - loss: 0.2129 - val_accuracy: 0.9063 - val_loss: 0.2189\n",
      "Epoch 45/50\n",
      "\u001b[1m1113/1113\u001b[0m \u001b[32m━━━━━━━━━━━━━━━━━━━━\u001b[0m\u001b[37m\u001b[0m \u001b[1m4s\u001b[0m 4ms/step - accuracy: 0.9093 - loss: 0.2099 - val_accuracy: 0.9074 - val_loss: 0.2198\n",
      "Epoch 46/50\n",
      "\u001b[1m1113/1113\u001b[0m \u001b[32m━━━━━━━━━━━━━━━━━━━━\u001b[0m\u001b[37m\u001b[0m \u001b[1m3s\u001b[0m 3ms/step - accuracy: 0.9108 - loss: 0.2116 - val_accuracy: 0.9048 - val_loss: 0.2199\n",
      "Epoch 47/50\n",
      "\u001b[1m1113/1113\u001b[0m \u001b[32m━━━━━━━━━━━━━━━━━━━━\u001b[0m\u001b[37m\u001b[0m \u001b[1m3s\u001b[0m 3ms/step - accuracy: 0.9050 - loss: 0.2145 - val_accuracy: 0.9060 - val_loss: 0.2189\n",
      "Epoch 48/50\n",
      "\u001b[1m1113/1113\u001b[0m \u001b[32m━━━━━━━━━━━━━━━━━━━━\u001b[0m\u001b[37m\u001b[0m \u001b[1m3s\u001b[0m 2ms/step - accuracy: 0.9086 - loss: 0.2119 - val_accuracy: 0.9053 - val_loss: 0.2189\n",
      "Epoch 49/50\n",
      "\u001b[1m1113/1113\u001b[0m \u001b[32m━━━━━━━━━━━━━━━━━━━━\u001b[0m\u001b[37m\u001b[0m \u001b[1m3s\u001b[0m 2ms/step - accuracy: 0.9090 - loss: 0.2112 - val_accuracy: 0.9051 - val_loss: 0.2191\n",
      "Epoch 50/50\n",
      "\u001b[1m1113/1113\u001b[0m \u001b[32m━━━━━━━━━━━━━━━━━━━━\u001b[0m\u001b[37m\u001b[0m \u001b[1m3s\u001b[0m 3ms/step - accuracy: 0.9068 - loss: 0.2144 - val_accuracy: 0.9058 - val_loss: 0.2184\n",
      "\u001b[1m279/279\u001b[0m \u001b[32m━━━━━━━━━━━━━━━━━━━━\u001b[0m\u001b[37m\u001b[0m \u001b[1m0s\u001b[0m 1ms/step - accuracy: 0.9079 - loss: 0.2127\n",
      "Validation Loss: 0.21835710108280182, Validation Accuracy: 0.9058427214622498\n"
     ]
    }
   ],
   "source": [
    "import tensorflow as tf\n",
    "from tensorflow.keras.layers import Input\n",
    "from sklearn.model_selection import train_test_split\n",
    "from tensorflow.keras.models import Sequential\n",
    "from tensorflow.keras.layers import Dense\n",
    "from tensorflow.keras.optimizers import Adam\n",
    "import pandas as pd \n",
    "from sklearn.metrics import classification_report\n",
    "\n",
    "df = pd.read_csv('dataset2.csv')\n",
    "X = df.drop(columns=['y'])\n",
    "y = df['y']\n",
    "\n",
    "X_train, X_test, y_train, y_test = train_test_split(X, y, test_size=0.2, random_state=54, stratify=y)\n",
    "\n",
    "X_train = X_train.to_numpy()\n",
    "X_test = X_test.to_numpy()\n",
    "y_train = y_train.to_numpy()\n",
    "y_test = y_test.to_numpy()\n",
    "\n",
    "# Model definition\n",
    "ANN = Sequential([\n",
    "    Input(shape=(X_train.shape[1],)), \n",
    "    Dense(16, activation='relu'),      \n",
    "    Dense(8, activation='relu'),        \n",
    "    Dense(1, activation='sigmoid')      \n",
    "])\n",
    "\n",
    "# Compiling the model\n",
    "ANN.compile(optimizer=Adam(learning_rate=0.001),\n",
    "              loss='binary_crossentropy',  \n",
    "              metrics=['accuracy'])\n",
    "\n",
    "# Fitting the model\n",
    "history = ANN.fit(\n",
    "    X_train, y_train,\n",
    "    validation_data=(X_test, y_test),\n",
    "    epochs=50,\n",
    "    batch_size=32,\n",
    "    verbose=1\n",
    ")\n",
    "\n",
    "# Model evaluation\n",
    "loss, accuracy = ANN.evaluate(X_test, y_test)\n",
    "print(f\"Validation Loss: {loss}, Validation Accuracy: {accuracy}\")\n"
   ]
  },
  {
   "cell_type": "code",
   "execution_count": 11,
   "id": "948cd4e3-26d4-4e87-a84c-f486991c2306",
   "metadata": {},
   "outputs": [
    {
     "name": "stdout",
     "output_type": "stream",
     "text": [
      "\u001b[1m279/279\u001b[0m \u001b[32m━━━━━━━━━━━━━━━━━━━━\u001b[0m\u001b[37m\u001b[0m \u001b[1m1s\u001b[0m 2ms/step\n",
      "              precision    recall  f1-score   support\n",
      "\n",
      "           0       0.93      0.96      0.95      7898\n",
      "           1       0.61      0.45      0.52      1002\n",
      "\n",
      "    accuracy                           0.91      8900\n",
      "   macro avg       0.77      0.70      0.73      8900\n",
      "weighted avg       0.90      0.91      0.90      8900\n",
      "\n"
     ]
    }
   ],
   "source": [
    "# Classification report\n",
    "y_pred = (ANN.predict(X_test) > 0.5).astype(\"int32\")  \n",
    "\n",
    "print(classification_report(y_test, y_pred))"
   ]
  },
  {
   "cell_type": "markdown",
   "id": "948101e2-0c38-4102-85d0-487723a54ff2",
   "metadata": {},
   "source": [
    "##### ROC_AUC value"
   ]
  },
  {
   "cell_type": "code",
   "execution_count": 12,
   "id": "7f6d0d49-f179-4446-9ad2-3461ebd8e782",
   "metadata": {},
   "outputs": [
    {
     "name": "stdout",
     "output_type": "stream",
     "text": [
      "ROC-AUC: 0.70\n"
     ]
    },
    {
     "data": {
      "image/png": "[encoded data removed]",
      "text/plain": [
       "<Figure size 640x480 with 1 Axes>"
      ]
     },
     "metadata": {},
     "output_type": "display_data"
    }
   ],
   "source": [
    "ROC_AUC_plot(y_test, y_pred)"
   ]
  },
  {
   "cell_type": "code",
   "execution_count": null,
   "id": "c56df6cf-3a95-42fa-bd7a-d69bad5c916a",
   "metadata": {},
   "outputs": [],
   "source": []
  },
  {
   "cell_type": "markdown",
   "id": "d849187b-62ce-433f-9214-bc1ac7af2d27",
   "metadata": {},
   "source": [
    "### Using ANN with SMOTE (ANN Model - 3)"
   ]
  },
  {
   "cell_type": "code",
   "execution_count": 14,
   "id": "5eef9976-e31d-4667-b7e1-5a121b4a4652",
   "metadata": {},
   "outputs": [
    {
     "name": "stdout",
     "output_type": "stream",
     "text": [
      "Epoch 1/50\n",
      "\u001b[1m1975/1975\u001b[0m \u001b[32m━━━━━━━━━━━━━━━━━━━━\u001b[0m\u001b[37m\u001b[0m \u001b[1m8s\u001b[0m 3ms/step - accuracy: 0.7344 - loss: 0.5191 - val_accuracy: 0.8194 - val_loss: 0.4083\n",
      "Epoch 2/50\n",
      "\u001b[1m1975/1975\u001b[0m \u001b[32m━━━━━━━━━━━━━━━━━━━━\u001b[0m\u001b[37m\u001b[0m \u001b[1m9s\u001b[0m 2ms/step - accuracy: 0.8436 - loss: 0.3657 - val_accuracy: 0.8072 - val_loss: 0.4003\n",
      "Epoch 3/50\n",
      "\u001b[1m1975/1975\u001b[0m \u001b[32m━━━━━━━━━━━━━━━━━━━━\u001b[0m\u001b[37m\u001b[0m \u001b[1m5s\u001b[0m 3ms/step - accuracy: 0.8471 - loss: 0.3559 - val_accuracy: 0.7978 - val_loss: 0.4213\n",
      "Epoch 4/50\n",
      "\u001b[1m1975/1975\u001b[0m \u001b[32m━━━━━━━━━━━━━━━━━━━━\u001b[0m\u001b[37m\u001b[0m \u001b[1m5s\u001b[0m 3ms/step - accuracy: 0.8474 - loss: 0.3570 - val_accuracy: 0.8043 - val_loss: 0.3972\n",
      "Epoch 5/50\n",
      "\u001b[1m1975/1975\u001b[0m \u001b[32m━━━━━━━━━━━━━━━━━━━━\u001b[0m\u001b[37m\u001b[0m \u001b[1m5s\u001b[0m 2ms/step - accuracy: 0.8507 - loss: 0.3472 - val_accuracy: 0.7816 - val_loss: 0.4326\n",
      "Epoch 6/50\n",
      "\u001b[1m1975/1975\u001b[0m \u001b[32m━━━━━━━━━━━━━━━━━━━━\u001b[0m\u001b[37m\u001b[0m \u001b[1m5s\u001b[0m 2ms/step - accuracy: 0.8545 - loss: 0.3429 - val_accuracy: 0.8028 - val_loss: 0.3924\n",
      "Epoch 7/50\n",
      "\u001b[1m1975/1975\u001b[0m \u001b[32m━━━━━━━━━━━━━━━━━━━━\u001b[0m\u001b[37m\u001b[0m \u001b[1m6s\u001b[0m 3ms/step - accuracy: 0.8541 - loss: 0.3403 - val_accuracy: 0.8097 - val_loss: 0.3802\n",
      "Epoch 8/50\n",
      "\u001b[1m1975/1975\u001b[0m \u001b[32m━━━━━━━━━━━━━━━━━━━━\u001b[0m\u001b[37m\u001b[0m \u001b[1m4s\u001b[0m 2ms/step - accuracy: 0.8535 - loss: 0.3374 - val_accuracy: 0.8060 - val_loss: 0.3895\n",
      "Epoch 9/50\n",
      "\u001b[1m1975/1975\u001b[0m \u001b[32m━━━━━━━━━━━━━━━━━━━━\u001b[0m\u001b[37m\u001b[0m \u001b[1m4s\u001b[0m 2ms/step - accuracy: 0.8558 - loss: 0.3341 - val_accuracy: 0.8133 - val_loss: 0.3721\n",
      "Epoch 10/50\n",
      "\u001b[1m1975/1975\u001b[0m \u001b[32m━━━━━━━━━━━━━━━━━━━━\u001b[0m\u001b[37m\u001b[0m \u001b[1m5s\u001b[0m 3ms/step - accuracy: 0.8558 - loss: 0.3329 - val_accuracy: 0.7982 - val_loss: 0.4006\n",
      "Epoch 11/50\n",
      "\u001b[1m1975/1975\u001b[0m \u001b[32m━━━━━━━━━━━━━━━━━━━━\u001b[0m\u001b[37m\u001b[0m \u001b[1m5s\u001b[0m 3ms/step - accuracy: 0.8558 - loss: 0.3320 - val_accuracy: 0.8153 - val_loss: 0.3711\n",
      "Epoch 12/50\n",
      "\u001b[1m1975/1975\u001b[0m \u001b[32m━━━━━━━━━━━━━━━━━━━━\u001b[0m\u001b[37m\u001b[0m \u001b[1m5s\u001b[0m 3ms/step - accuracy: 0.8575 - loss: 0.3286 - val_accuracy: 0.8011 - val_loss: 0.4038\n",
      "Epoch 13/50\n",
      "\u001b[1m1975/1975\u001b[0m \u001b[32m━━━━━━━━━━━━━━━━━━━━\u001b[0m\u001b[37m\u001b[0m \u001b[1m7s\u001b[0m 4ms/step - accuracy: 0.8598 - loss: 0.3262 - val_accuracy: 0.8204 - val_loss: 0.3630\n",
      "Epoch 14/50\n",
      "\u001b[1m1975/1975\u001b[0m \u001b[32m━━━━━━━━━━━━━━━━━━━━\u001b[0m\u001b[37m\u001b[0m \u001b[1m8s\u001b[0m 2ms/step - accuracy: 0.8622 - loss: 0.3232 - val_accuracy: 0.8227 - val_loss: 0.3568\n",
      "Epoch 15/50\n",
      "\u001b[1m1975/1975\u001b[0m \u001b[32m━━━━━━━━━━━━━━━━━━━━\u001b[0m\u001b[37m\u001b[0m \u001b[1m4s\u001b[0m 2ms/step - accuracy: 0.8603 - loss: 0.3229 - val_accuracy: 0.8076 - val_loss: 0.3903\n",
      "Epoch 16/50\n",
      "\u001b[1m1975/1975\u001b[0m \u001b[32m━━━━━━━━━━━━━━━━━━━━\u001b[0m\u001b[37m\u001b[0m \u001b[1m6s\u001b[0m 3ms/step - accuracy: 0.8593 - loss: 0.3275 - val_accuracy: 0.8276 - val_loss: 0.3458\n",
      "Epoch 17/50\n",
      "\u001b[1m1975/1975\u001b[0m \u001b[32m━━━━━━━━━━━━━━━━━━━━\u001b[0m\u001b[37m\u001b[0m \u001b[1m6s\u001b[0m 3ms/step - accuracy: 0.8617 - loss: 0.3194 - val_accuracy: 0.8335 - val_loss: 0.3403\n",
      "Epoch 18/50\n",
      "\u001b[1m1975/1975\u001b[0m \u001b[32m━━━━━━━━━━━━━━━━━━━━\u001b[0m\u001b[37m\u001b[0m \u001b[1m6s\u001b[0m 3ms/step - accuracy: 0.8669 - loss: 0.3160 - val_accuracy: 0.8122 - val_loss: 0.3710\n",
      "Epoch 19/50\n",
      "\u001b[1m1975/1975\u001b[0m \u001b[32m━━━━━━━━━━━━━━━━━━━━\u001b[0m\u001b[37m\u001b[0m \u001b[1m6s\u001b[0m 3ms/step - accuracy: 0.8660 - loss: 0.3158 - val_accuracy: 0.8035 - val_loss: 0.3964\n",
      "Epoch 20/50\n",
      "\u001b[1m1975/1975\u001b[0m \u001b[32m━━━━━━━━━━━━━━━━━━━━\u001b[0m\u001b[37m\u001b[0m \u001b[1m6s\u001b[0m 3ms/step - accuracy: 0.8684 - loss: 0.3112 - val_accuracy: 0.8194 - val_loss: 0.3662\n",
      "Epoch 21/50\n",
      "\u001b[1m1975/1975\u001b[0m \u001b[32m━━━━━━━━━━━━━━━━━━━━\u001b[0m\u001b[37m\u001b[0m \u001b[1m11s\u001b[0m 3ms/step - accuracy: 0.8674 - loss: 0.3120 - val_accuracy: 0.8328 - val_loss: 0.3418\n",
      "Epoch 22/50\n",
      "\u001b[1m1975/1975\u001b[0m \u001b[32m━━━━━━━━━━━━━━━━━━━━\u001b[0m\u001b[37m\u001b[0m \u001b[1m8s\u001b[0m 2ms/step - accuracy: 0.8649 - loss: 0.3146 - val_accuracy: 0.8226 - val_loss: 0.3673\n",
      "Epoch 23/50\n",
      "\u001b[1m1975/1975\u001b[0m \u001b[32m━━━━━━━━━━━━━━━━━━━━\u001b[0m\u001b[37m\u001b[0m \u001b[1m6s\u001b[0m 3ms/step - accuracy: 0.8678 - loss: 0.3104 - val_accuracy: 0.8201 - val_loss: 0.3693\n",
      "Epoch 24/50\n",
      "\u001b[1m1975/1975\u001b[0m \u001b[32m━━━━━━━━━━━━━━━━━━━━\u001b[0m\u001b[37m\u001b[0m \u001b[1m6s\u001b[0m 3ms/step - accuracy: 0.8690 - loss: 0.3112 - val_accuracy: 0.8155 - val_loss: 0.3791\n",
      "Epoch 25/50\n",
      "\u001b[1m1975/1975\u001b[0m \u001b[32m━━━━━━━━━━━━━━━━━━━━\u001b[0m\u001b[37m\u001b[0m \u001b[1m9s\u001b[0m 2ms/step - accuracy: 0.8663 - loss: 0.3110 - val_accuracy: 0.8237 - val_loss: 0.3600\n",
      "Epoch 26/50\n",
      "\u001b[1m1975/1975\u001b[0m \u001b[32m━━━━━━━━━━━━━━━━━━━━\u001b[0m\u001b[37m\u001b[0m \u001b[1m6s\u001b[0m 3ms/step - accuracy: 0.8692 - loss: 0.3091 - val_accuracy: 0.8175 - val_loss: 0.3772\n",
      "Epoch 27/50\n",
      "\u001b[1m1975/1975\u001b[0m \u001b[32m━━━━━━━━━━━━━━━━━━━━\u001b[0m\u001b[37m\u001b[0m \u001b[1m6s\u001b[0m 3ms/step - accuracy: 0.8714 - loss: 0.3029 - val_accuracy: 0.8081 - val_loss: 0.3929\n",
      "Epoch 28/50\n",
      "\u001b[1m1975/1975\u001b[0m \u001b[32m━━━━━━━━━━━━━━━━━━━━\u001b[0m\u001b[37m\u001b[0m \u001b[1m10s\u001b[0m 3ms/step - accuracy: 0.8706 - loss: 0.3062 - val_accuracy: 0.8142 - val_loss: 0.3816\n",
      "Epoch 29/50\n",
      "\u001b[1m1975/1975\u001b[0m \u001b[32m━━━━━━━━━━━━━━━━━━━━\u001b[0m\u001b[37m\u001b[0m \u001b[1m6s\u001b[0m 3ms/step - accuracy: 0.8719 - loss: 0.3044 - val_accuracy: 0.8430 - val_loss: 0.3287\n",
      "Epoch 30/50\n",
      "\u001b[1m1975/1975\u001b[0m \u001b[32m━━━━━━━━━━━━━━━━━━━━\u001b[0m\u001b[37m\u001b[0m \u001b[1m9s\u001b[0m 2ms/step - accuracy: 0.8696 - loss: 0.3073 - val_accuracy: 0.8446 - val_loss: 0.3296\n",
      "Epoch 31/50\n",
      "\u001b[1m1975/1975\u001b[0m \u001b[32m━━━━━━━━━━━━━━━━━━━━\u001b[0m\u001b[37m\u001b[0m \u001b[1m5s\u001b[0m 3ms/step - accuracy: 0.8717 - loss: 0.3059 - val_accuracy: 0.8390 - val_loss: 0.3371\n",
      "Epoch 32/50\n",
      "\u001b[1m1975/1975\u001b[0m \u001b[32m━━━━━━━━━━━━━━━━━━━━\u001b[0m\u001b[37m\u001b[0m \u001b[1m7s\u001b[0m 3ms/step - accuracy: 0.8711 - loss: 0.3034 - val_accuracy: 0.8376 - val_loss: 0.3520\n",
      "Epoch 33/50\n",
      "\u001b[1m1975/1975\u001b[0m \u001b[32m━━━━━━━━━━━━━━━━━━━━\u001b[0m\u001b[37m\u001b[0m \u001b[1m9s\u001b[0m 2ms/step - accuracy: 0.8720 - loss: 0.3039 - val_accuracy: 0.8167 - val_loss: 0.3820\n",
      "Epoch 34/50\n",
      "\u001b[1m1975/1975\u001b[0m \u001b[32m━━━━━━━━━━━━━━━━━━━━\u001b[0m\u001b[37m\u001b[0m \u001b[1m5s\u001b[0m 3ms/step - accuracy: 0.8747 - loss: 0.2995 - val_accuracy: 0.8171 - val_loss: 0.3822\n",
      "Epoch 35/50\n",
      "\u001b[1m1975/1975\u001b[0m \u001b[32m━━━━━━━━━━━━━━━━━━━━\u001b[0m\u001b[37m\u001b[0m \u001b[1m5s\u001b[0m 2ms/step - accuracy: 0.8741 - loss: 0.3003 - val_accuracy: 0.8182 - val_loss: 0.3835\n",
      "Epoch 36/50\n",
      "\u001b[1m1975/1975\u001b[0m \u001b[32m━━━━━━━━━━━━━━━━━━━━\u001b[0m\u001b[37m\u001b[0m \u001b[1m6s\u001b[0m 3ms/step - accuracy: 0.8745 - loss: 0.3015 - val_accuracy: 0.8311 - val_loss: 0.3635\n",
      "Epoch 37/50\n",
      "\u001b[1m1975/1975\u001b[0m \u001b[32m━━━━━━━━━━━━━━━━━━━━\u001b[0m\u001b[37m\u001b[0m \u001b[1m10s\u001b[0m 2ms/step - accuracy: 0.8750 - loss: 0.2997 - val_accuracy: 0.8283 - val_loss: 0.3578\n",
      "Epoch 38/50\n",
      "\u001b[1m1975/1975\u001b[0m \u001b[32m━━━━━━━━━━━━━━━━━━━━\u001b[0m\u001b[37m\u001b[0m \u001b[1m7s\u001b[0m 3ms/step - accuracy: 0.8739 - loss: 0.3019 - val_accuracy: 0.8171 - val_loss: 0.3794\n",
      "Epoch 39/50\n",
      "\u001b[1m1975/1975\u001b[0m \u001b[32m━━━━━━━━━━━━━━━━━━━━\u001b[0m\u001b[37m\u001b[0m \u001b[1m6s\u001b[0m 3ms/step - accuracy: 0.8727 - loss: 0.3028 - val_accuracy: 0.8169 - val_loss: 0.3839\n",
      "Epoch 40/50\n",
      "\u001b[1m1975/1975\u001b[0m \u001b[32m━━━━━━━━━━━━━━━━━━━━\u001b[0m\u001b[37m\u001b[0m \u001b[1m9s\u001b[0m 2ms/step - accuracy: 0.8732 - loss: 0.3012 - val_accuracy: 0.8280 - val_loss: 0.3646\n",
      "Epoch 41/50\n",
      "\u001b[1m1975/1975\u001b[0m \u001b[32m━━━━━━━━━━━━━━━━━━━━\u001b[0m\u001b[37m\u001b[0m \u001b[1m5s\u001b[0m 3ms/step - accuracy: 0.8748 - loss: 0.2983 - val_accuracy: 0.8378 - val_loss: 0.3497\n",
      "Epoch 42/50\n",
      "\u001b[1m1975/1975\u001b[0m \u001b[32m━━━━━━━━━━━━━━━━━━━━\u001b[0m\u001b[37m\u001b[0m \u001b[1m5s\u001b[0m 2ms/step - accuracy: 0.8756 - loss: 0.3001 - val_accuracy: 0.8389 - val_loss: 0.3451\n",
      "Epoch 43/50\n",
      "\u001b[1m1975/1975\u001b[0m \u001b[32m━━━━━━━━━━━━━━━━━━━━\u001b[0m\u001b[37m\u001b[0m \u001b[1m6s\u001b[0m 3ms/step - accuracy: 0.8762 - loss: 0.2968 - val_accuracy: 0.8219 - val_loss: 0.3733\n",
      "Epoch 44/50\n",
      "\u001b[1m1975/1975\u001b[0m \u001b[32m━━━━━━━━━━━━━━━━━━━━\u001b[0m\u001b[37m\u001b[0m \u001b[1m10s\u001b[0m 3ms/step - accuracy: 0.8776 - loss: 0.2962 - val_accuracy: 0.8442 - val_loss: 0.3370\n",
      "Epoch 45/50\n",
      "\u001b[1m1975/1975\u001b[0m \u001b[32m━━━━━━━━━━━━━━━━━━━━\u001b[0m\u001b[37m\u001b[0m \u001b[1m10s\u001b[0m 3ms/step - accuracy: 0.8754 - loss: 0.3007 - val_accuracy: 0.8317 - val_loss: 0.3616\n",
      "Epoch 46/50\n",
      "\u001b[1m1975/1975\u001b[0m \u001b[32m━━━━━━━━━━━━━━━━━━━━\u001b[0m\u001b[37m\u001b[0m \u001b[1m8s\u001b[0m 4ms/step - accuracy: 0.8752 - loss: 0.3012 - val_accuracy: 0.8443 - val_loss: 0.3405\n",
      "Epoch 47/50\n",
      "\u001b[1m1975/1975\u001b[0m \u001b[32m━━━━━━━━━━━━━━━━━━━━\u001b[0m\u001b[37m\u001b[0m \u001b[1m10s\u001b[0m 4ms/step - accuracy: 0.8741 - loss: 0.2972 - val_accuracy: 0.8111 - val_loss: 0.4019\n",
      "Epoch 48/50\n",
      "\u001b[1m1975/1975\u001b[0m \u001b[32m━━━━━━━━━━━━━━━━━━━━\u001b[0m\u001b[37m\u001b[0m \u001b[1m9s\u001b[0m 3ms/step - accuracy: 0.8773 - loss: 0.2940 - val_accuracy: 0.8462 - val_loss: 0.3320\n",
      "Epoch 49/50\n",
      "\u001b[1m1975/1975\u001b[0m \u001b[32m━━━━━━━━━━━━━━━━━━━━\u001b[0m\u001b[37m\u001b[0m \u001b[1m9s\u001b[0m 2ms/step - accuracy: 0.8755 - loss: 0.3011 - val_accuracy: 0.8308 - val_loss: 0.3658\n",
      "Epoch 50/50\n",
      "\u001b[1m1975/1975\u001b[0m \u001b[32m━━━━━━━━━━━━━━━━━━━━\u001b[0m\u001b[37m\u001b[0m \u001b[1m7s\u001b[0m 3ms/step - accuracy: 0.8749 - loss: 0.2980 - val_accuracy: 0.8310 - val_loss: 0.3600\n",
      "\u001b[1m279/279\u001b[0m \u001b[32m━━━━━━━━━━━━━━━━━━━━\u001b[0m\u001b[37m\u001b[0m \u001b[1m0s\u001b[0m 2ms/step - accuracy: 0.8335 - loss: 0.3478\n",
      "Validation Loss: 0.35996949672698975, Validation Accuracy: 0.8310112357139587\n"
     ]
    }
   ],
   "source": [
    "import tensorflow as tf\n",
    "from tensorflow.keras.layers import Input\n",
    "from sklearn.model_selection import train_test_split\n",
    "from tensorflow.keras.models import Sequential\n",
    "from tensorflow.keras.layers import Dense\n",
    "from tensorflow.keras.optimizers import Adam\n",
    "from imblearn.over_sampling import SMOTE\n",
    "\n",
    "df = pd.read_csv('dataset1.csv')\n",
    "X = df.drop(columns=['y'])\n",
    "y = df['y']\n",
    "\n",
    "X_train, X_test, y_train, y_test = train_test_split(X, y, test_size=0.2, random_state=54, stratify=y)\n",
    "\n",
    "# Smote for training set\n",
    "smote = SMOTE(random_state=54)\n",
    "X_train, y_train = smote.fit_resample(X_train, y_train)\n",
    "\n",
    "X_train = X_train.to_numpy()\n",
    "X_test = X_test.to_numpy()\n",
    "y_train = y_train.to_numpy()\n",
    "y_test = y_test.to_numpy()\n",
    "\n",
    "# Model definition\n",
    "ANN = Sequential([\n",
    "    Input(shape=(X_train.shape[1],)), \n",
    "    Dense(16, activation='relu'),       \n",
    "    Dense(8, activation='relu'),        \n",
    "    Dense(1, activation='sigmoid')      \n",
    "])\n",
    "\n",
    "# Compiling the model\n",
    "ANN.compile(optimizer=Adam(learning_rate=0.001),\n",
    "              loss='binary_crossentropy',  \n",
    "              metrics=['accuracy'])\n",
    "\n",
    "# Fitting the model\n",
    "history = ANN.fit(\n",
    "    X_train, y_train,\n",
    "    validation_data=(X_test, y_test),\n",
    "    epochs=50,\n",
    "    batch_size=32,\n",
    "    verbose=1\n",
    ")\n",
    "\n",
    "# Model evaluation\n",
    "loss, accuracy = ANN.evaluate(X_test, y_test)\n",
    "print(f\"Validation Loss: {loss}, Validation Accuracy: {accuracy}\")\n"
   ]
  },
  {
   "cell_type": "code",
   "execution_count": 15,
   "id": "b1926032-69c1-4034-8cac-bff146a9d472",
   "metadata": {},
   "outputs": [
    {
     "name": "stdout",
     "output_type": "stream",
     "text": [
      "\u001b[1m279/279\u001b[0m \u001b[32m━━━━━━━━━━━━━━━━━━━━\u001b[0m\u001b[37m\u001b[0m \u001b[1m1s\u001b[0m 2ms/step\n",
      "              precision    recall  f1-score   support\n",
      "\n",
      "           0       0.97      0.83      0.90      7898\n",
      "           1       0.38      0.81      0.52      1002\n",
      "\n",
      "    accuracy                           0.83      8900\n",
      "   macro avg       0.68      0.82      0.71      8900\n",
      "weighted avg       0.91      0.83      0.85      8900\n",
      "\n"
     ]
    }
   ],
   "source": [
    "from sklearn.metrics import classification_report\n",
    "\n",
    "y_pred = (ANN.predict(X_test) > 0.5).astype(\"int32\") \n",
    "\n",
    "print(classification_report(y_test, y_pred))"
   ]
  },
  {
   "cell_type": "markdown",
   "id": "23b51f00-1f08-4677-b25b-7a2914f0e7fc",
   "metadata": {},
   "source": [
    "##### ROC_AUC value"
   ]
  },
  {
   "cell_type": "code",
   "execution_count": 16,
   "id": "25e90be3-9fed-4283-a21c-0eeb1ec34121",
   "metadata": {},
   "outputs": [
    {
     "name": "stdout",
     "output_type": "stream",
     "text": [
      "ROC-AUC: 0.82\n"
     ]
    },
    {
     "data": {
      "image/png": "[encoded data removed]",
      "text/plain": [
       "<Figure size 640x480 with 1 Axes>"
      ]
     },
     "metadata": {},
     "output_type": "display_data"
    }
   ],
   "source": [
    "ROC_AUC_plot(y_test, y_pred)"
   ]
  },
  {
   "cell_type": "code",
   "execution_count": null,
   "id": "c0a50ba6-1557-43a9-a992-8d65c214c08d",
   "metadata": {},
   "outputs": [],
   "source": []
  },
  {
   "cell_type": "markdown",
   "id": "d361e1b8-f900-4393-b5e3-417f4fc369db",
   "metadata": {},
   "source": [
    "## Optimizing the model"
   ]
  },
  {
   "cell_type": "markdown",
   "id": "519fe811-3ca5-499b-b43a-61eec0b8f773",
   "metadata": {},
   "source": [
    "### 1) Model evaluating methods"
   ]
  },
  {
   "cell_type": "markdown",
   "id": "9fd79183-d91f-4ab8-84d1-abd8e09f0887",
   "metadata": {},
   "source": [
    "#### 1. Train vs. test recall"
   ]
  },
  {
   "cell_type": "code",
   "execution_count": 5,
   "id": "4011d470-71f5-40ad-9f1e-378012d1fa99",
   "metadata": {},
   "outputs": [],
   "source": [
    "from sklearn.metrics import recall_score\n",
    "\n",
    "def train_test_recall(ANN, X_train, y_train, X_test, y_test):\n",
    "    # Predict probabilities for training set\n",
    "    y_train_pred_prob = ANN.predict(X_train)\n",
    "    y_train_pred = (y_train_pred_prob > 0.5).astype(int)  \n",
    "    \n",
    "    # Predict probabilities for test set\n",
    "    y_test_pred_prob = ANN.predict(X_test)\n",
    "    y_test_pred = (y_test_pred_prob > 0.5).astype(int)  \n",
    "    \n",
    "    # Evaluate recall on the training set\n",
    "    train_recall = recall_score(y_train, y_train_pred)\n",
    "    \n",
    "    # Evaluate recall on the test set\n",
    "    test_recall = recall_score(y_test, y_test_pred)\n",
    "    \n",
    "    print(f\"Training Recall: {train_recall:.4f}\")\n",
    "    print(f\"Test Recall: {test_recall:.4f}\")\n"
   ]
  },
  {
   "cell_type": "markdown",
   "id": "6e828672-627b-41fc-ba63-24883d1c8747",
   "metadata": {},
   "source": [
    "#### 2. SKF cross validation scores"
   ]
  },
  {
   "cell_type": "code",
   "execution_count": 6,
   "id": "903c6723-ba1f-407e-b98c-9022cfaa77bb",
   "metadata": {},
   "outputs": [],
   "source": [
    "from sklearn.model_selection import StratifiedKFold\n",
    "from imblearn.over_sampling import SMOTE\n",
    "import numpy as np\n",
    "\n",
    "def SKF_CV_accuracy(ANN, X, y, epochs, batch_size):\n",
    "    smote = SMOTE(random_state=54)\n",
    "    \n",
    "    # Stratified K-Fold Cross-Validation\n",
    "    skf = StratifiedKFold(n_splits=5, shuffle=True, random_state=54)\n",
    "    \n",
    "    cv_scores = []\n",
    "\n",
    "    # Performing cross-validation\n",
    "    for train_index, test_index in skf.split(X, y):\n",
    "        # Spliting data into training and test sets\n",
    "        X_train, X_test = X.iloc[train_index], X.iloc[test_index]\n",
    "        y_train, y_test = y.iloc[train_index], y.iloc[test_index]\n",
    "        \n",
    "        # Applying SMOTE to the training data\n",
    "        X_train_smote, y_train_smote = smote.fit_resample(X_train, y_train)\n",
    "        \n",
    "        X_train_smote = X_train_smote.to_numpy()\n",
    "        X_test = X_test.to_numpy()\n",
    "        y_train_smote = y_train_smote.to_numpy()\n",
    "        y_test = y_test.to_numpy()\n",
    "        \n",
    "        # Create a new model instance (to avoid reusing weights)\n",
    "        model = tf.keras.models.clone_model(ANN)\n",
    "        model.compile(optimizer=Adam(learning_rate=0.001),\n",
    "                      loss='binary_crossentropy',\n",
    "                      metrics=['accuracy'])\n",
    "        \n",
    "        # Training the model on the resampled training data\n",
    "        model.fit(X_train_smote, y_train_smote, epochs=epochs, batch_size=batch_size, verbose=0)\n",
    "        \n",
    "        # Evaluating on the test set (not resampled)\n",
    "        _, accuracy = model.evaluate(X_test, y_test, verbose=0)\n",
    "        cv_scores.append(accuracy)\n",
    "    \n",
    "    # Calculating overall accuracy across all folds\n",
    "    overall_accuracy = np.mean(cv_scores)\n",
    "    \n",
    "    # Result output\n",
    "    print(\"Stratified CV Accuracy for each fold:\", cv_scores)\n",
    "    print(\"Mean Stratified CV Overall Accuracy:\", overall_accuracy)\n",
    "    return overall_accuracy\n"
   ]
  },
  {
   "cell_type": "code",
   "execution_count": 7,
   "id": "ecf86fd9-04cc-4408-8d2f-e8f3c13af194",
   "metadata": {},
   "outputs": [],
   "source": [
    "from sklearn.model_selection import StratifiedKFold\n",
    "from imblearn.over_sampling import SMOTE\n",
    "from sklearn.metrics import recall_score\n",
    "import numpy as np\n",
    "import tensorflow as tf\n",
    "from tensorflow.keras.optimizers import Adam\n",
    "\n",
    "def CV_class1_recall(ANN, X, y, epochs, batch_size):\n",
    "    smote = SMOTE(random_state=54)\n",
    "    \n",
    "    # Stratified K-Fold Cross-Validation\n",
    "    skf = StratifiedKFold(n_splits=5, shuffle=True, random_state=54)\n",
    "    \n",
    "    recall_scores = []\n",
    "\n",
    "    # Perform cross-validation\n",
    "    for train_index, test_index in skf.split(X, y):\n",
    "        # Splitting the data into training and test sets\n",
    "        X_train, X_test = X.iloc[train_index], X.iloc[test_index]\n",
    "        y_train, y_test = y.iloc[train_index], y.iloc[test_index]\n",
    "        \n",
    "        # Applying SMOTE to the training data\n",
    "        X_train_smote, y_train_smote = smote.fit_resample(X_train, y_train)\n",
    "        \n",
    "        # Converting data to numpy arrays (TensorFlow requires this format)\n",
    "        X_train_smote = X_train_smote.to_numpy()\n",
    "        X_test = X_test.to_numpy()\n",
    "        y_train_smote = y_train_smote.to_numpy()\n",
    "        y_test = y_test.to_numpy()\n",
    "        \n",
    "        # Create a new model instance (to avoid reusing weights)\n",
    "        model = tf.keras.models.clone_model(ANN)\n",
    "        model.compile(optimizer=Adam(learning_rate=0.001),\n",
    "                      loss='binary_crossentropy',\n",
    "                      metrics=['accuracy'])\n",
    "        \n",
    "        # Training the model on the resampled training data\n",
    "        model.fit(X_train_smote, y_train_smote, epochs=epochs, batch_size=batch_size, verbose=0)\n",
    "        \n",
    "        # Predicting on the test set (not resampled)\n",
    "        y_pred_prob = model.predict(X_test)\n",
    "        y_pred = (y_pred_prob > 0.5).astype(int)\n",
    "        \n",
    "        # Calculating recall for class '1'\n",
    "        class_1_recall = recall_score(y_test, y_pred, pos_label=1)\n",
    "        recall_scores.append(class_1_recall)\n",
    "    \n",
    "    # Calculating overall recall across all folds\n",
    "    overall_recall = np.mean(recall_scores)\n",
    "    \n",
    "    # result output\n",
    "    print(\"Class '1' Recall for each fold:\", recall_scores)\n",
    "    print(\"Mean Class '1' Recall across all folds:\", overall_recall)\n",
    "    return overall_recall\n"
   ]
  },
  {
   "cell_type": "code",
   "execution_count": 8,
   "id": "94f2a5bc-94e5-4979-a36c-69f42b4969e0",
   "metadata": {},
   "outputs": [],
   "source": [
    "from sklearn.model_selection import StratifiedKFold\n",
    "from imblearn.over_sampling import SMOTE\n",
    "from sklearn.metrics import recall_score\n",
    "import numpy as np\n",
    "import tensorflow as tf\n",
    "from tensorflow.keras.optimizers import Adam\n",
    "\n",
    "def CV_class0_recall(ANN, X, y, epochs, batch_size):\n",
    "    smote = SMOTE(random_state=54)\n",
    "    \n",
    "    # Stratified K-Fold Cross-Validation\n",
    "    skf = StratifiedKFold(n_splits=5, shuffle=True, random_state=54)\n",
    "    \n",
    "    recall_scores = []\n",
    "\n",
    "    # Perform cross-validation\n",
    "    for train_index, test_index in skf.split(X, y):\n",
    "        # Spliting the data into training and test sets\n",
    "        X_train, X_test = X.iloc[train_index], X.iloc[test_index]\n",
    "        y_train, y_test = y.iloc[train_index], y.iloc[test_index]\n",
    "        \n",
    "        # Applying SMOTE to the training data\n",
    "        X_train_smote, y_train_smote = smote.fit_resample(X_train, y_train)\n",
    "        \n",
    "        # Converting data to numpy arrays (TensorFlow requires this format)\n",
    "        X_train_smote = X_train_smote.to_numpy()\n",
    "        X_test = X_test.to_numpy()\n",
    "        y_train_smote = y_train_smote.to_numpy()\n",
    "        y_test = y_test.to_numpy()\n",
    "        \n",
    "        # Create a new model instance (to avoid reusing weights)\n",
    "        model = tf.keras.models.clone_model(ANN)\n",
    "        model.compile(optimizer=Adam(learning_rate=0.001),\n",
    "                      loss='binary_crossentropy',\n",
    "                      metrics=['accuracy'])\n",
    "        \n",
    "        # Training the model on the resampled training data\n",
    "        model.fit(X_train_smote, y_train_smote, epochs=epochs, batch_size=batch_size, verbose=0)\n",
    "        \n",
    "        # Predicting on the test set (not resampled)\n",
    "        y_pred_prob = model.predict(X_test)\n",
    "        y_pred = (y_pred_prob > 0.5).astype(int)\n",
    "        \n",
    "        # Calculating recall for class '0'\n",
    "        class_0_recall = recall_score(y_test, y_pred, pos_label=0)\n",
    "        recall_scores.append(class_0_recall)\n",
    "    \n",
    "    # Calculating overall recall across all folds\n",
    "    overall_recall = np.mean(recall_scores)\n",
    "    \n",
    "    # result output\n",
    "    print(\"Class '0' Recall for each fold:\", recall_scores)\n",
    "    print(\"Mean Class '0' Recall across all folds:\", overall_recall)\n",
    "    return overall_recall\n"
   ]
  },
  {
   "cell_type": "code",
   "execution_count": 9,
   "id": "7877ea87-5831-4fa1-9b1e-4ca3f4d7dbfe",
   "metadata": {},
   "outputs": [],
   "source": [
    "from sklearn.model_selection import StratifiedKFold\n",
    "from imblearn.over_sampling import SMOTE\n",
    "from sklearn.metrics import recall_score\n",
    "import numpy as np\n",
    "import tensorflow as tf\n",
    "from tensorflow.keras.optimizers import Adam\n",
    "\n",
    "def CV_recall(ANN, X, y, epochs, batch_size):\n",
    "    smote = SMOTE(random_state=54)\n",
    "    \n",
    "    # Stratified K-Fold Cross-Validation\n",
    "    skf = StratifiedKFold(n_splits=5, shuffle=True, random_state=54)\n",
    "    \n",
    "    # List to store recall values for each fold\n",
    "    recall_scores = []\n",
    "\n",
    "    # Perform cross-validation\n",
    "    for train_index, test_index in skf.split(X, y):\n",
    "        # Split the data into training and test sets\n",
    "        X_train, X_test = X.iloc[train_index], X.iloc[test_index]\n",
    "        y_train, y_test = y.iloc[train_index], y.iloc[test_index]\n",
    "        \n",
    "        # Apply SMOTE to the training data\n",
    "        X_train_smote, y_train_smote = smote.fit_resample(X_train, y_train)\n",
    "        \n",
    "        # Convert data to numpy arrays (TensorFlow requires this format)\n",
    "        X_train_smote = X_train_smote.to_numpy()\n",
    "        X_test = X_test.to_numpy()\n",
    "        y_train_smote = y_train_smote.to_numpy()\n",
    "        y_test = y_test.to_numpy()\n",
    "        \n",
    "        # Create a new model instance (to avoid reusing weights)\n",
    "        model = tf.keras.models.clone_model(ANN)\n",
    "        model.compile(optimizer=Adam(learning_rate=0.001),\n",
    "                      loss='binary_crossentropy',\n",
    "                      metrics=['accuracy'])\n",
    "        \n",
    "        # Train the model on the resampled training data\n",
    "        model.fit(X_train_smote, y_train_smote, epochs=epochs, batch_size=batch_size, verbose=0)\n",
    "        \n",
    "        # Predict on the test set (not resampled)\n",
    "        y_pred_prob = model.predict(X_test)\n",
    "        y_pred = (y_pred_prob > 0.5).astype(int)\n",
    "        \n",
    "        # Calculate overall recall (considering both classes)\n",
    "        overall_recall = recall_score(y_test, y_pred)\n",
    "        recall_scores.append(overall_recall)\n",
    "    \n",
    "    # Calculate mean recall across all folds\n",
    "    mean_recall = np.mean(recall_scores)\n",
    "    \n",
    "    # Output results\n",
    "    print(\"Overall Recall for each fold:\", recall_scores)\n",
    "    print(\"Mean Overall Recall across all folds:\", mean_recall)\n",
    "    return mean_recall\n"
   ]
  },
  {
   "cell_type": "markdown",
   "id": "2599b27c-f47c-4a14-8266-d74106a86805",
   "metadata": {},
   "source": [
    "#### 3. Confusion matrix"
   ]
  },
  {
   "cell_type": "code",
   "execution_count": 10,
   "id": "68dc8f7b-8c14-4a6b-a54e-1ffc85b72377",
   "metadata": {},
   "outputs": [],
   "source": [
    "import matplotlib.pyplot as plt\n",
    "import numpy as np\n",
    "from sklearn.metrics import confusion_matrix, ConfusionMatrixDisplay\n",
    "\n",
    "def plot_confusion_matrix(model, X_test, y_test, class_names=None):\n",
    "    y_pred = (model.predict(X_test) > 0.5).astype(\"int32\")\n",
    "    \n",
    "    cm = confusion_matrix(y_test, y_pred)\n",
    "    print(cm)\n",
    "\n",
    "    plt.figure(figsize=(3, 3))\n",
    "    \n",
    "    # Plot confusion matrix on the current axes\n",
    "    disp = ConfusionMatrixDisplay(confusion_matrix=cm, display_labels=class_names)\n",
    "    disp.plot(cmap=plt.cm.Blues, ax=plt.gca())  \n",
    "    plt.title(\"Confusion Matrix\")\n",
    "    plt.show()\n"
   ]
  },
  {
   "cell_type": "markdown",
   "id": "8ab3acb9-eed9-4c36-8b0f-fb3c375fdb9f",
   "metadata": {},
   "source": [
    "#### 4. ROC_AUC value"
   ]
  },
  {
   "cell_type": "code",
   "execution_count": 11,
   "id": "906b4148-07d2-46d4-99d3-1701f0fa64b1",
   "metadata": {},
   "outputs": [],
   "source": [
    "from sklearn.metrics import roc_auc_score, roc_curve\n",
    "\n",
    "def ROC_AUC_plot(y_test, y_pred):\n",
    "    # Calculating ROC_AUC\n",
    "    roc_auc = roc_auc_score(y_test, y_pred)\n",
    "    print(f\"ROC-AUC: {roc_auc:.2f}\")\n",
    "    \n",
    "    import matplotlib.pyplot as plt\n",
    "    fpr, tpr, thresholds = roc_curve(y_test, y_pred)\n",
    "    plt.plot(fpr, tpr, label=f\"ROC Curve (AUC = {roc_auc:.2f})\")\n",
    "    plt.xlabel(\"False Positive Rate\")\n",
    "    plt.ylabel(\"True Positive Rate\")\n",
    "    plt.legend(loc=\"best\")\n",
    "    plt.show()"
   ]
  },
  {
   "cell_type": "markdown",
   "id": "844b3b80-20f1-4a66-8704-c9037282a158",
   "metadata": {},
   "source": [
    "#### 5. Learning curve\n"
   ]
  },
  {
   "cell_type": "code",
   "execution_count": 12,
   "id": "6c4b0546-7a44-4a53-81c5-ff6900b52047",
   "metadata": {},
   "outputs": [],
   "source": [
    "import matplotlib.pyplot as plt\n",
    "\n",
    "def learning_curve(history, recall_key, val_recall_key):\n",
    "    training_loss = history.history['loss']\n",
    "    validation_loss = history.history['val_loss']\n",
    "    training_accuracy = history.history[recall_key]\n",
    "    validation_accuracy = history.history[val_recall_key]\n",
    "    \n",
    "    plt.figure(figsize=(6, 3))\n",
    "    plt.plot(training_loss, label='Training Loss')\n",
    "    plt.plot(validation_loss, label='Validation Loss')\n",
    "    plt.xlabel('Epochs')\n",
    "    plt.ylabel('Loss')\n",
    "    plt.title('Learning Curve: Loss')\n",
    "    plt.legend()\n",
    "    plt.show()\n",
    "    \n",
    "    plt.figure(figsize=(6, 3))\n",
    "    plt.plot(training_accuracy, label='Training Recall')\n",
    "    plt.plot(validation_accuracy, label='Validation Recall')\n",
    "    plt.xlabel('Epochs')\n",
    "    plt.ylabel('Recall')\n",
    "    plt.title('Learning Curve: Recall')\n",
    "    plt.legend()\n",
    "    plt.show()\n"
   ]
  },
  {
   "cell_type": "code",
   "execution_count": null,
   "id": "22fbce6a-7a27-4c21-a933-e745c47b3378",
   "metadata": {},
   "outputs": [],
   "source": []
  },
  {
   "cell_type": "markdown",
   "id": "4b72f072-6f59-44a1-8a1c-7cc2e2238538",
   "metadata": {},
   "source": [
    "### 2) Hyperparameter tunning"
   ]
  },
  {
   "cell_type": "markdown",
   "id": "4923a1dd-5413-4615-9e10-2c852a3c2e2c",
   "metadata": {},
   "source": [
    "##### Before hyperparameter tunning"
   ]
  },
  {
   "cell_type": "code",
   "execution_count": 52,
   "id": "1bfd38f8-5c24-4375-965b-86aa9e8611c6",
   "metadata": {},
   "outputs": [
    {
     "name": "stdout",
     "output_type": "stream",
     "text": [
      "Epoch 1/50\n",
      "\u001b[1m1975/1975\u001b[0m \u001b[32m━━━━━━━━━━━━━━━━━━━━\u001b[0m\u001b[37m\u001b[0m \u001b[1m4s\u001b[0m 1ms/step - accuracy: 0.7282 - loss: 0.5273 - val_accuracy: 0.8430 - val_loss: 0.3813\n",
      "Epoch 2/50\n",
      "\u001b[1m1975/1975\u001b[0m \u001b[32m━━━━━━━━━━━━━━━━━━━━\u001b[0m\u001b[37m\u001b[0m \u001b[1m5s\u001b[0m 3ms/step - accuracy: 0.8390 - loss: 0.3749 - val_accuracy: 0.8291 - val_loss: 0.3661\n",
      "Epoch 3/50\n",
      "\u001b[1m1975/1975\u001b[0m \u001b[32m━━━━━━━━━━━━━━━━━━━━\u001b[0m\u001b[37m\u001b[0m \u001b[1m5s\u001b[0m 2ms/step - accuracy: 0.8438 - loss: 0.3613 - val_accuracy: 0.8279 - val_loss: 0.3569\n",
      "Epoch 4/50\n",
      "\u001b[1m1975/1975\u001b[0m \u001b[32m━━━━━━━━━━━━━━━━━━━━\u001b[0m\u001b[37m\u001b[0m \u001b[1m4s\u001b[0m 2ms/step - accuracy: 0.8460 - loss: 0.3563 - val_accuracy: 0.8262 - val_loss: 0.3551\n",
      "Epoch 5/50\n",
      "\u001b[1m1975/1975\u001b[0m \u001b[32m━━━━━━━━━━━━━━━━━━━━\u001b[0m\u001b[37m\u001b[0m \u001b[1m4s\u001b[0m 2ms/step - accuracy: 0.8474 - loss: 0.3526 - val_accuracy: 0.8263 - val_loss: 0.3530\n",
      "Epoch 6/50\n",
      "\u001b[1m1975/1975\u001b[0m \u001b[32m━━━━━━━━━━━━━━━━━━━━\u001b[0m\u001b[37m\u001b[0m \u001b[1m5s\u001b[0m 2ms/step - accuracy: 0.8496 - loss: 0.3493 - val_accuracy: 0.8244 - val_loss: 0.3546\n",
      "Epoch 7/50\n",
      "\u001b[1m1975/1975\u001b[0m \u001b[32m━━━━━━━━━━━━━━━━━━━━\u001b[0m\u001b[37m\u001b[0m \u001b[1m4s\u001b[0m 2ms/step - accuracy: 0.8504 - loss: 0.3469 - val_accuracy: 0.8247 - val_loss: 0.3543\n",
      "Epoch 8/50\n",
      "\u001b[1m1975/1975\u001b[0m \u001b[32m━━━━━━━━━━━━━━━━━━━━\u001b[0m\u001b[37m\u001b[0m \u001b[1m4s\u001b[0m 2ms/step - accuracy: 0.8514 - loss: 0.3447 - val_accuracy: 0.8255 - val_loss: 0.3536\n",
      "Epoch 9/50\n",
      "\u001b[1m1975/1975\u001b[0m \u001b[32m━━━━━━━━━━━━━━━━━━━━\u001b[0m\u001b[37m\u001b[0m \u001b[1m5s\u001b[0m 2ms/step - accuracy: 0.8518 - loss: 0.3429 - val_accuracy: 0.8233 - val_loss: 0.3582\n",
      "Epoch 10/50\n",
      "\u001b[1m1975/1975\u001b[0m \u001b[32m━━━━━━━━━━━━━━━━━━━━\u001b[0m\u001b[37m\u001b[0m \u001b[1m5s\u001b[0m 2ms/step - accuracy: 0.8529 - loss: 0.3408 - val_accuracy: 0.8227 - val_loss: 0.3600\n",
      "Epoch 11/50\n",
      "\u001b[1m1975/1975\u001b[0m \u001b[32m━━━━━━━━━━━━━━━━━━━━\u001b[0m\u001b[37m\u001b[0m \u001b[1m4s\u001b[0m 2ms/step - accuracy: 0.8540 - loss: 0.3390 - val_accuracy: 0.8224 - val_loss: 0.3617\n",
      "Epoch 12/50\n",
      "\u001b[1m1975/1975\u001b[0m \u001b[32m━━━━━━━━━━━━━━━━━━━━\u001b[0m\u001b[37m\u001b[0m \u001b[1m4s\u001b[0m 2ms/step - accuracy: 0.8543 - loss: 0.3372 - val_accuracy: 0.8238 - val_loss: 0.3606\n",
      "Epoch 13/50\n",
      "\u001b[1m1975/1975\u001b[0m \u001b[32m━━━━━━━━━━━━━━━━━━━━\u001b[0m\u001b[37m\u001b[0m \u001b[1m4s\u001b[0m 2ms/step - accuracy: 0.8554 - loss: 0.3354 - val_accuracy: 0.8233 - val_loss: 0.3603\n",
      "Epoch 14/50\n",
      "\u001b[1m1975/1975\u001b[0m \u001b[32m━━━━━━━━━━━━━━━━━━━━\u001b[0m\u001b[37m\u001b[0m \u001b[1m5s\u001b[0m 2ms/step - accuracy: 0.8562 - loss: 0.3336 - val_accuracy: 0.8237 - val_loss: 0.3583\n",
      "Epoch 15/50\n",
      "\u001b[1m1975/1975\u001b[0m \u001b[32m━━━━━━━━━━━━━━━━━━━━\u001b[0m\u001b[37m\u001b[0m \u001b[1m6s\u001b[0m 3ms/step - accuracy: 0.8564 - loss: 0.3321 - val_accuracy: 0.8245 - val_loss: 0.3587\n",
      "Epoch 16/50\n",
      "\u001b[1m1975/1975\u001b[0m \u001b[32m━━━━━━━━━━━━━━━━━━━━\u001b[0m\u001b[37m\u001b[0m \u001b[1m4s\u001b[0m 2ms/step - accuracy: 0.8567 - loss: 0.3306 - val_accuracy: 0.8253 - val_loss: 0.3584\n",
      "Epoch 17/50\n",
      "\u001b[1m1975/1975\u001b[0m \u001b[32m━━━━━━━━━━━━━━━━━━━━\u001b[0m\u001b[37m\u001b[0m \u001b[1m5s\u001b[0m 2ms/step - accuracy: 0.8576 - loss: 0.3291 - val_accuracy: 0.8256 - val_loss: 0.3606\n",
      "Epoch 18/50\n",
      "\u001b[1m1975/1975\u001b[0m \u001b[32m━━━━━━━━━━━━━━━━━━━━\u001b[0m\u001b[37m\u001b[0m \u001b[1m5s\u001b[0m 2ms/step - accuracy: 0.8583 - loss: 0.3274 - val_accuracy: 0.8287 - val_loss: 0.3567\n",
      "Epoch 19/50\n",
      "\u001b[1m1975/1975\u001b[0m \u001b[32m━━━━━━━━━━━━━━━━━━━━\u001b[0m\u001b[37m\u001b[0m \u001b[1m4s\u001b[0m 2ms/step - accuracy: 0.8597 - loss: 0.3256 - val_accuracy: 0.8302 - val_loss: 0.3547\n",
      "Epoch 20/50\n",
      "\u001b[1m1975/1975\u001b[0m \u001b[32m━━━━━━━━━━━━━━━━━━━━\u001b[0m\u001b[37m\u001b[0m \u001b[1m4s\u001b[0m 2ms/step - accuracy: 0.8611 - loss: 0.3238 - val_accuracy: 0.8298 - val_loss: 0.3524\n",
      "Epoch 21/50\n",
      "\u001b[1m1975/1975\u001b[0m \u001b[32m━━━━━━━━━━━━━━━━━━━━\u001b[0m\u001b[37m\u001b[0m \u001b[1m4s\u001b[0m 2ms/step - accuracy: 0.8627 - loss: 0.3220 - val_accuracy: 0.8315 - val_loss: 0.3492\n",
      "Epoch 22/50\n",
      "\u001b[1m1975/1975\u001b[0m \u001b[32m━━━━━━━━━━━━━━━━━━━━\u001b[0m\u001b[37m\u001b[0m \u001b[1m5s\u001b[0m 2ms/step - accuracy: 0.8636 - loss: 0.3204 - val_accuracy: 0.8308 - val_loss: 0.3511\n",
      "Epoch 23/50\n",
      "\u001b[1m1975/1975\u001b[0m \u001b[32m━━━━━━━━━━━━━━━━━━━━\u001b[0m\u001b[37m\u001b[0m \u001b[1m5s\u001b[0m 2ms/step - accuracy: 0.8645 - loss: 0.3189 - val_accuracy: 0.8306 - val_loss: 0.3501\n",
      "Epoch 24/50\n",
      "\u001b[1m1975/1975\u001b[0m \u001b[32m━━━━━━━━━━━━━━━━━━━━\u001b[0m\u001b[37m\u001b[0m \u001b[1m4s\u001b[0m 2ms/step - accuracy: 0.8650 - loss: 0.3171 - val_accuracy: 0.8297 - val_loss: 0.3487\n",
      "Epoch 25/50\n",
      "\u001b[1m1975/1975\u001b[0m \u001b[32m━━━━━━━━━━━━━━━━━━━━\u001b[0m\u001b[37m\u001b[0m \u001b[1m4s\u001b[0m 2ms/step - accuracy: 0.8659 - loss: 0.3159 - val_accuracy: 0.8304 - val_loss: 0.3492\n",
      "Epoch 26/50\n",
      "\u001b[1m1975/1975\u001b[0m \u001b[32m━━━━━━━━━━━━━━━━━━━━\u001b[0m\u001b[37m\u001b[0m \u001b[1m5s\u001b[0m 2ms/step - accuracy: 0.8666 - loss: 0.3145 - val_accuracy: 0.8303 - val_loss: 0.3488\n",
      "Epoch 27/50\n",
      "\u001b[1m1975/1975\u001b[0m \u001b[32m━━━━━━━━━━━━━━━━━━━━\u001b[0m\u001b[37m\u001b[0m \u001b[1m4s\u001b[0m 2ms/step - accuracy: 0.8678 - loss: 0.3133 - val_accuracy: 0.8318 - val_loss: 0.3484\n",
      "Epoch 28/50\n",
      "\u001b[1m1975/1975\u001b[0m \u001b[32m━━━━━━━━━━━━━━━━━━━━\u001b[0m\u001b[37m\u001b[0m \u001b[1m5s\u001b[0m 2ms/step - accuracy: 0.8678 - loss: 0.3122 - val_accuracy: 0.8320 - val_loss: 0.3483\n",
      "Epoch 29/50\n",
      "\u001b[1m1975/1975\u001b[0m \u001b[32m━━━━━━━━━━━━━━━━━━━━\u001b[0m\u001b[37m\u001b[0m \u001b[1m5s\u001b[0m 2ms/step - accuracy: 0.8688 - loss: 0.3111 - val_accuracy: 0.8336 - val_loss: 0.3455\n",
      "Epoch 30/50\n",
      "\u001b[1m1975/1975\u001b[0m \u001b[32m━━━━━━━━━━━━━━━━━━━━\u001b[0m\u001b[37m\u001b[0m \u001b[1m4s\u001b[0m 2ms/step - accuracy: 0.8698 - loss: 0.3102 - val_accuracy: 0.8334 - val_loss: 0.3445\n",
      "Epoch 31/50\n",
      "\u001b[1m1975/1975\u001b[0m \u001b[32m━━━━━━━━━━━━━━━━━━━━\u001b[0m\u001b[37m\u001b[0m \u001b[1m4s\u001b[0m 2ms/step - accuracy: 0.8702 - loss: 0.3094 - val_accuracy: 0.8339 - val_loss: 0.3458\n",
      "Epoch 32/50\n",
      "\u001b[1m1975/1975\u001b[0m \u001b[32m━━━━━━━━━━━━━━━━━━━━\u001b[0m\u001b[37m\u001b[0m \u001b[1m4s\u001b[0m 2ms/step - accuracy: 0.8705 - loss: 0.3086 - val_accuracy: 0.8352 - val_loss: 0.3451\n",
      "Epoch 33/50\n",
      "\u001b[1m1975/1975\u001b[0m \u001b[32m━━━━━━━━━━━━━━━━━━━━\u001b[0m\u001b[37m\u001b[0m \u001b[1m5s\u001b[0m 2ms/step - accuracy: 0.8708 - loss: 0.3079 - val_accuracy: 0.8346 - val_loss: 0.3437\n",
      "Epoch 34/50\n",
      "\u001b[1m1975/1975\u001b[0m \u001b[32m━━━━━━━━━━━━━━━━━━━━\u001b[0m\u001b[37m\u001b[0m \u001b[1m5s\u001b[0m 2ms/step - accuracy: 0.8710 - loss: 0.3073 - val_accuracy: 0.8355 - val_loss: 0.3428\n",
      "Epoch 35/50\n",
      "\u001b[1m1975/1975\u001b[0m \u001b[32m━━━━━━━━━━━━━━━━━━━━\u001b[0m\u001b[37m\u001b[0m \u001b[1m5s\u001b[0m 2ms/step - accuracy: 0.8713 - loss: 0.3065 - val_accuracy: 0.8364 - val_loss: 0.3417\n",
      "Epoch 36/50\n",
      "\u001b[1m1975/1975\u001b[0m \u001b[32m━━━━━━━━━━━━━━━━━━━━\u001b[0m\u001b[37m\u001b[0m \u001b[1m5s\u001b[0m 2ms/step - accuracy: 0.8713 - loss: 0.3058 - val_accuracy: 0.8371 - val_loss: 0.3426\n",
      "Epoch 37/50\n",
      "\u001b[1m1975/1975\u001b[0m \u001b[32m━━━━━━━━━━━━━━━━━━━━\u001b[0m\u001b[37m\u001b[0m \u001b[1m4s\u001b[0m 2ms/step - accuracy: 0.8718 - loss: 0.3050 - val_accuracy: 0.8392 - val_loss: 0.3410\n",
      "Epoch 38/50\n",
      "\u001b[1m1975/1975\u001b[0m \u001b[32m━━━━━━━━━━━━━━━━━━━━\u001b[0m\u001b[37m\u001b[0m \u001b[1m5s\u001b[0m 2ms/step - accuracy: 0.8727 - loss: 0.3044 - val_accuracy: 0.8407 - val_loss: 0.3402\n",
      "Epoch 39/50\n",
      "\u001b[1m1975/1975\u001b[0m \u001b[32m━━━━━━━━━━━━━━━━━━━━\u001b[0m\u001b[37m\u001b[0m \u001b[1m4s\u001b[0m 2ms/step - accuracy: 0.8730 - loss: 0.3037 - val_accuracy: 0.8417 - val_loss: 0.3376\n",
      "Epoch 40/50\n",
      "\u001b[1m1975/1975\u001b[0m \u001b[32m━━━━━━━━━━━━━━━━━━━━\u001b[0m\u001b[37m\u001b[0m \u001b[1m5s\u001b[0m 2ms/step - accuracy: 0.8737 - loss: 0.3030 - val_accuracy: 0.8406 - val_loss: 0.3383\n",
      "Epoch 41/50\n",
      "\u001b[1m1975/1975\u001b[0m \u001b[32m━━━━━━━━━━━━━━━━━━━━\u001b[0m\u001b[37m\u001b[0m \u001b[1m5s\u001b[0m 2ms/step - accuracy: 0.8739 - loss: 0.3025 - val_accuracy: 0.8404 - val_loss: 0.3385\n",
      "Epoch 42/50\n",
      "\u001b[1m1975/1975\u001b[0m \u001b[32m━━━━━━━━━━━━━━━━━━━━\u001b[0m\u001b[37m\u001b[0m \u001b[1m5s\u001b[0m 2ms/step - accuracy: 0.8739 - loss: 0.3021 - val_accuracy: 0.8408 - val_loss: 0.3382\n",
      "Epoch 43/50\n",
      "\u001b[1m1975/1975\u001b[0m \u001b[32m━━━━━━━━━━━━━━━━━━━━\u001b[0m\u001b[37m\u001b[0m \u001b[1m5s\u001b[0m 2ms/step - accuracy: 0.8744 - loss: 0.3016 - val_accuracy: 0.8407 - val_loss: 0.3369\n",
      "Epoch 44/50\n",
      "\u001b[1m1975/1975\u001b[0m \u001b[32m━━━━━━━━━━━━━━━━━━━━\u001b[0m\u001b[37m\u001b[0m \u001b[1m5s\u001b[0m 2ms/step - accuracy: 0.8747 - loss: 0.3010 - val_accuracy: 0.8416 - val_loss: 0.3380\n",
      "Epoch 45/50\n",
      "\u001b[1m1975/1975\u001b[0m \u001b[32m━━━━━━━━━━━━━━━━━━━━\u001b[0m\u001b[37m\u001b[0m \u001b[1m4s\u001b[0m 2ms/step - accuracy: 0.8743 - loss: 0.3004 - val_accuracy: 0.8434 - val_loss: 0.3349\n",
      "Epoch 46/50\n",
      "\u001b[1m1975/1975\u001b[0m \u001b[32m━━━━━━━━━━━━━━━━━━━━\u001b[0m\u001b[37m\u001b[0m \u001b[1m4s\u001b[0m 2ms/step - accuracy: 0.8747 - loss: 0.2997 - val_accuracy: 0.8431 - val_loss: 0.3343\n",
      "Epoch 47/50\n",
      "\u001b[1m1975/1975\u001b[0m \u001b[32m━━━━━━━━━━━━━━━━━━━━\u001b[0m\u001b[37m\u001b[0m \u001b[1m5s\u001b[0m 2ms/step - accuracy: 0.8755 - loss: 0.2994 - val_accuracy: 0.8439 - val_loss: 0.3339\n",
      "Epoch 48/50\n",
      "\u001b[1m1975/1975\u001b[0m \u001b[32m━━━━━━━━━━━━━━━━━━━━\u001b[0m\u001b[37m\u001b[0m \u001b[1m5s\u001b[0m 2ms/step - accuracy: 0.8750 - loss: 0.2989 - val_accuracy: 0.8442 - val_loss: 0.3338\n",
      "Epoch 49/50\n",
      "\u001b[1m1975/1975\u001b[0m \u001b[32m━━━━━━━━━━━━━━━━━━━━\u001b[0m\u001b[37m\u001b[0m \u001b[1m5s\u001b[0m 2ms/step - accuracy: 0.8754 - loss: 0.2983 - val_accuracy: 0.8449 - val_loss: 0.3332\n",
      "Epoch 50/50\n",
      "\u001b[1m1975/1975\u001b[0m \u001b[32m━━━━━━━━━━━━━━━━━━━━\u001b[0m\u001b[37m\u001b[0m \u001b[1m5s\u001b[0m 2ms/step - accuracy: 0.8760 - loss: 0.2979 - val_accuracy: 0.8447 - val_loss: 0.3347\n",
      "\u001b[1m279/279\u001b[0m \u001b[32m━━━━━━━━━━━━━━━━━━━━\u001b[0m\u001b[37m\u001b[0m \u001b[1m0s\u001b[0m 2ms/step - accuracy: 0.8494 - loss: 0.3241\n",
      "Validation Loss: 0.3347400426864624, Validation Accuracy: 0.8447191119194031\n"
     ]
    }
   ],
   "source": [
    "import tensorflow as tf\n",
    "from tensorflow.keras.layers import Input\n",
    "from sklearn.model_selection import train_test_split\n",
    "from tensorflow.keras.models import Sequential\n",
    "from tensorflow.keras.layers import Dense\n",
    "from tensorflow.keras.optimizers import Adam\n",
    "from imblearn.over_sampling import SMOTE\n",
    "\n",
    "df = pd.read_csv('dataset1.csv')\n",
    "X = df.drop(columns=['y'])\n",
    "y = df['y']\n",
    "\n",
    "X_train, X_test, y_train, y_test = train_test_split(X, y, test_size=0.2, random_state=54, stratify=y)\n",
    "\n",
    "# Smote for training set\n",
    "smote = SMOTE(random_state=54)\n",
    "X_train, y_train = smote.fit_resample(X_train, y_train)\n",
    "\n",
    "X_train = X_train.to_numpy()\n",
    "X_test = X_test.to_numpy()\n",
    "y_train = y_train.to_numpy()\n",
    "y_test = y_test.to_numpy()\n",
    "\n",
    "# Model definition\n",
    "ANN = Sequential([\n",
    "    Input(shape=(X_train.shape[1],)),  # Use Input layer to define the input shape\n",
    "    Dense(16, activation='relu'),       # No input_shape here, it's already defined in the Input layer\n",
    "    Dense(8, activation='relu'),        \n",
    "    Dense(1, activation='sigmoid')      # Output layer for binary classification\n",
    "])\n",
    "\n",
    "# Compiling the model\n",
    "ANN.compile(optimizer=Adam(learning_rate=0.001),\n",
    "              loss='binary_crossentropy',  \n",
    "              metrics=['accuracy'])\n",
    "\n",
    "# Fitting the model\n",
    "history = ANN.fit(\n",
    "    X_train, y_train,\n",
    "    validation_data=(X_test, y_test),\n",
    "    epochs=50,\n",
    "    batch_size=32,\n",
    "    verbose=1\n",
    ")\n",
    "\n",
    "# Model evaluation\n",
    "loss, accuracy = ANN.evaluate(X_test, y_test)\n",
    "print(f\"Validation Loss: {loss}, Validation Accuracy: {accuracy}\")\n"
   ]
  },
  {
   "cell_type": "markdown",
   "id": "23e6f9a5-4a86-40ca-979e-9445d3966e0a",
   "metadata": {},
   "source": [
    "##### Hyperparameter tunning"
   ]
  },
  {
   "cell_type": "code",
   "execution_count": 50,
   "id": "f236feb8-c6de-4dfc-b6f9-064f9b58b439",
   "metadata": {
    "scrolled": true
   },
   "outputs": [
    {
     "name": "stdout",
     "output_type": "stream",
     "text": [
      "Trial 20 Complete [00h 02m 41s]\n",
      "val_f1_score: 0.4705535924617197\n",
      "\n",
      "Best val_f1_score So Far: 0.53894297635605\n",
      "Total elapsed time: 00h 42m 28s\n",
      "Epoch 1/20\n",
      "\u001b[1m1975/1975\u001b[0m \u001b[32m━━━━━━━━━━━━━━━━━━━━\u001b[0m\u001b[37m\u001b[0m \u001b[1m12s\u001b[0m 3ms/step - accuracy: 0.7586 - auc: 0.8274 - loss: 0.6117 - recall: 0.7673 - val_accuracy: 0.8020 - val_auc: 0.8906 - val_loss: 0.3851 - val_recall: 0.8174\n",
      "Epoch 2/20\n",
      "\u001b[1m1975/1975\u001b[0m \u001b[32m━━━━━━━━━━━━━━━━━━━━\u001b[0m\u001b[37m\u001b[0m \u001b[1m6s\u001b[0m 3ms/step - accuracy: 0.8413 - auc: 0.9070 - loss: 0.4075 - recall: 0.8925 - val_accuracy: 0.8182 - val_auc: 0.8943 - val_loss: 0.3791 - val_recall: 0.8094\n",
      "Epoch 3/20\n",
      "\u001b[1m1975/1975\u001b[0m \u001b[32m━━━━━━━━━━━━━━━━━━━━\u001b[0m\u001b[37m\u001b[0m \u001b[1m6s\u001b[0m 3ms/step - accuracy: 0.8446 - auc: 0.9101 - loss: 0.3944 - recall: 0.8985 - val_accuracy: 0.8165 - val_auc: 0.8946 - val_loss: 0.3810 - val_recall: 0.8184\n",
      "Epoch 4/20\n",
      "\u001b[1m1975/1975\u001b[0m \u001b[32m━━━━━━━━━━━━━━━━━━━━\u001b[0m\u001b[37m\u001b[0m \u001b[1m6s\u001b[0m 3ms/step - accuracy: 0.8484 - auc: 0.9136 - loss: 0.3864 - recall: 0.9005 - val_accuracy: 0.8296 - val_auc: 0.8939 - val_loss: 0.3504 - val_recall: 0.7994\n",
      "Epoch 5/20\n",
      "\u001b[1m1975/1975\u001b[0m \u001b[32m━━━━━━━━━━━━━━━━━━━━\u001b[0m\u001b[37m\u001b[0m \u001b[1m5s\u001b[0m 3ms/step - accuracy: 0.8513 - auc: 0.9160 - loss: 0.3797 - recall: 0.9066 - val_accuracy: 0.8299 - val_auc: 0.8958 - val_loss: 0.3491 - val_recall: 0.7984\n",
      "Epoch 6/20\n",
      "\u001b[1m1975/1975\u001b[0m \u001b[32m━━━━━━━━━━━━━━━━━━━━\u001b[0m\u001b[37m\u001b[0m \u001b[1m5s\u001b[0m 3ms/step - accuracy: 0.8519 - auc: 0.9168 - loss: 0.3752 - recall: 0.9073 - val_accuracy: 0.8274 - val_auc: 0.8952 - val_loss: 0.3594 - val_recall: 0.8154\n",
      "Epoch 7/20\n",
      "\u001b[1m1975/1975\u001b[0m \u001b[32m━━━━━━━━━━━━━━━━━━━━\u001b[0m\u001b[37m\u001b[0m \u001b[1m5s\u001b[0m 3ms/step - accuracy: 0.8535 - auc: 0.9179 - loss: 0.3750 - recall: 0.9023 - val_accuracy: 0.8302 - val_auc: 0.8965 - val_loss: 0.3649 - val_recall: 0.7984\n",
      "Epoch 8/20\n",
      "\u001b[1m1975/1975\u001b[0m \u001b[32m━━━━━━━━━━━━━━━━━━━━\u001b[0m\u001b[37m\u001b[0m \u001b[1m6s\u001b[0m 3ms/step - accuracy: 0.8542 - auc: 0.9204 - loss: 0.3685 - recall: 0.8993 - val_accuracy: 0.8382 - val_auc: 0.8964 - val_loss: 0.3457 - val_recall: 0.7904\n",
      "Epoch 9/20\n",
      "\u001b[1m1975/1975\u001b[0m \u001b[32m━━━━━━━━━━━━━━━━━━━━\u001b[0m\u001b[37m\u001b[0m \u001b[1m6s\u001b[0m 3ms/step - accuracy: 0.8543 - auc: 0.9200 - loss: 0.3688 - recall: 0.9014 - val_accuracy: 0.8258 - val_auc: 0.8959 - val_loss: 0.3583 - val_recall: 0.8044\n",
      "Epoch 10/20\n",
      "\u001b[1m1975/1975\u001b[0m \u001b[32m━━━━━━━━━━━━━━━━━━━━\u001b[0m\u001b[37m\u001b[0m \u001b[1m7s\u001b[0m 4ms/step - accuracy: 0.8574 - auc: 0.9203 - loss: 0.3664 - recall: 0.9039 - val_accuracy: 0.8244 - val_auc: 0.8974 - val_loss: 0.3673 - val_recall: 0.8064\n",
      "Epoch 11/20\n",
      "\u001b[1m1975/1975\u001b[0m \u001b[32m━━━━━━━━━━━━━━━━━━━━\u001b[0m\u001b[37m\u001b[0m \u001b[1m6s\u001b[0m 3ms/step - accuracy: 0.8579 - auc: 0.9216 - loss: 0.3637 - recall: 0.9055 - val_accuracy: 0.8121 - val_auc: 0.8989 - val_loss: 0.3830 - val_recall: 0.8353\n",
      "Epoch 12/20\n",
      "\u001b[1m1975/1975\u001b[0m \u001b[32m━━━━━━━━━━━━━━━━━━━━\u001b[0m\u001b[37m\u001b[0m \u001b[1m6s\u001b[0m 3ms/step - accuracy: 0.8612 - auc: 0.9242 - loss: 0.3585 - recall: 0.9072 - val_accuracy: 0.8392 - val_auc: 0.8988 - val_loss: 0.3523 - val_recall: 0.7824\n",
      "Epoch 13/20\n",
      "\u001b[1m1975/1975\u001b[0m \u001b[32m━━━━━━━━━━━━━━━━━━━━\u001b[0m\u001b[37m\u001b[0m \u001b[1m5s\u001b[0m 3ms/step - accuracy: 0.8605 - auc: 0.9227 - loss: 0.3621 - recall: 0.9038 - val_accuracy: 0.8293 - val_auc: 0.8986 - val_loss: 0.3577 - val_recall: 0.8104\n",
      "Epoch 14/20\n",
      "\u001b[1m1975/1975\u001b[0m \u001b[32m━━━━━━━━━━━━━━━━━━━━\u001b[0m\u001b[37m\u001b[0m \u001b[1m6s\u001b[0m 3ms/step - accuracy: 0.8583 - auc: 0.9225 - loss: 0.3634 - recall: 0.9057 - val_accuracy: 0.8308 - val_auc: 0.8996 - val_loss: 0.3632 - val_recall: 0.8074\n",
      "Epoch 15/20\n",
      "\u001b[1m1975/1975\u001b[0m \u001b[32m━━━━━━━━━━━━━━━━━━━━\u001b[0m\u001b[37m\u001b[0m \u001b[1m6s\u001b[0m 3ms/step - accuracy: 0.8580 - auc: 0.9238 - loss: 0.3608 - recall: 0.9014 - val_accuracy: 0.8383 - val_auc: 0.9012 - val_loss: 0.3571 - val_recall: 0.7994\n",
      "Epoch 16/20\n",
      "\u001b[1m1975/1975\u001b[0m \u001b[32m━━━━━━━━━━━━━━━━━━━━\u001b[0m\u001b[37m\u001b[0m \u001b[1m7s\u001b[0m 3ms/step - accuracy: 0.8639 - auc: 0.9262 - loss: 0.3529 - recall: 0.9062 - val_accuracy: 0.8380 - val_auc: 0.8994 - val_loss: 0.3624 - val_recall: 0.7974\n",
      "Epoch 17/20\n",
      "\u001b[1m1975/1975\u001b[0m \u001b[32m━━━━━━━━━━━━━━━━━━━━\u001b[0m\u001b[37m\u001b[0m \u001b[1m6s\u001b[0m 3ms/step - accuracy: 0.8612 - auc: 0.9248 - loss: 0.3569 - recall: 0.9015 - val_accuracy: 0.8473 - val_auc: 0.8978 - val_loss: 0.3439 - val_recall: 0.7754\n",
      "Epoch 18/20\n",
      "\u001b[1m1975/1975\u001b[0m \u001b[32m━━━━━━━━━━━━━━━━━━━━\u001b[0m\u001b[37m\u001b[0m \u001b[1m6s\u001b[0m 3ms/step - accuracy: 0.8640 - auc: 0.9257 - loss: 0.3556 - recall: 0.9049 - val_accuracy: 0.8242 - val_auc: 0.9005 - val_loss: 0.3852 - val_recall: 0.8283\n",
      "Epoch 19/20\n",
      "\u001b[1m1975/1975\u001b[0m \u001b[32m━━━━━━━━━━━━━━━━━━━━\u001b[0m\u001b[37m\u001b[0m \u001b[1m11s\u001b[0m 3ms/step - accuracy: 0.8653 - auc: 0.9261 - loss: 0.3535 - recall: 0.9066 - val_accuracy: 0.8346 - val_auc: 0.8999 - val_loss: 0.3603 - val_recall: 0.8074\n",
      "Epoch 20/20\n",
      "\u001b[1m1975/1975\u001b[0m \u001b[32m━━━━━━━━━━━━━━━━━━━━\u001b[0m\u001b[37m\u001b[0m \u001b[1m5s\u001b[0m 3ms/step - accuracy: 0.8645 - auc: 0.9268 - loss: 0.3518 - recall: 0.9056 - val_accuracy: 0.8338 - val_auc: 0.9021 - val_loss: 0.3656 - val_recall: 0.8124\n",
      "\u001b[1m279/279\u001b[0m \u001b[32m━━━━━━━━━━━━━━━━━━━━\u001b[0m\u001b[37m\u001b[0m \u001b[1m1s\u001b[0m 2ms/step\n",
      "Test F1 Score: 0.5239781139362729\n",
      "Test Metrics: {'loss': 0.36556994915008545, 'compile_metrics': 0.9021302461624146}\n",
      "Optimal Hyperparameters: {'num_layers': 4, 'units_0': 32, 'l1_reg_0': 3.5230379419634096e-06, 'dropout_0': 0.2, 'learning_rate': 0.0018771260457008797, 'units_1': 64, 'l1_reg_1': 9.649856529892484e-06, 'dropout_1': 0.30000000000000004, 'units_2': 80, 'l1_reg_2': 1.2948654826718262e-05, 'dropout_2': 0.2, 'units_3': 48, 'l1_reg_3': 0.0015191949283287782, 'dropout_3': 0.5, 'units_4': 128, 'l1_reg_4': 0.00013898215260972524, 'dropout_4': 0.2}\n"
     ]
    }
   ],
   "source": [
    "import pandas as pd\n",
    "import keras_tuner as kt\n",
    "from tensorflow.keras.models import Sequential\n",
    "from tensorflow.keras.layers import Dense, Dropout\n",
    "from sklearn.model_selection import train_test_split\n",
    "from imblearn.over_sampling import SMOTE\n",
    "from tensorflow.keras.regularizers import l1\n",
    "from tensorflow.keras.optimizers import Adam\n",
    "from sklearn.metrics import f1_score\n",
    "import tensorflow as tf\n",
    "\n",
    "df = pd.read_csv('dataset1.csv')\n",
    "X = df.drop(columns=['y'])\n",
    "y = df['y']\n",
    "\n",
    "X_train, X_test, y_train, y_test = train_test_split(X, y, test_size=0.2, random_state=54, stratify=y)\n",
    "smote = SMOTE(random_state=54)\n",
    "X_train, y_train = smote.fit_resample(X_train, y_train)\n",
    "\n",
    "X_train = X_train.to_numpy()\n",
    "X_test = X_test.to_numpy()\n",
    "y_train = y_train.to_numpy()\n",
    "y_test = y_test.to_numpy()\n",
    "\n",
    "# model definition for Keras Tuner\n",
    "def build_model(hp):\n",
    "    model = Sequential()\n",
    "    \n",
    "    # Tune number of layers and neurons\n",
    "    for i in range(hp.Int('num_layers', 1, 5)):\n",
    "        model.add(Dense(\n",
    "            units=hp.Int(f'units_{i}', min_value=16, max_value=128, step=16),\n",
    "            activation='relu',\n",
    "            kernel_regularizer=l1(hp.Float(f'l1_reg_{i}', 1e-6, 1e-2, sampling='log')),\n",
    "        ))\n",
    "        model.add(Dropout(hp.Float(f'dropout_{i}', 0.1, 0.5, step=0.1)))\n",
    "    \n",
    "    model.add(Dense(1, activation='sigmoid'))\n",
    "    \n",
    "    # Tune learning rate\n",
    "    model.compile(\n",
    "        optimizer=Adam(learning_rate=hp.Float('learning_rate', 1e-5, 1e-2, sampling='log')),\n",
    "        loss='binary_crossentropy',\n",
    "        metrics=[tf.keras.metrics.AUC(name='auc'), 'accuracy', tf.keras.metrics.Recall(name='recall')]\n",
    "    )\n",
    "    return model\n",
    "\n",
    "class F1ScoreCallback(tf.keras.callbacks.Callback):\n",
    "    def __init__(self, validation_data):\n",
    "        super().__init__()\n",
    "        self.validation_data = validation_data\n",
    "\n",
    "    def on_epoch_end(self, epoch, logs=None):\n",
    "        X_val, y_val = self.validation_data\n",
    "        y_pred = (self.model.predict(X_val) > 0.5).astype(int)\n",
    "        val_f1 = f1_score(y_val, y_pred)\n",
    "        logs['val_f1_score'] = val_f1  # Add F1 score to logs\n",
    "        print(f\"Epoch {epoch + 1} - val_f1_score: {val_f1:.4f}\")\n",
    "\n",
    "\n",
    "# Initialize Keras Tuner\n",
    "tuner = kt.RandomSearch(\n",
    "    build_model,\n",
    "    objective=kt.Objective('val_f1_score', direction='max'),\n",
    "    max_trials=20,\n",
    "    executions_per_trial=1,\n",
    "    directory='tuner_output',\n",
    "    project_name='hyperparameter_tuning'\n",
    ")\n",
    "\n",
    "# Tuner search with the custom F1ScoreCallback\n",
    "tuner.search(\n",
    "    X_train,\n",
    "    y_train,\n",
    "    epochs=20,\n",
    "    validation_data=(X_test, y_test),\n",
    "    callbacks=[F1ScoreCallback(validation_data=(X_test, y_test))]\n",
    ")\n",
    "\n",
    "best_hp = tuner.get_best_hyperparameters(num_trials=1)[0]\n",
    "\n",
    "# Build and train the best model\n",
    "best_model = tuner.hypermodel.build(best_hp)\n",
    "history = best_model.fit(X_train, y_train, epochs=20, validation_data=(X_test, y_test))\n",
    "\n",
    "# Evaluating the best model\n",
    "y_pred = (best_model.predict(X_test) > 0.5).astype(int)\n",
    "test_f1 = f1_score(y_test, y_pred)\n",
    "test_metrics = best_model.evaluate(X_test, y_test, verbose=0)\n",
    "\n",
    "print(f\"Test F1 Score: {test_f1}\")\n",
    "print(f\"Test Metrics: {dict(zip(best_model.metrics_names, test_metrics))}\")\n",
    "print(f\"Optimal Hyperparameters: {best_hp.values}\")\n"
   ]
  },
  {
   "cell_type": "code",
   "execution_count": null,
   "id": "e482dd5e-3a50-427e-afd4-406defe5734d",
   "metadata": {},
   "outputs": [],
   "source": []
  },
  {
   "cell_type": "markdown",
   "id": "02049a8a-eae9-4bea-b335-92bfa1af5a25",
   "metadata": {},
   "source": [
    "##### After hyperparameter tunning (ANN Model - 4)"
   ]
  },
  {
   "cell_type": "code",
   "execution_count": 2,
   "id": "ae20c7b2-f081-4fc2-8c67-4144274301e7",
   "metadata": {
    "scrolled": true
   },
   "outputs": [
    {
     "name": "stdout",
     "output_type": "stream",
     "text": [
      "Epoch 1/20\n",
      "\u001b[1m1975/1975\u001b[0m \u001b[32m━━━━━━━━━━━━━━━━━━━━\u001b[0m\u001b[37m\u001b[0m \u001b[1m13s\u001b[0m 4ms/step - accuracy: 0.7266 - loss: 0.7418 - recall_1: 0.7134 - val_accuracy: 0.8185 - val_loss: 0.4430 - val_recall_1: 0.8034\n",
      "Epoch 2/20\n",
      "\u001b[1m1975/1975\u001b[0m \u001b[32m━━━━━━━━━━━━━━━━━━━━\u001b[0m\u001b[37m\u001b[0m \u001b[1m7s\u001b[0m 3ms/step - accuracy: 0.8390 - loss: 0.4602 - recall_1: 0.8808 - val_accuracy: 0.8249 - val_loss: 0.4074 - val_recall_1: 0.7874\n",
      "Epoch 3/20\n",
      "\u001b[1m1975/1975\u001b[0m \u001b[32m━━━━━━━━━━━━━━━━━━━━\u001b[0m\u001b[37m\u001b[0m \u001b[1m6s\u001b[0m 3ms/step - accuracy: 0.8406 - loss: 0.4367 - recall_1: 0.8843 - val_accuracy: 0.8390 - val_loss: 0.3847 - val_recall_1: 0.7695\n",
      "Epoch 4/20\n",
      "\u001b[1m1975/1975\u001b[0m \u001b[32m━━━━━━━━━━━━━━━━━━━━\u001b[0m\u001b[37m\u001b[0m \u001b[1m7s\u001b[0m 4ms/step - accuracy: 0.8447 - loss: 0.4274 - recall_1: 0.8879 - val_accuracy: 0.8263 - val_loss: 0.3943 - val_recall_1: 0.7884\n",
      "Epoch 5/20\n",
      "\u001b[1m1975/1975\u001b[0m \u001b[32m━━━━━━━━━━━━━━━━━━━━\u001b[0m\u001b[37m\u001b[0m \u001b[1m6s\u001b[0m 3ms/step - accuracy: 0.8443 - loss: 0.4225 - recall_1: 0.8852 - val_accuracy: 0.8158 - val_loss: 0.4068 - val_recall_1: 0.8293\n",
      "Epoch 6/20\n",
      "\u001b[1m1975/1975\u001b[0m \u001b[32m━━━━━━━━━━━━━━━━━━━━\u001b[0m\u001b[37m\u001b[0m \u001b[1m7s\u001b[0m 4ms/step - accuracy: 0.8452 - loss: 0.4202 - recall_1: 0.8918 - val_accuracy: 0.8146 - val_loss: 0.4006 - val_recall_1: 0.8224\n",
      "Epoch 7/20\n",
      "\u001b[1m1975/1975\u001b[0m \u001b[32m━━━━━━━━━━━━━━━━━━━━\u001b[0m\u001b[37m\u001b[0m \u001b[1m6s\u001b[0m 3ms/step - accuracy: 0.8444 - loss: 0.4182 - recall_1: 0.8883 - val_accuracy: 0.8216 - val_loss: 0.4032 - val_recall_1: 0.8234\n",
      "Epoch 8/20\n",
      "\u001b[1m1975/1975\u001b[0m \u001b[32m━━━━━━━━━━━━━━━━━━━━\u001b[0m\u001b[37m\u001b[0m \u001b[1m7s\u001b[0m 3ms/step - accuracy: 0.8474 - loss: 0.4161 - recall_1: 0.8925 - val_accuracy: 0.8233 - val_loss: 0.4016 - val_recall_1: 0.8044\n",
      "Epoch 9/20\n",
      "\u001b[1m1975/1975\u001b[0m \u001b[32m━━━━━━━━━━━━━━━━━━━━\u001b[0m\u001b[37m\u001b[0m \u001b[1m8s\u001b[0m 4ms/step - accuracy: 0.8445 - loss: 0.4159 - recall_1: 0.8861 - val_accuracy: 0.8212 - val_loss: 0.3990 - val_recall_1: 0.8114\n",
      "Epoch 10/20\n",
      "\u001b[1m1975/1975\u001b[0m \u001b[32m━━━━━━━━━━━━━━━━━━━━\u001b[0m\u001b[37m\u001b[0m \u001b[1m7s\u001b[0m 3ms/step - accuracy: 0.8461 - loss: 0.4111 - recall_1: 0.8896 - val_accuracy: 0.8290 - val_loss: 0.3931 - val_recall_1: 0.8044\n",
      "Epoch 11/20\n",
      "\u001b[1m1975/1975\u001b[0m \u001b[32m━━━━━━━━━━━━━━━━━━━━\u001b[0m\u001b[37m\u001b[0m \u001b[1m7s\u001b[0m 4ms/step - accuracy: 0.8468 - loss: 0.4120 - recall_1: 0.8888 - val_accuracy: 0.8334 - val_loss: 0.3887 - val_recall_1: 0.7934\n",
      "Epoch 12/20\n",
      "\u001b[1m1975/1975\u001b[0m \u001b[32m━━━━━━━━━━━━━━━━━━━━\u001b[0m\u001b[37m\u001b[0m \u001b[1m7s\u001b[0m 3ms/step - accuracy: 0.8465 - loss: 0.4117 - recall_1: 0.8886 - val_accuracy: 0.8246 - val_loss: 0.4066 - val_recall_1: 0.8124\n",
      "Epoch 13/20\n",
      "\u001b[1m1975/1975\u001b[0m \u001b[32m━━━━━━━━━━━━━━━━━━━━\u001b[0m\u001b[37m\u001b[0m \u001b[1m7s\u001b[0m 3ms/step - accuracy: 0.8487 - loss: 0.4104 - recall_1: 0.8875 - val_accuracy: 0.8171 - val_loss: 0.4136 - val_recall_1: 0.8303\n",
      "Epoch 14/20\n",
      "\u001b[1m1975/1975\u001b[0m \u001b[32m━━━━━━━━━━━━━━━━━━━━\u001b[0m\u001b[37m\u001b[0m \u001b[1m8s\u001b[0m 4ms/step - accuracy: 0.8488 - loss: 0.4080 - recall_1: 0.8923 - val_accuracy: 0.8329 - val_loss: 0.3865 - val_recall_1: 0.7964\n",
      "Epoch 15/20\n",
      "\u001b[1m1975/1975\u001b[0m \u001b[32m━━━━━━━━━━━━━━━━━━━━\u001b[0m\u001b[37m\u001b[0m \u001b[1m7s\u001b[0m 4ms/step - accuracy: 0.8484 - loss: 0.4107 - recall_1: 0.8881 - val_accuracy: 0.8334 - val_loss: 0.3771 - val_recall_1: 0.7994\n",
      "Epoch 16/20\n",
      "\u001b[1m1975/1975\u001b[0m \u001b[32m━━━━━━━━━━━━━━━━━━━━\u001b[0m\u001b[37m\u001b[0m \u001b[1m7s\u001b[0m 4ms/step - accuracy: 0.8497 - loss: 0.4079 - recall_1: 0.8914 - val_accuracy: 0.8256 - val_loss: 0.3956 - val_recall_1: 0.8034\n",
      "Epoch 17/20\n",
      "\u001b[1m1975/1975\u001b[0m \u001b[32m━━━━━━━━━━━━━━━━━━━━\u001b[0m\u001b[37m\u001b[0m \u001b[1m7s\u001b[0m 4ms/step - accuracy: 0.8499 - loss: 0.4073 - recall_1: 0.8903 - val_accuracy: 0.8354 - val_loss: 0.3893 - val_recall_1: 0.8084\n",
      "Epoch 18/20\n",
      "\u001b[1m1975/1975\u001b[0m \u001b[32m━━━━━━━━━━━━━━━━━━━━\u001b[0m\u001b[37m\u001b[0m \u001b[1m7s\u001b[0m 4ms/step - accuracy: 0.8489 - loss: 0.4065 - recall_1: 0.8855 - val_accuracy: 0.8328 - val_loss: 0.3872 - val_recall_1: 0.7924\n",
      "Epoch 19/20\n",
      "\u001b[1m1975/1975\u001b[0m \u001b[32m━━━━━━━━━━━━━━━━━━━━\u001b[0m\u001b[37m\u001b[0m \u001b[1m8s\u001b[0m 4ms/step - accuracy: 0.8488 - loss: 0.4092 - recall_1: 0.8850 - val_accuracy: 0.8369 - val_loss: 0.3752 - val_recall_1: 0.7914\n",
      "Epoch 20/20\n",
      "\u001b[1m1975/1975\u001b[0m \u001b[32m━━━━━━━━━━━━━━━━━━━━\u001b[0m\u001b[37m\u001b[0m \u001b[1m8s\u001b[0m 4ms/step - accuracy: 0.8471 - loss: 0.4059 - recall_1: 0.8869 - val_accuracy: 0.8191 - val_loss: 0.3984 - val_recall_1: 0.8224\n",
      "\u001b[1m279/279\u001b[0m \u001b[32m━━━━━━━━━━━━━━━━━━━━\u001b[0m\u001b[37m\u001b[0m \u001b[1m1s\u001b[0m 3ms/step - accuracy: 0.8231 - loss: 0.3921 - recall_1: 0.8193\n",
      "Validation Loss: 0.39843347668647766, Validation Accuracy: 0.819101095199585, Validation Recall: 0.8223552703857422\n"
     ]
    }
   ],
   "source": [
    "import tensorflow as tf\n",
    "from tensorflow.keras.layers import Input, Dropout, Dense\n",
    "from tensorflow.keras.regularizers import l1\n",
    "from tensorflow.keras.models import Sequential\n",
    "from tensorflow.keras.optimizers import Adam\n",
    "from sklearn.model_selection import train_test_split\n",
    "from imblearn.over_sampling import SMOTE\n",
    "import pandas as pd\n",
    "from tensorflow.keras.metrics import Recall\n",
    "\n",
    "df = pd.read_csv('dataset1.csv')\n",
    "X = df.drop(columns=['y'])\n",
    "y = df['y']\n",
    "\n",
    "X_train, X_test, y_train, y_test = train_test_split(\n",
    "    X, y, test_size=0.2, random_state=54, stratify=y\n",
    ")\n",
    "\n",
    "smote = SMOTE(random_state=54)\n",
    "X_train, y_train = smote.fit_resample(X_train, y_train)\n",
    "\n",
    "X_train = X_train.to_numpy()\n",
    "X_test = X_test.to_numpy()\n",
    "y_train = y_train.to_numpy()\n",
    "y_test = y_test.to_numpy()\n",
    "\n",
    "# Optimal hyperparameters\n",
    "optimal_params = {\n",
    "    'num_layers': 4,\n",
    "    'units_0': 96,\n",
    "    'l1_reg_0': 0.0003508791653882779,\n",
    "    'dropout_0': 0.5,\n",
    "    'learning_rate': 0.0008854322452566148,\n",
    "    'units_1': 48,\n",
    "    'l1_reg_1': 2.3881377401899324e-05,\n",
    "    'dropout_1': 0.3,\n",
    "    'units_2': 48,\n",
    "    'l1_reg_2': 8.711638700132924e-05,\n",
    "    'dropout_2': 0.1,\n",
    "    'units_3': 96,\n",
    "    'l1_reg_3': 9.614970823920257e-06,\n",
    "    'dropout_3': 0.1,\n",
    "    'units_4': 48,\n",
    "    'l1_reg_4': 0.0008184986648518178,\n",
    "    'dropout_4': 0.5\n",
    "}\n",
    "\n",
    "# Build the model using the optimal hyperparameters\n",
    "ANN = Sequential([\n",
    "    Input(shape=(X_train.shape[1],)),\n",
    "    Dense(optimal_params['units_0'], activation='relu', kernel_regularizer=l1(optimal_params['l1_reg_0'])),\n",
    "    Dropout(optimal_params['dropout_0']),\n",
    "    Dense(optimal_params['units_1'], activation='relu', kernel_regularizer=l1(optimal_params['l1_reg_1'])),\n",
    "    Dropout(optimal_params['dropout_1']),\n",
    "    Dense(optimal_params['units_2'], activation='relu', kernel_regularizer=l1(optimal_params['l1_reg_2'])),\n",
    "    Dropout(optimal_params['dropout_2']),\n",
    "    Dense(optimal_params['units_3'], activation='relu', kernel_regularizer=l1(optimal_params['l1_reg_3'])),\n",
    "    Dropout(optimal_params['dropout_3']),\n",
    "    Dense(optimal_params['units_4'], activation='relu', kernel_regularizer=l1(optimal_params['l1_reg_4'])),\n",
    "    Dropout(optimal_params['dropout_4']),\n",
    "    Dense(1, activation='sigmoid')  \n",
    "])\n",
    "\n",
    "# Compile the model\n",
    "ANN.compile(optimizer=Adam(learning_rate=optimal_params['learning_rate']),\n",
    "            loss='binary_crossentropy',\n",
    "            metrics=['accuracy', Recall()])\n",
    "\n",
    "# Train the model\n",
    "history = ANN.fit(\n",
    "    X_train, y_train,\n",
    "    validation_data=(X_test, y_test),\n",
    "    epochs=20,\n",
    "    batch_size=32,\n",
    "    verbose=1\n",
    ")\n",
    "\n",
    "# Evaluate the model\n",
    "loss, accuracy, recall = ANN.evaluate(X_test, y_test)\n",
    "print(f\"Validation Loss: {loss}, Validation Accuracy: {accuracy}, Validation Recall: {recall}\")\n"
   ]
  },
  {
   "cell_type": "code",
   "execution_count": 3,
   "id": "4d0d85d3-4d96-4713-892e-88166db9a4c6",
   "metadata": {},
   "outputs": [
    {
     "name": "stdout",
     "output_type": "stream",
     "text": [
      "\u001b[1m279/279\u001b[0m \u001b[32m━━━━━━━━━━━━━━━━━━━━\u001b[0m\u001b[37m\u001b[0m \u001b[1m1s\u001b[0m 2ms/step\n",
      "              precision    recall  f1-score   support\n",
      "\n",
      "           0       0.97      0.82      0.89      7898\n",
      "           1       0.37      0.82      0.51      1002\n",
      "\n",
      "    accuracy                           0.82      8900\n",
      "   macro avg       0.67      0.82      0.70      8900\n",
      "weighted avg       0.90      0.82      0.85      8900\n",
      "\n"
     ]
    }
   ],
   "source": [
    "from sklearn.metrics import classification_report\n",
    "\n",
    "y_pred = (ANN.predict(X_test) > 0.5).astype(\"int32\")  \n",
    "\n",
    "print(classification_report(y_test, y_pred))"
   ]
  },
  {
   "cell_type": "code",
   "execution_count": null,
   "id": "7a10af29-f319-47dd-84da-7d2e77bd52db",
   "metadata": {},
   "outputs": [],
   "source": []
  },
  {
   "cell_type": "markdown",
   "id": "7a6ec29b-6e9f-4c2c-9afe-3293cc70294d",
   "metadata": {},
   "source": [
    "##### Model evaluation"
   ]
  },
  {
   "cell_type": "code",
   "execution_count": 13,
   "id": "c5cab9e9-6d9e-4e91-83e8-3bf9db45beef",
   "metadata": {},
   "outputs": [
    {
     "name": "stdout",
     "output_type": "stream",
     "text": [
      "\u001b[1m1975/1975\u001b[0m \u001b[32m━━━━━━━━━━━━━━━━━━━━\u001b[0m\u001b[37m\u001b[0m \u001b[1m3s\u001b[0m 2ms/step\n",
      "\u001b[1m279/279\u001b[0m \u001b[32m━━━━━━━━━━━━━━━━━━━━\u001b[0m\u001b[37m\u001b[0m \u001b[1m0s\u001b[0m 2ms/step\n",
      "Training Recall: 0.9014\n",
      "Test Recall: 0.8224\n"
     ]
    }
   ],
   "source": [
    "train_test_recall(ANN, X_train, y_train, X_test, y_test)"
   ]
  },
  {
   "cell_type": "code",
   "execution_count": 14,
   "id": "f13a991d-c332-410e-ad5d-6e6f18b70c88",
   "metadata": {},
   "outputs": [
    {
     "name": "stdout",
     "output_type": "stream",
     "text": [
      "Stratified CV Accuracy for each fold: [0.8249438405036926, 0.8620224595069885, 0.8225842714309692, 0.8238004446029663, 0.8224519491195679]\n",
      "Mean Stratified CV Overall Accuracy: 0.831160593032837\n"
     ]
    },
    {
     "data": {
      "text/plain": [
       "np.float64(0.831160593032837)"
      ]
     },
     "execution_count": 14,
     "metadata": {},
     "output_type": "execute_result"
    }
   ],
   "source": [
    "SKF_CV_accuracy(ANN, X, y, epochs=20, batch_size=32)"
   ]
  },
  {
   "cell_type": "code",
   "execution_count": 15,
   "id": "d5c96cf9-bb68-4aac-8f26-b83882e63974",
   "metadata": {},
   "outputs": [
    {
     "name": "stdout",
     "output_type": "stream",
     "text": [
      "\u001b[1m279/279\u001b[0m \u001b[32m━━━━━━━━━━━━━━━━━━━━\u001b[0m\u001b[37m\u001b[0m \u001b[1m1s\u001b[0m 2ms/step\n",
      "\u001b[1m279/279\u001b[0m \u001b[32m━━━━━━━━━━━━━━━━━━━━\u001b[0m\u001b[37m\u001b[0m \u001b[1m1s\u001b[0m 2ms/step\n",
      "\u001b[1m279/279\u001b[0m \u001b[32m━━━━━━━━━━━━━━━━━━━━\u001b[0m\u001b[37m\u001b[0m \u001b[1m1s\u001b[0m 2ms/step\n",
      "\u001b[1m279/279\u001b[0m \u001b[32m━━━━━━━━━━━━━━━━━━━━\u001b[0m\u001b[37m\u001b[0m \u001b[1m1s\u001b[0m 2ms/step\n",
      "\u001b[1m279/279\u001b[0m \u001b[32m━━━━━━━━━━━━━━━━━━━━\u001b[0m\u001b[37m\u001b[0m \u001b[1m1s\u001b[0m 2ms/step\n",
      "Class '1' Recall for each fold: [np.float64(0.7944111776447106), np.float64(0.7924151696606786), np.float64(0.8255234297108675), np.float64(0.8403193612774451), np.float64(0.8193612774451098)]\n",
      "Mean Class '1' Recall across all folds: 0.8144060831477624\n"
     ]
    },
    {
     "data": {
      "text/plain": [
       "np.float64(0.8144060831477624)"
      ]
     },
     "execution_count": 15,
     "metadata": {},
     "output_type": "execute_result"
    }
   ],
   "source": [
    "CV_class1_recall(ANN, X, y, epochs=20, batch_size=32)"
   ]
  },
  {
   "cell_type": "code",
   "execution_count": 16,
   "id": "a6daa00e-3ff7-4eaa-a82f-15471b8c016e",
   "metadata": {},
   "outputs": [
    {
     "name": "stdout",
     "output_type": "stream",
     "text": [
      "\u001b[1m279/279\u001b[0m \u001b[32m━━━━━━━━━━━━━━━━━━━━\u001b[0m\u001b[37m\u001b[0m \u001b[1m1s\u001b[0m 2ms/step\n",
      "\u001b[1m279/279\u001b[0m \u001b[32m━━━━━━━━━━━━━━━━━━━━\u001b[0m\u001b[37m\u001b[0m \u001b[1m1s\u001b[0m 2ms/step\n",
      "\u001b[1m279/279\u001b[0m \u001b[32m━━━━━━━━━━━━━━━━━━━━\u001b[0m\u001b[37m\u001b[0m \u001b[1m1s\u001b[0m 2ms/step\n",
      "\u001b[1m279/279\u001b[0m \u001b[32m━━━━━━━━━━━━━━━━━━━━\u001b[0m\u001b[37m\u001b[0m \u001b[1m1s\u001b[0m 2ms/step\n",
      "\u001b[1m279/279\u001b[0m \u001b[32m━━━━━━━━━━━━━━━━━━━━\u001b[0m\u001b[37m\u001b[0m \u001b[1m1s\u001b[0m 2ms/step\n",
      "Class '0' Recall for each fold: [np.float64(0.8223600911623196), np.float64(0.8324892377817169), np.float64(0.7890338103077118), np.float64(0.8258832468025833), np.float64(0.8252500949727745)]\n",
      "Mean Class '0' Recall across all folds: 0.8190032962054212\n"
     ]
    },
    {
     "data": {
      "text/plain": [
       "np.float64(0.8190032962054212)"
      ]
     },
     "execution_count": 16,
     "metadata": {},
     "output_type": "execute_result"
    }
   ],
   "source": [
    "CV_class0_recall(ANN, X, y, epochs=20, batch_size=32)"
   ]
  },
  {
   "cell_type": "code",
   "execution_count": 17,
   "id": "98439895-7cb0-4068-82fb-06c781ee59fe",
   "metadata": {},
   "outputs": [
    {
     "name": "stdout",
     "output_type": "stream",
     "text": [
      "\u001b[1m279/279\u001b[0m \u001b[32m━━━━━━━━━━━━━━━━━━━━\u001b[0m\u001b[37m\u001b[0m \u001b[1m1s\u001b[0m 2ms/step\n",
      "\u001b[1m279/279\u001b[0m \u001b[32m━━━━━━━━━━━━━━━━━━━━\u001b[0m\u001b[37m\u001b[0m \u001b[1m1s\u001b[0m 2ms/step\n",
      "\u001b[1m279/279\u001b[0m \u001b[32m━━━━━━━━━━━━━━━━━━━━\u001b[0m\u001b[37m\u001b[0m \u001b[1m1s\u001b[0m 2ms/step\n",
      "\u001b[1m279/279\u001b[0m \u001b[32m━━━━━━━━━━━━━━━━━━━━\u001b[0m\u001b[37m\u001b[0m \u001b[1m1s\u001b[0m 2ms/step\n",
      "\u001b[1m279/279\u001b[0m \u001b[32m━━━━━━━━━━━━━━━━━━━━\u001b[0m\u001b[37m\u001b[0m \u001b[1m1s\u001b[0m 2ms/step\n",
      "Overall Recall for each fold: [np.float64(0.8263473053892215), np.float64(0.781437125748503), np.float64(0.8594217347956131), np.float64(0.8403193612774451), np.float64(0.8143712574850299)]\n",
      "Mean Overall Recall across all folds: 0.8243793569391625\n"
     ]
    },
    {
     "data": {
      "text/plain": [
       "np.float64(0.8243793569391625)"
      ]
     },
     "execution_count": 17,
     "metadata": {},
     "output_type": "execute_result"
    }
   ],
   "source": [
    "CV_recall(ANN, X, y, epochs=20, batch_size=32)"
   ]
  },
  {
   "cell_type": "code",
   "execution_count": 18,
   "id": "d9bdf912-2aa5-4768-a3c4-0daf6337fdad",
   "metadata": {},
   "outputs": [
    {
     "name": "stdout",
     "output_type": "stream",
     "text": [
      "\u001b[1m279/279\u001b[0m \u001b[32m━━━━━━━━━━━━━━━━━━━━\u001b[0m\u001b[37m\u001b[0m \u001b[1m0s\u001b[0m 2ms/step\n",
      "[[6466 1432]\n",
      " [ 178  824]]\n"
     ]
    },
    {
     "data": {
      "image/png": "[encoded data removed]",
      "text/plain": [
       "<Figure size 300x300 with 2 Axes>"
      ]
     },
     "metadata": {},
     "output_type": "display_data"
    }
   ],
   "source": [
    "plot_confusion_matrix(ANN, X_test, y_test, class_names=[0,1])"
   ]
  },
  {
   "cell_type": "code",
   "execution_count": 21,
   "id": "40e5937a-2031-447f-9354-189ed4a392e4",
   "metadata": {},
   "outputs": [
    {
     "name": "stdout",
     "output_type": "stream",
     "text": [
      "ROC-AUC: 0.82\n"
     ]
    },
    {
     "data": {
      "image/png": "[encoded data removed]",
      "text/plain": [
       "<Figure size 640x480 with 1 Axes>"
      ]
     },
     "metadata": {},
     "output_type": "display_data"
    }
   ],
   "source": [
    "ROC_AUC_plot(y_test, y_pred)"
   ]
  },
  {
   "cell_type": "code",
   "execution_count": 19,
   "id": "8b8c509c-8425-4707-80ba-0e4cf1b05bc3",
   "metadata": {},
   "outputs": [
    {
     "name": "stdout",
     "output_type": "stream",
     "text": [
      "dict_keys(['accuracy', 'loss', 'recall_1', 'val_accuracy', 'val_loss', 'val_recall_1'])\n"
     ]
    }
   ],
   "source": [
    "print(history.history.keys())"
   ]
  },
  {
   "cell_type": "code",
   "execution_count": 20,
   "id": "1b41586a-0986-47aa-8ac0-ddc66a7f9a7c",
   "metadata": {},
   "outputs": [
    {
     "data": {
      "image/png": "[encoded data removed]",
      "text/plain": [
       "<Figure size 600x300 with 1 Axes>"
      ]
     },
     "metadata": {},
     "output_type": "display_data"
    },
    {
     "data": {
      "image/png": "[encoded data removed]",
      "text/plain": [
       "<Figure size 600x300 with 1 Axes>"
      ]
     },
     "metadata": {},
     "output_type": "display_data"
    }
   ],
   "source": [
    "learning_curve(history, 'recall_1', 'val_recall_1')"
   ]
  },
  {
   "cell_type": "markdown",
   "id": "349a89d1-6367-4b0f-91d9-960270c6d0ab",
   "metadata": {},
   "source": [
    "### Further improvements to mitigate overfitting (ANN Model - 5)"
   ]
  },
  {
   "cell_type": "markdown",
   "id": "fcb1f5a3-1062-4f3c-b3bb-dc1990186a5e",
   "metadata": {},
   "source": [
    "* Removing layers\n",
    "* Use Learning Rate Schedulers\n",
    "* Dropout rate increasing\n",
    "* Batch normalization"
   ]
  },
  {
   "cell_type": "code",
   "execution_count": 41,
   "id": "38ca5f82-0255-4b21-a34e-93beaf2f3fe1",
   "metadata": {},
   "outputs": [
    {
     "name": "stdout",
     "output_type": "stream",
     "text": [
      "Epoch 1/20\n",
      "\u001b[1m1975/1975\u001b[0m \u001b[32m━━━━━━━━━━━━━━━━━━━━\u001b[0m\u001b[37m\u001b[0m \u001b[1m16s\u001b[0m 4ms/step - accuracy: 0.5558 - loss: 1.5207 - recall_4: 0.5288 - val_accuracy: 0.8264 - val_loss: 0.6975 - val_recall_4: 0.7605 - learning_rate: 8.8543e-04\n",
      "Epoch 2/20\n",
      "\u001b[1m1975/1975\u001b[0m \u001b[32m━━━━━━━━━━━━━━━━━━━━\u001b[0m\u001b[37m\u001b[0m \u001b[1m8s\u001b[0m 4ms/step - accuracy: 0.7797 - loss: 0.7000 - recall_4: 0.7922 - val_accuracy: 0.8170 - val_loss: 0.5118 - val_recall_4: 0.8004 - learning_rate: 8.8543e-04\n",
      "Epoch 3/20\n",
      "\u001b[1m1975/1975\u001b[0m \u001b[32m━━━━━━━━━━━━━━━━━━━━\u001b[0m\u001b[37m\u001b[0m \u001b[1m8s\u001b[0m 3ms/step - accuracy: 0.8139 - loss: 0.5578 - recall_4: 0.8476 - val_accuracy: 0.7992 - val_loss: 0.4827 - val_recall_4: 0.8423 - learning_rate: 8.8543e-04\n",
      "Epoch 4/20\n",
      "\u001b[1m1975/1975\u001b[0m \u001b[32m━━━━━━━━━━━━━━━━━━━━\u001b[0m\u001b[37m\u001b[0m \u001b[1m7s\u001b[0m 4ms/step - accuracy: 0.8183 - loss: 0.5172 - recall_4: 0.8543 - val_accuracy: 0.8028 - val_loss: 0.4739 - val_recall_4: 0.8313 - learning_rate: 8.8543e-04\n",
      "Epoch 5/20\n",
      "\u001b[1m1975/1975\u001b[0m \u001b[32m━━━━━━━━━━━━━━━━━━━━\u001b[0m\u001b[37m\u001b[0m \u001b[1m7s\u001b[0m 3ms/step - accuracy: 0.8218 - loss: 0.5016 - recall_4: 0.8607 - val_accuracy: 0.8031 - val_loss: 0.4428 - val_recall_4: 0.8184 - learning_rate: 8.8543e-04\n",
      "Epoch 6/20\n",
      "\u001b[1m1975/1975\u001b[0m \u001b[32m━━━━━━━━━━━━━━━━━━━━\u001b[0m\u001b[37m\u001b[0m \u001b[1m7s\u001b[0m 4ms/step - accuracy: 0.8210 - loss: 0.4932 - recall_4: 0.8587 - val_accuracy: 0.7990 - val_loss: 0.4501 - val_recall_4: 0.8303 - learning_rate: 8.8543e-04\n",
      "Epoch 7/20\n",
      "\u001b[1m1975/1975\u001b[0m \u001b[32m━━━━━━━━━━━━━━━━━━━━\u001b[0m\u001b[37m\u001b[0m \u001b[1m6s\u001b[0m 3ms/step - accuracy: 0.8205 - loss: 0.4887 - recall_4: 0.8610 - val_accuracy: 0.8027 - val_loss: 0.4461 - val_recall_4: 0.8184 - learning_rate: 8.8543e-04\n",
      "Epoch 8/20\n",
      "\u001b[1m1973/1975\u001b[0m \u001b[32m━━━━━━━━━━━━━━━━━━━\u001b[0m\u001b[37m━\u001b[0m \u001b[1m0s\u001b[0m 3ms/step - accuracy: 0.8218 - loss: 0.4839 - recall_4: 0.8609\n",
      "Epoch 8: ReduceLROnPlateau reducing learning rate to 0.000442716118413955.\n",
      "\u001b[1m1975/1975\u001b[0m \u001b[32m━━━━━━━━━━━━━━━━━━━━\u001b[0m\u001b[37m\u001b[0m \u001b[1m8s\u001b[0m 4ms/step - accuracy: 0.8218 - loss: 0.4839 - recall_4: 0.8609 - val_accuracy: 0.8021 - val_loss: 0.4469 - val_recall_4: 0.8273 - learning_rate: 8.8543e-04\n",
      "Epoch 9/20\n",
      "\u001b[1m1975/1975\u001b[0m \u001b[32m━━━━━━━━━━━━━━━━━━━━\u001b[0m\u001b[37m\u001b[0m \u001b[1m5s\u001b[0m 2ms/step - accuracy: 0.8256 - loss: 0.4691 - recall_4: 0.8696 - val_accuracy: 0.7996 - val_loss: 0.4462 - val_recall_4: 0.8343 - learning_rate: 4.4272e-04\n",
      "Epoch 10/20\n",
      "\u001b[1m1975/1975\u001b[0m \u001b[32m━━━━━━━━━━━━━━━━━━━━\u001b[0m\u001b[37m\u001b[0m \u001b[1m4s\u001b[0m 2ms/step - accuracy: 0.8230 - loss: 0.4593 - recall_4: 0.8661 - val_accuracy: 0.7947 - val_loss: 0.4440 - val_recall_4: 0.8503 - learning_rate: 4.4272e-04\n",
      "Epoch 11/20\n",
      "\u001b[1m1975/1975\u001b[0m \u001b[32m━━━━━━━━━━━━━━━━━━━━\u001b[0m\u001b[37m\u001b[0m \u001b[1m4s\u001b[0m 2ms/step - accuracy: 0.8283 - loss: 0.4555 - recall_4: 0.8724 - val_accuracy: 0.8028 - val_loss: 0.4373 - val_recall_4: 0.8313 - learning_rate: 4.4272e-04\n",
      "Epoch 12/20\n",
      "\u001b[1m1975/1975\u001b[0m \u001b[32m━━━━━━━━━━━━━━━━━━━━\u001b[0m\u001b[37m\u001b[0m \u001b[1m8s\u001b[0m 4ms/step - accuracy: 0.8265 - loss: 0.4524 - recall_4: 0.8657 - val_accuracy: 0.8093 - val_loss: 0.4227 - val_recall_4: 0.8253 - learning_rate: 4.4272e-04\n",
      "Epoch 13/20\n",
      "\u001b[1m1975/1975\u001b[0m \u001b[32m━━━━━━━━━━━━━━━━━━━━\u001b[0m\u001b[37m\u001b[0m \u001b[1m7s\u001b[0m 2ms/step - accuracy: 0.8259 - loss: 0.4522 - recall_4: 0.8672 - val_accuracy: 0.7972 - val_loss: 0.4295 - val_recall_4: 0.8423 - learning_rate: 4.4272e-04\n",
      "Epoch 14/20\n",
      "\u001b[1m1975/1975\u001b[0m \u001b[32m━━━━━━━━━━━━━━━━━━━━\u001b[0m\u001b[37m\u001b[0m \u001b[1m4s\u001b[0m 2ms/step - accuracy: 0.8280 - loss: 0.4516 - recall_4: 0.8700 - val_accuracy: 0.8054 - val_loss: 0.4317 - val_recall_4: 0.8283 - learning_rate: 4.4272e-04\n",
      "Epoch 15/20\n",
      "\u001b[1m1960/1975\u001b[0m \u001b[32m━━━━━━━━━━━━━━━━━━━\u001b[0m\u001b[37m━\u001b[0m \u001b[1m0s\u001b[0m 3ms/step - accuracy: 0.8291 - loss: 0.4521 - recall_4: 0.8731\n",
      "Epoch 15: ReduceLROnPlateau reducing learning rate to 0.0002213580592069775.\n",
      "\u001b[1m1975/1975\u001b[0m \u001b[32m━━━━━━━━━━━━━━━━━━━━\u001b[0m\u001b[37m\u001b[0m \u001b[1m6s\u001b[0m 3ms/step - accuracy: 0.8291 - loss: 0.4521 - recall_4: 0.8731 - val_accuracy: 0.7979 - val_loss: 0.4360 - val_recall_4: 0.8363 - learning_rate: 4.4272e-04\n",
      "Epoch 16/20\n",
      "\u001b[1m1975/1975\u001b[0m \u001b[32m━━━━━━━━━━━━━━━━━━━━\u001b[0m\u001b[37m\u001b[0m \u001b[1m7s\u001b[0m 2ms/step - accuracy: 0.8296 - loss: 0.4435 - recall_4: 0.8740 - val_accuracy: 0.8026 - val_loss: 0.4269 - val_recall_4: 0.8393 - learning_rate: 2.2136e-04\n",
      "Epoch 17/20\n",
      "\u001b[1m1975/1975\u001b[0m \u001b[32m━━━━━━━━━━━━━━━━━━━━\u001b[0m\u001b[37m\u001b[0m \u001b[1m5s\u001b[0m 2ms/step - accuracy: 0.8299 - loss: 0.4391 - recall_4: 0.8708 - val_accuracy: 0.8104 - val_loss: 0.4089 - val_recall_4: 0.8174 - learning_rate: 2.2136e-04\n",
      "Epoch 18/20\n",
      "\u001b[1m1975/1975\u001b[0m \u001b[32m━━━━━━━━━━━━━━━━━━━━\u001b[0m\u001b[37m\u001b[0m \u001b[1m6s\u001b[0m 2ms/step - accuracy: 0.8298 - loss: 0.4369 - recall_4: 0.8709 - val_accuracy: 0.8212 - val_loss: 0.4022 - val_recall_4: 0.7974 - learning_rate: 2.2136e-04\n",
      "Epoch 19/20\n",
      "\u001b[1m1975/1975\u001b[0m \u001b[32m━━━━━━━━━━━━━━━━━━━━\u001b[0m\u001b[37m\u001b[0m \u001b[1m7s\u001b[0m 4ms/step - accuracy: 0.8315 - loss: 0.4334 - recall_4: 0.8715 - val_accuracy: 0.8038 - val_loss: 0.4171 - val_recall_4: 0.8363 - learning_rate: 2.2136e-04\n",
      "Epoch 20/20\n",
      "\u001b[1m1975/1975\u001b[0m \u001b[32m━━━━━━━━━━━━━━━━━━━━\u001b[0m\u001b[37m\u001b[0m \u001b[1m6s\u001b[0m 3ms/step - accuracy: 0.8300 - loss: 0.4350 - recall_4: 0.8709 - val_accuracy: 0.8111 - val_loss: 0.4013 - val_recall_4: 0.8244 - learning_rate: 2.2136e-04\n",
      "\u001b[1m279/279\u001b[0m \u001b[32m━━━━━━━━━━━━━━━━━━━━\u001b[0m\u001b[37m\u001b[0m \u001b[1m0s\u001b[0m 1ms/step - accuracy: 0.8151 - loss: 0.3946 - recall_4: 0.8241\n",
      "Validation Loss: 0.40128564834594727, Validation Accuracy: 0.8111236095428467, Validation Recall: 0.8243513107299805\n"
     ]
    }
   ],
   "source": [
    "import tensorflow as tf\n",
    "from tensorflow.keras.layers import Input, Dropout, Dense\n",
    "from tensorflow.keras.regularizers import l1\n",
    "from tensorflow.keras.models import Sequential\n",
    "from tensorflow.keras.optimizers import Adam\n",
    "from sklearn.model_selection import train_test_split\n",
    "from imblearn.over_sampling import SMOTE\n",
    "import pandas as pd\n",
    "from tensorflow.keras.metrics import Recall\n",
    "from tensorflow.keras.callbacks import ReduceLROnPlateau\n",
    "from tensorflow.keras.layers import BatchNormalization\n",
    "from sklearn.utils.class_weight import compute_class_weight\n",
    "import numpy as np\n",
    "\n",
    "\n",
    "\n",
    "df = pd.read_csv('dataset1.csv')\n",
    "X = df.drop(columns=['y'])\n",
    "y = df['y']\n",
    "\n",
    "X_train, X_test, y_train, y_test = train_test_split(\n",
    "    X, y, test_size=0.2, random_state=54, stratify=y\n",
    ")\n",
    "\n",
    "smote = SMOTE(random_state=54)\n",
    "X_train, y_train = smote.fit_resample(X_train, y_train)\n",
    "\n",
    "X_train = X_train.to_numpy()\n",
    "X_test = X_test.to_numpy()\n",
    "y_train = y_train.to_numpy()\n",
    "y_test = y_test.to_numpy()\n",
    "\n",
    "# Optimal hyperparameters\n",
    "optimal_params = {\n",
    "    'num_layers': 4,\n",
    "    'units_0': 96,\n",
    "    'l1_reg_0': 0.0003508791653882779,\n",
    "    'dropout_0': 0.5,\n",
    "    'learning_rate': 0.0008854322452566148,\n",
    "    'units_1': 48,\n",
    "    'l1_reg_1': 2.3881377401899324e-05,\n",
    "    'dropout_1': 0.3,\n",
    "    'units_2': 48,\n",
    "    'l1_reg_2': 8.711638700132924e-05,\n",
    "    'dropout_2': 0.1,\n",
    "    'units_3': 96,\n",
    "    'l1_reg_3': 9.614970823920257e-06,\n",
    "    'dropout_3': 0.1,\n",
    "    'units_4': 48,\n",
    "    'l1_reg_4': 0.0008184986648518178,\n",
    "    'dropout_4': 0.5\n",
    "}\n",
    "\n",
    "# Build the model using the optimal hyperparameters\n",
    "ANN = Sequential([\n",
    "    Input(shape=(X_train.shape[1],)),\n",
    "    Dense(optimal_params['units_0'], activation='relu', kernel_regularizer=l1(optimal_params['l1_reg_0']*1.5)),\n",
    "    BatchNormalization(),\n",
    "    Dropout(optimal_params['dropout_0']*1.5),\n",
    "    Dense(optimal_params['units_1'], activation='relu', kernel_regularizer=l1(optimal_params['l1_reg_1']*1.5)),\n",
    "    BatchNormalization(),\n",
    "    Dropout(optimal_params['dropout_1']*1.5),\n",
    "    #Dense(optimal_params['units_2'], activation='relu', kernel_regularizer=l1(optimal_params['l1_reg_2'])),\n",
    "    #Dropout(optimal_params['dropout_2']),\n",
    "    Dense(optimal_params['units_3'], activation='relu', kernel_regularizer=l1(optimal_params['l1_reg_3']*1.5)),\n",
    "    BatchNormalization(),\n",
    "    Dropout(optimal_params['dropout_3']*1.5),\n",
    "    Dense(optimal_params['units_4'], activation='relu', kernel_regularizer=l1(optimal_params['l1_reg_4']*1.5)),\n",
    "    BatchNormalization(),\n",
    "    Dropout(optimal_params['dropout_4']*1.5),\n",
    "    Dense(1, activation='sigmoid')  \n",
    "])\n",
    "\n",
    "ANN.compile(optimizer=Adam(learning_rate=optimal_params['learning_rate']),\n",
    "            loss='binary_crossentropy',\n",
    "            metrics=['accuracy', Recall()])\n",
    "\n",
    "# Learning rate schedulers\n",
    "lr_scheduler = ReduceLROnPlateau(\n",
    "    monitor='val_loss', \n",
    "    factor=0.5, \n",
    "    patience=3, \n",
    "    verbose=1\n",
    ")\n",
    "\n",
    "class_weights = compute_class_weight('balanced', classes=np.unique(y_train), y=y_train)\n",
    "\n",
    "# Converting to a dictionary format expected by Keras\n",
    "class_weight_dict = {i: class_weights[i] for i in range(len(class_weights))}\n",
    "\n",
    "# Train the model\n",
    "history = ANN.fit(\n",
    "    X_train, y_train,\n",
    "    validation_data=(X_test, y_test),\n",
    "    epochs=20,\n",
    "    batch_size=32,\n",
    "    verbose=1,\n",
    "    class_weight=class_weight_dict,\n",
    "    callbacks=[lr_scheduler])\n",
    "\n",
    "# Evaluate the model\n",
    "loss, accuracy, recall = ANN.evaluate(X_test, y_test)\n",
    "print(f\"Validation Loss: {loss}, Validation Accuracy: {accuracy}, Validation Recall: {recall}\")\n"
   ]
  },
  {
   "cell_type": "code",
   "execution_count": 42,
   "id": "2280d31a-3bfe-4676-abff-0a9ef22bba41",
   "metadata": {},
   "outputs": [
    {
     "name": "stdout",
     "output_type": "stream",
     "text": [
      "\u001b[1m279/279\u001b[0m \u001b[32m━━━━━━━━━━━━━━━━━━━━\u001b[0m\u001b[37m\u001b[0m \u001b[1m1s\u001b[0m 1ms/step\n",
      "              precision    recall  f1-score   support\n",
      "\n",
      "           0       0.97      0.81      0.88      7898\n",
      "           1       0.35      0.82      0.50      1002\n",
      "\n",
      "    accuracy                           0.81      8900\n",
      "   macro avg       0.66      0.82      0.69      8900\n",
      "weighted avg       0.90      0.81      0.84      8900\n",
      "\n"
     ]
    }
   ],
   "source": [
    "from sklearn.metrics import classification_report\n",
    "\n",
    "y_pred = (ANN.predict(X_test) > 0.5).astype(\"int32\")  \n",
    "\n",
    "print(classification_report(y_test, y_pred))"
   ]
  },
  {
   "cell_type": "code",
   "execution_count": null,
   "id": "560b101c-001f-412c-89bc-eb7f74472d38",
   "metadata": {},
   "outputs": [],
   "source": []
  },
  {
   "cell_type": "markdown",
   "id": "8bdfc6ed-5c87-4d2b-8286-f4e8b5b83ebe",
   "metadata": {},
   "source": [
    "##### Model Evaluation"
   ]
  },
  {
   "cell_type": "code",
   "execution_count": 43,
   "id": "a059b40e-14da-46ad-a8b9-e550cab1e7a9",
   "metadata": {},
   "outputs": [
    {
     "name": "stdout",
     "output_type": "stream",
     "text": [
      "\u001b[1m1975/1975\u001b[0m \u001b[32m━━━━━━━━━━━━━━━━━━━━\u001b[0m\u001b[37m\u001b[0m \u001b[1m1s\u001b[0m 741us/step\n",
      "\u001b[1m279/279\u001b[0m \u001b[32m━━━━━━━━━━━━━━━━━━━━\u001b[0m\u001b[37m\u001b[0m \u001b[1m0s\u001b[0m 981us/step\n",
      "Training Recall: 0.8879\n",
      "Test Recall: 0.8244\n"
     ]
    }
   ],
   "source": [
    "train_test_recall(ANN, X_train, y_train, X_test, y_test)"
   ]
  },
  {
   "cell_type": "code",
   "execution_count": 44,
   "id": "cff91d38-eef6-438c-adda-5d547cfeec62",
   "metadata": {},
   "outputs": [
    {
     "name": "stdout",
     "output_type": "stream",
     "text": [
      "Stratified CV Accuracy for each fold: [0.7970786690711975, 0.7947190999984741, 0.7987640500068665, 0.8179571032524109, 0.8054837584495544]\n",
      "Mean Stratified CV Overall Accuracy: 0.8028005361557007\n"
     ]
    },
    {
     "data": {
      "text/plain": [
       "np.float64(0.8028005361557007)"
      ]
     },
     "execution_count": 44,
     "metadata": {},
     "output_type": "execute_result"
    }
   ],
   "source": [
    "SKF_CV_accuracy(ANN, X, y, epochs=20, batch_size=32)"
   ]
  },
  {
   "cell_type": "code",
   "execution_count": 26,
   "id": "2abe759c-c7c0-4c6d-975a-4da45ec4b308",
   "metadata": {},
   "outputs": [
    {
     "name": "stdout",
     "output_type": "stream",
     "text": [
      "\u001b[1m279/279\u001b[0m \u001b[32m━━━━━━━━━━━━━━━━━━━━\u001b[0m\u001b[37m\u001b[0m \u001b[1m1s\u001b[0m 3ms/step\n",
      "\u001b[1m279/279\u001b[0m \u001b[32m━━━━━━━━━━━━━━━━━━━━\u001b[0m\u001b[37m\u001b[0m \u001b[1m1s\u001b[0m 2ms/step\n",
      "\u001b[1m279/279\u001b[0m \u001b[32m━━━━━━━━━━━━━━━━━━━━\u001b[0m\u001b[37m\u001b[0m \u001b[1m2s\u001b[0m 6ms/step\n",
      "\u001b[1m279/279\u001b[0m \u001b[32m━━━━━━━━━━━━━━━━━━━━\u001b[0m\u001b[37m\u001b[0m \u001b[1m1s\u001b[0m 3ms/step\n",
      "\u001b[1m279/279\u001b[0m \u001b[32m━━━━━━━━━━━━━━━━━━━━\u001b[0m\u001b[37m\u001b[0m \u001b[1m2s\u001b[0m 3ms/step\n",
      "Class '1' Recall for each fold: [np.float64(0.811377245508982), np.float64(0.8213572854291418), np.float64(0.839481555333998), np.float64(0.8473053892215568), np.float64(0.8383233532934131)]\n",
      "Mean Class '1' Recall across all folds: 0.8315689657574182\n"
     ]
    },
    {
     "data": {
      "text/plain": [
       "np.float64(0.8315689657574182)"
      ]
     },
     "execution_count": 26,
     "metadata": {},
     "output_type": "execute_result"
    }
   ],
   "source": [
    "CV_class1_recall(ANN, X, y, epochs=20, batch_size=32)"
   ]
  },
  {
   "cell_type": "code",
   "execution_count": 32,
   "id": "70f50f91-7ec9-4d90-969d-807c7e14835a",
   "metadata": {},
   "outputs": [
    {
     "name": "stdout",
     "output_type": "stream",
     "text": [
      "\u001b[1m279/279\u001b[0m \u001b[32m━━━━━━━━━━━━━━━━━━━━\u001b[0m\u001b[37m\u001b[0m \u001b[1m1s\u001b[0m 3ms/step\n",
      "\u001b[1m279/279\u001b[0m \u001b[32m━━━━━━━━━━━━━━━━━━━━\u001b[0m\u001b[37m\u001b[0m \u001b[1m1s\u001b[0m 3ms/step\n",
      "\u001b[1m279/279\u001b[0m \u001b[32m━━━━━━━━━━━━━━━━━━━━\u001b[0m\u001b[37m\u001b[0m \u001b[1m1s\u001b[0m 3ms/step\n",
      "\u001b[1m279/279\u001b[0m \u001b[32m━━━━━━━━━━━━━━━━━━━━\u001b[0m\u001b[37m\u001b[0m \u001b[1m1s\u001b[0m 3ms/step\n",
      "\u001b[1m279/279\u001b[0m \u001b[32m━━━━━━━━━━━━━━━━━━━━\u001b[0m\u001b[37m\u001b[0m \u001b[1m1s\u001b[0m 3ms/step\n",
      "Class '0' Recall for each fold: [np.float64(0.8081792858951633), np.float64(0.8185616611800456), np.float64(0.787387615550209), np.float64(0.8237305305812334), np.float64(0.7511713308851462)]\n",
      "Mean Class '0' Recall across all folds: 0.7978060848183595\n"
     ]
    },
    {
     "data": {
      "text/plain": [
       "np.float64(0.7978060848183595)"
      ]
     },
     "execution_count": 32,
     "metadata": {},
     "output_type": "execute_result"
    }
   ],
   "source": [
    "CV_class0_recall(ANN, X, y, epochs=20, batch_size=32)"
   ]
  },
  {
   "cell_type": "code",
   "execution_count": 33,
   "id": "067ef3fb-e27d-4661-afe6-81a80238ef67",
   "metadata": {},
   "outputs": [
    {
     "name": "stdout",
     "output_type": "stream",
     "text": [
      "\u001b[1m279/279\u001b[0m \u001b[32m━━━━━━━━━━━━━━━━━━━━\u001b[0m\u001b[37m\u001b[0m \u001b[1m1s\u001b[0m 3ms/step\n",
      "\u001b[1m279/279\u001b[0m \u001b[32m━━━━━━━━━━━━━━━━━━━━\u001b[0m\u001b[37m\u001b[0m \u001b[1m1s\u001b[0m 3ms/step\n",
      "\u001b[1m279/279\u001b[0m \u001b[32m━━━━━━━━━━━━━━━━━━━━\u001b[0m\u001b[37m\u001b[0m \u001b[1m2s\u001b[0m 7ms/step\n",
      "\u001b[1m279/279\u001b[0m \u001b[32m━━━━━━━━━━━━━━━━━━━━\u001b[0m\u001b[37m\u001b[0m \u001b[1m1s\u001b[0m 3ms/step\n",
      "\u001b[1m279/279\u001b[0m \u001b[32m━━━━━━━━━━━━━━━━━━━━\u001b[0m\u001b[37m\u001b[0m \u001b[1m1s\u001b[0m 3ms/step\n",
      "Overall Recall for each fold: [np.float64(0.8043912175648703), np.float64(0.810379241516966), np.float64(0.8654037886340977), np.float64(0.8592814371257484), np.float64(0.8493013972055888)]\n",
      "Mean Overall Recall across all folds: 0.8377514164094542\n"
     ]
    },
    {
     "data": {
      "text/plain": [
       "np.float64(0.8377514164094542)"
      ]
     },
     "execution_count": 33,
     "metadata": {},
     "output_type": "execute_result"
    }
   ],
   "source": [
    "CV_recall(ANN, X, y, epochs=20, batch_size=32)"
   ]
  },
  {
   "cell_type": "code",
   "execution_count": 47,
   "id": "c4acceb2-23b0-4e2e-845d-90c771da0809",
   "metadata": {},
   "outputs": [
    {
     "name": "stdout",
     "output_type": "stream",
     "text": [
      "\u001b[1m279/279\u001b[0m \u001b[32m━━━━━━━━━━━━━━━━━━━━\u001b[0m\u001b[37m\u001b[0m \u001b[1m0s\u001b[0m 1ms/step\n",
      "[[6393 1505]\n",
      " [ 176  826]]\n"
     ]
    },
    {
     "data": {
      "image/png": "[encoded data removed]",
      "text/plain": [
       "<Figure size 300x300 with 2 Axes>"
      ]
     },
     "metadata": {},
     "output_type": "display_data"
    }
   ],
   "source": [
    "plot_confusion_matrix(ANN, X_test, y_test, class_names=[0,1])"
   ]
  },
  {
   "cell_type": "code",
   "execution_count": 45,
   "id": "7fb0bfdd-9e32-4454-a3c3-7b9405db5d1f",
   "metadata": {},
   "outputs": [
    {
     "name": "stdout",
     "output_type": "stream",
     "text": [
      "ROC-AUC: 0.82\n"
     ]
    },
    {
     "data": {
      "image/png": "[encoded data removed]",
      "text/plain": [
       "<Figure size 640x480 with 1 Axes>"
      ]
     },
     "metadata": {},
     "output_type": "display_data"
    }
   ],
   "source": [
    "ROC_AUC_plot(y_test, y_pred)"
   ]
  },
  {
   "cell_type": "code",
   "execution_count": 48,
   "id": "738d52fd-f63c-4712-a27f-3373dd98fd14",
   "metadata": {},
   "outputs": [
    {
     "name": "stdout",
     "output_type": "stream",
     "text": [
      "dict_keys(['accuracy', 'loss', 'recall_4', 'val_accuracy', 'val_loss', 'val_recall_4', 'learning_rate'])\n"
     ]
    }
   ],
   "source": [
    "print(history.history.keys())"
   ]
  },
  {
   "cell_type": "code",
   "execution_count": 49,
   "id": "fc47d12b-e572-41dc-aa49-bf31276da4ff",
   "metadata": {},
   "outputs": [
    {
     "data": {
      "image/png": "[encoded data removed]",
      "text/plain": [
       "<Figure size 600x300 with 1 Axes>"
      ]
     },
     "metadata": {},
     "output_type": "display_data"
    },
    {
     "data": {
      "image/png": "[encoded data removed]",
      "text/plain": [
       "<Figure size 600x300 with 1 Axes>"
      ]
     },
     "metadata": {},
     "output_type": "display_data"
    }
   ],
   "source": [
    "learning_curve(history, 'recall_4', 'val_recall_4')"
   ]
  },
  {
   "cell_type": "code",
   "execution_count": null,
   "id": "dc1442da-96f9-443f-b5a6-fc4e34745ea6",
   "metadata": {},
   "outputs": [],
   "source": []
  }
 ],
 "metadata": {
  "kernelspec": {
   "display_name": "Python 3 (ipykernel)",
   "language": "python",
   "name": "python3"
  },
  "language_info": {
   "codemirror_mode": {
    "name": "ipython",
    "version": 3
   },
   "file_extension": ".py",
   "mimetype": "text/x-python",
   "name": "python",
   "nbconvert_exporter": "python",
   "pygments_lexer": "ipython3",
   "version": "3.12.7"
  }
 },
 "nbformat": 4,
 "nbformat_minor": 5
}
